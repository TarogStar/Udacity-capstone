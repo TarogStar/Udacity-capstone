{
  "cells": [
    {
      "cell_type": "markdown",
      "source": [
        "# Automated ML\n",
        "\n",
        "Import dependencies used throughout the project and connect to a computer cluster."
      ],
      "metadata": {}
    },
    {
      "cell_type": "code",
      "source": [
        "import azureml.core\n",
        "from azureml.core.experiment import Experiment\n",
        "from azureml.core.workspace import Workspace\n",
        "from azureml.train.automl import AutoMLConfig\n",
        "from azureml.core.dataset import Dataset\n",
        "\n",
        "from azureml.core.compute import AmlCompute\n",
        "from azureml.core.compute import ComputeTarget\n",
        "from azureml.core.compute_target import ComputeTargetException\n",
        "\n",
        "amlcompute_cluster_name = \"ds12-compute\"\n",
        "ws = Workspace.from_config()\n",
        "# Verify that cluster does not exist already\n",
        "try:\n",
        "    compute_target = ComputeTarget(workspace=ws, name=amlcompute_cluster_name)\n",
        "    print('Found existing cluster, use it.')\n",
        "except ComputeTargetException:\n",
        "    compute_config = AmlCompute.provisioning_configuration(vm_size='STANDARD_D2_V2', max_nodes=4)\n",
        "    compute_target = ComputeTarget.create(ws, amlcompute_cluster_name, compute_config)"
      ],
      "outputs": [
        {
          "output_type": "stream",
          "name": "stdout",
          "text": [
            "Found existing cluster, use it.\n"
          ]
        }
      ],
      "execution_count": 1,
      "metadata": {
        "gather": {
          "logged": 1612321213766
        },
        "jupyter": {
          "outputs_hidden": false,
          "source_hidden": false
        },
        "nteract": {
          "transient": {
            "deleting": false
          }
        }
      }
    },
    {
      "cell_type": "markdown",
      "source": [
        "## Dataset\n",
        "\n",
        "### Overview\n",
        "The dataset is from applications for employment, as well as information on if they were hired and how long they have worked for the company.  The dataset is not publically available, but the task is to train to those applications that will be hired and work the longest for the company to predict for future applications where they should focus their efforts.  The dataset is in my google drive currently to make this part work.  I did have to pare down the data to stay under 100 MB limit so that it would directly download.\n"
      ],
      "metadata": {}
    },
    {
      "cell_type": "code",
      "source": [
        "\n",
        "datapath = \"https://drive.google.com/uc?export=download&id=19-V0WLC9o10S2ncmhqB7mcKchG7W6v7J\"\n",
        "# choose a name for experiment\n",
        "experiment_name = 'Application-Scoring'\n",
        "\n",
        "experiment=Experiment(ws, experiment_name)\n",
        "key = \"Trucker Applications\"\n",
        "\n",
        "if key in ws.datasets.keys(): \n",
        "        dataset = ws.datasets[key] \n",
        "else\n",
        "        dataset = TabularDatasetFactory.from_delimited_files(path=datapath)\n",
        "\n",
        "\n",
        "df = dataset.to_pandas_dataframe()\n",
        "df.describe()"
      ],
      "outputs": [
        {
          "output_type": "execute_result",
          "execution_count": 2,
          "data": {
            "text/plain": "       app.cre_AppId  app.cre_Experience  app.cre_MonthsExperienceinPast36  \\\ncount   2.854150e+05          220.000000                        218.000000   \nmean    4.046480e+06           11.040909                          3.733945   \nstd     8.238245e+04           27.337117                          9.471901   \nmin     3.903790e+06            0.000000                          0.000000   \n25%     3.975136e+06            0.000000                          0.000000   \n50%     4.046480e+06            0.000000                          0.000000   \n75%     4.117822e+06            2.000000                          0.000000   \nmax     4.189172e+06          120.000000                         36.000000   \n\n       app.cre_Veteran  app.cre_WantTeamDriver  app.cre_CDLType  \\\ncount     2.852330e+05            3.570000e+02     2.853810e+05   \nmean      1.711400e+08            1.711400e+08     1.711400e+08   \nstd       2.854830e-01            2.778276e-01     1.072979e+00   \nmin       1.711400e+08            1.711400e+08     1.711400e+08   \n25%       1.711400e+08            1.711400e+08     1.711400e+08   \n50%       1.711400e+08            1.711400e+08     1.711400e+08   \n75%       1.711400e+08            1.711400e+08     1.711400e+08   \nmax       1.711400e+08            1.711400e+08     1.711400e+08   \n\n       app.cre_ScoreCurrent  app.cre_ScoreInitial  app.cre_VettingStatus  \\\ncount         200877.000000         285149.000000           2.837860e+05   \nmean               3.418679              3.744193           1.711400e+08   \nstd                0.986843              0.692650           3.435073e-01   \nmin                0.000000              1.000000           1.711400e+08   \n25%                3.000000              3.000000           1.711400e+08   \n50%                4.000000              4.000000           1.711400e+08   \n75%                4.000000              4.000000           1.711400e+08   \nmax                5.000000              5.000000           1.711400e+08   \n\n       app.cre_AccidentCount  ...  cre_washonorablydischarged  \\\ncount           1.031600e+04  ...                1.078500e+04   \nmean            1.711400e+08  ...                1.709020e+08   \nstd             6.942623e-01  ...                6.378301e+06   \nmin             1.711400e+08  ...                0.000000e+00   \n25%             1.711400e+08  ...                1.711400e+08   \n50%             1.711400e+08  ...                1.711400e+08   \n75%             1.711400e+08  ...                1.711400e+08   \nmax             1.711400e+08  ...                1.711400e+08   \n\n       cre_recklessdrivingcount  cre_driverchewtobacco  cre_driversmoker  \\\ncount              1.368000e+03           1.069900e+04      1.069900e+04   \nmean               1.711400e+08           1.711400e+08      1.711400e+08   \nstd                2.293318e-01           2.112776e-01      4.451481e-01   \nmin                1.711400e+08           1.711400e+08      1.711400e+08   \n25%                1.711400e+08           1.711400e+08      1.711400e+08   \n50%                1.711400e+08           1.711400e+08      1.711400e+08   \n75%                1.711400e+08           1.711400e+08      1.711400e+08   \nmax                1.711400e+08           1.711400e+08      1.711400e+08   \n\n       cre_drivervapeuser  cre_teamchewtobaccousers  cre_teamsmokers  \\\ncount        1.069900e+04              1.047000e+04     1.047800e+04   \nmean         1.711400e+08              1.711400e+08     1.711400e+08   \nstd          2.855365e-01              7.431314e-01     7.543622e-01   \nmin          1.711400e+08              1.711400e+08     1.711400e+08   \n25%          1.711400e+08              1.711400e+08     1.711400e+08   \n50%          1.711400e+08              1.711400e+08     1.711400e+08   \n75%          1.711400e+08              1.711400e+08     1.711400e+08   \nmax          1.711400e+08              1.711400e+08     1.711400e+08   \n\n       cre_teamvapeusers  cre_teamgender     workmonths  \ncount       1.048400e+04    10424.000000  285415.000000  \nmean        1.711400e+08        2.632771       0.466493  \nstd         7.601721e-01        0.650777       3.849076  \nmin         1.711400e+08        1.000000       0.000000  \n25%         1.711400e+08        2.000000       0.000000  \n50%         1.711400e+08        3.000000       0.000000  \n75%         1.711400e+08        3.000000       0.000000  \nmax         1.711400e+08        3.000000      83.000000  \n\n[8 rows x 30 columns]",
            "text/html": "<div>\n<style scoped>\n    .dataframe tbody tr th:only-of-type {\n        vertical-align: middle;\n    }\n\n    .dataframe tbody tr th {\n        vertical-align: top;\n    }\n\n    .dataframe thead th {\n        text-align: right;\n    }\n</style>\n<table border=\"1\" class=\"dataframe\">\n  <thead>\n    <tr style=\"text-align: right;\">\n      <th></th>\n      <th>app.cre_AppId</th>\n      <th>app.cre_Experience</th>\n      <th>app.cre_MonthsExperienceinPast36</th>\n      <th>app.cre_Veteran</th>\n      <th>app.cre_WantTeamDriver</th>\n      <th>app.cre_CDLType</th>\n      <th>app.cre_ScoreCurrent</th>\n      <th>app.cre_ScoreInitial</th>\n      <th>app.cre_VettingStatus</th>\n      <th>app.cre_AccidentCount</th>\n      <th>...</th>\n      <th>cre_washonorablydischarged</th>\n      <th>cre_recklessdrivingcount</th>\n      <th>cre_driverchewtobacco</th>\n      <th>cre_driversmoker</th>\n      <th>cre_drivervapeuser</th>\n      <th>cre_teamchewtobaccousers</th>\n      <th>cre_teamsmokers</th>\n      <th>cre_teamvapeusers</th>\n      <th>cre_teamgender</th>\n      <th>workmonths</th>\n    </tr>\n  </thead>\n  <tbody>\n    <tr>\n      <th>count</th>\n      <td>2.854150e+05</td>\n      <td>220.000000</td>\n      <td>218.000000</td>\n      <td>2.852330e+05</td>\n      <td>3.570000e+02</td>\n      <td>2.853810e+05</td>\n      <td>200877.000000</td>\n      <td>285149.000000</td>\n      <td>2.837860e+05</td>\n      <td>1.031600e+04</td>\n      <td>...</td>\n      <td>1.078500e+04</td>\n      <td>1.368000e+03</td>\n      <td>1.069900e+04</td>\n      <td>1.069900e+04</td>\n      <td>1.069900e+04</td>\n      <td>1.047000e+04</td>\n      <td>1.047800e+04</td>\n      <td>1.048400e+04</td>\n      <td>10424.000000</td>\n      <td>285415.000000</td>\n    </tr>\n    <tr>\n      <th>mean</th>\n      <td>4.046480e+06</td>\n      <td>11.040909</td>\n      <td>3.733945</td>\n      <td>1.711400e+08</td>\n      <td>1.711400e+08</td>\n      <td>1.711400e+08</td>\n      <td>3.418679</td>\n      <td>3.744193</td>\n      <td>1.711400e+08</td>\n      <td>1.711400e+08</td>\n      <td>...</td>\n      <td>1.709020e+08</td>\n      <td>1.711400e+08</td>\n      <td>1.711400e+08</td>\n      <td>1.711400e+08</td>\n      <td>1.711400e+08</td>\n      <td>1.711400e+08</td>\n      <td>1.711400e+08</td>\n      <td>1.711400e+08</td>\n      <td>2.632771</td>\n      <td>0.466493</td>\n    </tr>\n    <tr>\n      <th>std</th>\n      <td>8.238245e+04</td>\n      <td>27.337117</td>\n      <td>9.471901</td>\n      <td>2.854830e-01</td>\n      <td>2.778276e-01</td>\n      <td>1.072979e+00</td>\n      <td>0.986843</td>\n      <td>0.692650</td>\n      <td>3.435073e-01</td>\n      <td>6.942623e-01</td>\n      <td>...</td>\n      <td>6.378301e+06</td>\n      <td>2.293318e-01</td>\n      <td>2.112776e-01</td>\n      <td>4.451481e-01</td>\n      <td>2.855365e-01</td>\n      <td>7.431314e-01</td>\n      <td>7.543622e-01</td>\n      <td>7.601721e-01</td>\n      <td>0.650777</td>\n      <td>3.849076</td>\n    </tr>\n    <tr>\n      <th>min</th>\n      <td>3.903790e+06</td>\n      <td>0.000000</td>\n      <td>0.000000</td>\n      <td>1.711400e+08</td>\n      <td>1.711400e+08</td>\n      <td>1.711400e+08</td>\n      <td>0.000000</td>\n      <td>1.000000</td>\n      <td>1.711400e+08</td>\n      <td>1.711400e+08</td>\n      <td>...</td>\n      <td>0.000000e+00</td>\n      <td>1.711400e+08</td>\n      <td>1.711400e+08</td>\n      <td>1.711400e+08</td>\n      <td>1.711400e+08</td>\n      <td>1.711400e+08</td>\n      <td>1.711400e+08</td>\n      <td>1.711400e+08</td>\n      <td>1.000000</td>\n      <td>0.000000</td>\n    </tr>\n    <tr>\n      <th>25%</th>\n      <td>3.975136e+06</td>\n      <td>0.000000</td>\n      <td>0.000000</td>\n      <td>1.711400e+08</td>\n      <td>1.711400e+08</td>\n      <td>1.711400e+08</td>\n      <td>3.000000</td>\n      <td>3.000000</td>\n      <td>1.711400e+08</td>\n      <td>1.711400e+08</td>\n      <td>...</td>\n      <td>1.711400e+08</td>\n      <td>1.711400e+08</td>\n      <td>1.711400e+08</td>\n      <td>1.711400e+08</td>\n      <td>1.711400e+08</td>\n      <td>1.711400e+08</td>\n      <td>1.711400e+08</td>\n      <td>1.711400e+08</td>\n      <td>2.000000</td>\n      <td>0.000000</td>\n    </tr>\n    <tr>\n      <th>50%</th>\n      <td>4.046480e+06</td>\n      <td>0.000000</td>\n      <td>0.000000</td>\n      <td>1.711400e+08</td>\n      <td>1.711400e+08</td>\n      <td>1.711400e+08</td>\n      <td>4.000000</td>\n      <td>4.000000</td>\n      <td>1.711400e+08</td>\n      <td>1.711400e+08</td>\n      <td>...</td>\n      <td>1.711400e+08</td>\n      <td>1.711400e+08</td>\n      <td>1.711400e+08</td>\n      <td>1.711400e+08</td>\n      <td>1.711400e+08</td>\n      <td>1.711400e+08</td>\n      <td>1.711400e+08</td>\n      <td>1.711400e+08</td>\n      <td>3.000000</td>\n      <td>0.000000</td>\n    </tr>\n    <tr>\n      <th>75%</th>\n      <td>4.117822e+06</td>\n      <td>2.000000</td>\n      <td>0.000000</td>\n      <td>1.711400e+08</td>\n      <td>1.711400e+08</td>\n      <td>1.711400e+08</td>\n      <td>4.000000</td>\n      <td>4.000000</td>\n      <td>1.711400e+08</td>\n      <td>1.711400e+08</td>\n      <td>...</td>\n      <td>1.711400e+08</td>\n      <td>1.711400e+08</td>\n      <td>1.711400e+08</td>\n      <td>1.711400e+08</td>\n      <td>1.711400e+08</td>\n      <td>1.711400e+08</td>\n      <td>1.711400e+08</td>\n      <td>1.711400e+08</td>\n      <td>3.000000</td>\n      <td>0.000000</td>\n    </tr>\n    <tr>\n      <th>max</th>\n      <td>4.189172e+06</td>\n      <td>120.000000</td>\n      <td>36.000000</td>\n      <td>1.711400e+08</td>\n      <td>1.711400e+08</td>\n      <td>1.711400e+08</td>\n      <td>5.000000</td>\n      <td>5.000000</td>\n      <td>1.711400e+08</td>\n      <td>1.711400e+08</td>\n      <td>...</td>\n      <td>1.711400e+08</td>\n      <td>1.711400e+08</td>\n      <td>1.711400e+08</td>\n      <td>1.711400e+08</td>\n      <td>1.711400e+08</td>\n      <td>1.711400e+08</td>\n      <td>1.711400e+08</td>\n      <td>1.711400e+08</td>\n      <td>3.000000</td>\n      <td>83.000000</td>\n    </tr>\n  </tbody>\n</table>\n<p>8 rows × 30 columns</p>\n</div>"
          },
          "metadata": {}
        }
      ],
      "execution_count": 2,
      "metadata": {
        "gather": {
          "logged": 1612321231086
        },
        "jupyter": {
          "outputs_hidden": false,
          "source_hidden": false
        },
        "nteract": {
          "transient": {
            "deleting": false
          }
        }
      }
    },
    {
      "cell_type": "markdown",
      "source": [
        "## AutoML Configuration\n",
        "\n",
        "The data is very heavily weighted towards applications that are never hired, so I am using the weighted Area Under the Curve as the primary metric, as that should help account for the natural data skew towards the zero months worked.  \n",
        "I am attempting a classification that will bucket the number of months worked, although a regression method may be used as well.\n",
        "I am running this in my own instance, and the timeout needed to be higher because of the large number of records in the dataset."
      ],
      "metadata": {}
    },
    {
      "cell_type": "code",
      "source": [
        "automl_settings = {\n",
        "    \"experiment_timeout_minutes\": 30,\n",
        "    \"max_concurrent_iterations\": 4,\n",
        "    \"primary_metric\" : 'AUC_weighted'\n",
        "}\n",
        "project_folder = './automl-trucking-dataset'\n",
        "automl_config = AutoMLConfig(compute_target=compute_target,\n",
        "                             task = \"classification\",\n",
        "                             training_data=dataset,\n",
        "                             label_column_name=\"workmonths\",   \n",
        "                             path = project_folder,\n",
        "                             enable_early_stopping= True,\n",
        "                             featurization= 'auto',\n",
        "                             debug_log = \"automl_errors.log\",\n",
        "                             **automl_settings\n",
        "                            )"
      ],
      "outputs": [],
      "execution_count": 3,
      "metadata": {
        "gather": {
          "logged": 1612321250019
        },
        "jupyter": {
          "outputs_hidden": false,
          "source_hidden": false
        },
        "nteract": {
          "transient": {
            "deleting": false
          }
        }
      }
    },
    {
      "cell_type": "code",
      "source": [
        "remote_run = experiment.submit(automl_config)"
      ],
      "outputs": [
        {
          "output_type": "stream",
          "name": "stdout",
          "text": [
            "Running on remote.\n"
          ]
        }
      ],
      "execution_count": 8,
      "metadata": {
        "gather": {
          "logged": 1612062814932
        },
        "jupyter": {
          "outputs_hidden": false,
          "source_hidden": false
        },
        "nteract": {
          "transient": {
            "deleting": false
          }
        }
      }
    },
    {
      "cell_type": "markdown",
      "source": [
        "## Run Details\n",
        "\n",
        "Different models seemed to be able to handle the data better. AutoML tried quite a few different processing methods.  I chose categorization for this set of runs, and with the sparse data and the auto imputation that is done it will likely be better in future to manually correct some of the data before running this again."
      ],
      "metadata": {}
    },
    {
      "cell_type": "code",
      "source": [
        "\n",
        "from azureml.widgets import RunDetails\n",
        "RunDetails(remote_run).show()"
      ],
      "outputs": [
        {
          "output_type": "display_data",
          "data": {
            "text/plain": "_AutoMLWidget(widget_settings={'childWidgetDisplay': 'popup', 'send_telemetry': False, 'log_level': 'INFO', 's…",
            "application/vnd.jupyter.widget-view+json": {
              "version_major": 2,
              "version_minor": 0,
              "model_id": "e659686205c04cb2a78ffb7c96ed6a33"
            }
          },
          "metadata": {}
        },
        {
          "output_type": "display_data",
          "data": {
            "application/aml.mini.widget.v1": "{\"status\": \"Completed\", \"workbench_run_details_uri\": \"https://ml.azure.com/experiments/Application-Scoring/runs/AutoML_6d003079-c9d5-47b8-a7a1-b0de97860854?wsid=/subscriptions/473e7e3b-e0e5-4760-92a4-0b9e3c06f260/resourcegroups/MachineLearning/workspaces/MLTraining\", \"run_id\": \"AutoML_6d003079-c9d5-47b8-a7a1-b0de97860854\", \"run_properties\": {\"run_id\": \"AutoML_6d003079-c9d5-47b8-a7a1-b0de97860854\", \"created_utc\": \"2021-01-31T03:13:34.003409Z\", \"properties\": {\"num_iterations\": \"1000\", \"training_type\": \"TrainFull\", \"acquisition_function\": \"EI\", \"primary_metric\": \"AUC_weighted\", \"train_split\": \"0\", \"acquisition_parameter\": \"0\", \"num_cross_validation\": null, \"target\": \"ds12-compute\", \"AMLSettingsJsonString\": \"{\\\"path\\\":null,\\\"name\\\":\\\"Application-Scoring\\\",\\\"subscription_id\\\":\\\"473e7e3b-e0e5-4760-92a4-0b9e3c06f260\\\",\\\"resource_group\\\":\\\"MachineLearning\\\",\\\"workspace_name\\\":\\\"MLTraining\\\",\\\"region\\\":\\\"westus\\\",\\\"compute_target\\\":\\\"ds12-compute\\\",\\\"spark_service\\\":null,\\\"azure_service\\\":\\\"remote\\\",\\\"_local_managed_run_id\\\":null,\\\"many_models\\\":false,\\\"pipeline_fetch_max_batch_size\\\":1,\\\"iterations\\\":1000,\\\"primary_metric\\\":\\\"AUC_weighted\\\",\\\"task_type\\\":\\\"classification\\\",\\\"data_script\\\":null,\\\"validation_size\\\":0.0,\\\"n_cross_validations\\\":null,\\\"y_min\\\":null,\\\"y_max\\\":null,\\\"num_classes\\\":null,\\\"featurization\\\":\\\"auto\\\",\\\"_ignore_package_version_incompatibilities\\\":false,\\\"is_timeseries\\\":false,\\\"max_cores_per_iteration\\\":1,\\\"max_concurrent_iterations\\\":4,\\\"iteration_timeout_minutes\\\":null,\\\"mem_in_mb\\\":null,\\\"enforce_time_on_windows\\\":false,\\\"experiment_timeout_minutes\\\":180,\\\"experiment_exit_score\\\":null,\\\"whitelist_models\\\":null,\\\"blacklist_algos\\\":[\\\"TensorFlowLinearClassifier\\\",\\\"TensorFlowDNN\\\"],\\\"supported_models\\\":[\\\"MultinomialNaiveBayes\\\",\\\"BernoulliNaiveBayes\\\",\\\"DecisionTree\\\",\\\"LinearSVM\\\",\\\"GradientBoosting\\\",\\\"SVM\\\",\\\"KNN\\\",\\\"RandomForest\\\",\\\"ExtremeRandomTrees\\\",\\\"TensorFlowDNN\\\",\\\"AveragedPerceptronClassifier\\\",\\\"LogisticRegression\\\",\\\"TensorFlowLinearClassifier\\\",\\\"LightGBM\\\",\\\"SGD\\\",\\\"XGBoostClassifier\\\"],\\\"auto_blacklist\\\":true,\\\"blacklist_samples_reached\\\":false,\\\"exclude_nan_labels\\\":true,\\\"verbosity\\\":20,\\\"_debug_log\\\":\\\"azureml_automl.log\\\",\\\"show_warnings\\\":false,\\\"model_explainability\\\":true,\\\"service_url\\\":null,\\\"sdk_url\\\":null,\\\"sdk_packages\\\":null,\\\"enable_onnx_compatible_models\\\":false,\\\"enable_split_onnx_featurizer_estimator_models\\\":false,\\\"vm_type\\\":\\\"STANDARD_DS12_V2\\\",\\\"telemetry_verbosity\\\":20,\\\"send_telemetry\\\":true,\\\"enable_dnn\\\":false,\\\"scenario\\\":\\\"SDK-1.13.0\\\",\\\"environment_label\\\":null,\\\"force_text_dnn\\\":false,\\\"enable_feature_sweeping\\\":true,\\\"enable_early_stopping\\\":true,\\\"early_stopping_n_iters\\\":10,\\\"metrics\\\":null,\\\"enable_ensembling\\\":true,\\\"enable_stack_ensembling\\\":true,\\\"ensemble_iterations\\\":15,\\\"enable_tf\\\":false,\\\"enable_subsampling\\\":null,\\\"subsample_seed\\\":null,\\\"enable_nimbusml\\\":false,\\\"enable_streaming\\\":false,\\\"force_streaming\\\":false,\\\"track_child_runs\\\":true,\\\"allowed_private_models\\\":[],\\\"label_column_name\\\":\\\"workmonths\\\",\\\"weight_column_name\\\":null,\\\"cv_split_column_names\\\":null,\\\"enable_local_managed\\\":false,\\\"cost_mode\\\":1,\\\"lag_length\\\":0,\\\"metric_operation\\\":\\\"maximize\\\",\\\"preprocess\\\":true}\", \"DataPrepJsonString\": \"{\\\\\\\"training_data\\\\\\\": \\\\\\\"{\\\\\\\\\\\\\\\"blocks\\\\\\\\\\\\\\\": [{\\\\\\\\\\\\\\\"id\\\\\\\\\\\\\\\": \\\\\\\\\\\\\\\"f1ffd5d7-471f-4f22-b83b-091b1a0a2c70\\\\\\\\\\\\\\\", \\\\\\\\\\\\\\\"type\\\\\\\\\\\\\\\": \\\\\\\\\\\\\\\"Microsoft.DPrep.GetDatastoreFilesBlock\\\\\\\\\\\\\\\", \\\\\\\\\\\\\\\"arguments\\\\\\\\\\\\\\\": {\\\\\\\\\\\\\\\"datastores\\\\\\\\\\\\\\\": [{\\\\\\\\\\\\\\\"datastoreName\\\\\\\\\\\\\\\": \\\\\\\\\\\\\\\"workspaceblobstore\\\\\\\\\\\\\\\", \\\\\\\\\\\\\\\"path\\\\\\\\\\\\\\\": \\\\\\\\\\\\\\\"UI/01-08-2021_063737_UTC/AI Data modified.csv\\\\\\\\\\\\\\\", \\\\\\\\\\\\\\\"resourceGroup\\\\\\\\\\\\\\\": \\\\\\\\\\\\\\\"MachineLearning\\\\\\\\\\\\\\\", \\\\\\\\\\\\\\\"subscription\\\\\\\\\\\\\\\": \\\\\\\\\\\\\\\"473e7e3b-e0e5-4760-92a4-0b9e3c06f260\\\\\\\\\\\\\\\", \\\\\\\\\\\\\\\"workspaceName\\\\\\\\\\\\\\\": \\\\\\\\\\\\\\\"MLTraining\\\\\\\\\\\\\\\"}]}, \\\\\\\\\\\\\\\"localData\\\\\\\\\\\\\\\": {}, \\\\\\\\\\\\\\\"isEnabled\\\\\\\\\\\\\\\": true, \\\\\\\\\\\\\\\"name\\\\\\\\\\\\\\\": null, \\\\\\\\\\\\\\\"annotation\\\\\\\\\\\\\\\": null}, {\\\\\\\\\\\\\\\"id\\\\\\\\\\\\\\\": \\\\\\\\\\\\\\\"1389b157-4691-4060-8ae8-501869da8dfa\\\\\\\\\\\\\\\", \\\\\\\\\\\\\\\"type\\\\\\\\\\\\\\\": \\\\\\\\\\\\\\\"Microsoft.DPrep.ParseDelimitedBlock\\\\\\\\\\\\\\\", \\\\\\\\\\\\\\\"arguments\\\\\\\\\\\\\\\": {\\\\\\\\\\\\\\\"columnHeadersMode\\\\\\\\\\\\\\\": 1, \\\\\\\\\\\\\\\"fileEncoding\\\\\\\\\\\\\\\": 0, \\\\\\\\\\\\\\\"handleQuotedLineBreaks\\\\\\\\\\\\\\\": false, \\\\\\\\\\\\\\\"preview\\\\\\\\\\\\\\\": false, \\\\\\\\\\\\\\\"separator\\\\\\\\\\\\\\\": \\\\\\\\\\\\\\\",\\\\\\\\\\\\\\\", \\\\\\\\\\\\\\\"skipRows\\\\\\\\\\\\\\\": 0, \\\\\\\\\\\\\\\"skipRowsMode\\\\\\\\\\\\\\\": 0}, \\\\\\\\\\\\\\\"localData\\\\\\\\\\\\\\\": {}, \\\\\\\\\\\\\\\"isEnabled\\\\\\\\\\\\\\\": true, \\\\\\\\\\\\\\\"name\\\\\\\\\\\\\\\": null, \\\\\\\\\\\\\\\"annotation\\\\\\\\\\\\\\\": null}, {\\\\\\\\\\\\\\\"id\\\\\\\\\\\\\\\": \\\\\\\\\\\\\\\"b72aa6d9-e0f0-4dc6-a5b5-603dcc063693\\\\\\\\\\\\\\\", \\\\\\\\\\\\\\\"type\\\\\\\\\\\\\\\": \\\\\\\\\\\\\\\"Microsoft.DPrep.DropColumnsBlock\\\\\\\\\\\\\\\", \\\\\\\\\\\\\\\"arguments\\\\\\\\\\\\\\\": {\\\\\\\\\\\\\\\"columns\\\\\\\\\\\\\\\": {\\\\\\\\\\\\\\\"type\\\\\\\\\\\\\\\": 0, \\\\\\\\\\\\\\\"details\\\\\\\\\\\\\\\": {\\\\\\\\\\\\\\\"selectedColumns\\\\\\\\\\\\\\\": [\\\\\\\\\\\\\\\"Path\\\\\\\\\\\\\\\"]}}}, \\\\\\\\\\\\\\\"localData\\\\\\\\\\\\\\\": {}, \\\\\\\\\\\\\\\"isEnabled\\\\\\\\\\\\\\\": true, \\\\\\\\\\\\\\\"name\\\\\\\\\\\\\\\": null, \\\\\\\\\\\\\\\"annotation\\\\\\\\\\\\\\\": null}, {\\\\\\\\\\\\\\\"id\\\\\\\\\\\\\\\": \\\\\\\\\\\\\\\"6f2cee3a-c4fe-4476-a87c-e5fd4cf0a0b7\\\\\\\\\\\\\\\", \\\\\\\\\\\\\\\"type\\\\\\\\\\\\\\\": \\\\\\\\\\\\\\\"Microsoft.DPrep.SetColumnTypesBlock\\\\\\\\\\\\\\\", \\\\\\\\\\\\\\\"arguments\\\\\\\\\\\\\\\": {\\\\\\\\\\\\\\\"columnConversion\\\\\\\\\\\\\\\": [{\\\\\\\\\\\\\\\"column\\\\\\\\\\\\\\\": {\\\\\\\\\\\\\\\"type\\\\\\\\\\\\\\\": 2, \\\\\\\\\\\\\\\"details\\\\\\\\\\\\\\\": {\\\\\\\\\\\\\\\"selectedColumn\\\\\\\\\\\\\\\": \\\\\\\\\\\\\\\"Path\\\\\\\\\\\\\\\"}}, \\\\\\\\\\\\\\\"typeProperty\\\\\\\\\\\\\\\": 0}, {\\\\\\\\\\\\\\\"column\\\\\\\\\\\\\\\": {\\\\\\\\\\\\\\\"type\\\\\\\\\\\\\\\": 2, \\\\\\\\\\\\\\\"details\\\\\\\\\\\\\\\": {\\\\\\\\\\\\\\\"selectedColumn\\\\\\\\\\\\\\\": \\\\\\\\\\\\\\\"app.cre_AppId\\\\\\\\\\\\\\\"}}, \\\\\\\\\\\\\\\"typeProperty\\\\\\\\\\\\\\\": 2}, {\\\\\\\\\\\\\\\"column\\\\\\\\\\\\\\\": {\\\\\\\\\\\\\\\"type\\\\\\\\\\\\\\\": 2, \\\\\\\\\\\\\\\"details\\\\\\\\\\\\\\\": {\\\\\\\\\\\\\\\"selectedColumn\\\\\\\\\\\\\\\": \\\\\\\\\\\\\\\"app.cre_Experience\\\\\\\\\\\\\\\"}}, \\\\\\\\\\\\\\\"typeProperty\\\\\\\\\\\\\\\": 2}, {\\\\\\\\\\\\\\\"column\\\\\\\\\\\\\\\": {\\\\\\\\\\\\\\\"type\\\\\\\\\\\\\\\": 2, \\\\\\\\\\\\\\\"details\\\\\\\\\\\\\\\": {\\\\\\\\\\\\\\\"selectedColumn\\\\\\\\\\\\\\\": \\\\\\\\\\\\\\\"app.cre_MonthsExperienceinPast36\\\\\\\\\\\\\\\"}}, \\\\\\\\\\\\\\\"typeProperty\\\\\\\\\\\\\\\": 2}, {\\\\\\\\\\\\\\\"column\\\\\\\\\\\\\\\": {\\\\\\\\\\\\\\\"type\\\\\\\\\\\\\\\": 2, \\\\\\\\\\\\\\\"details\\\\\\\\\\\\\\\": {\\\\\\\\\\\\\\\"selectedColumn\\\\\\\\\\\\\\\": \\\\\\\\\\\\\\\"app.cre_PardotScore\\\\\\\\\\\\\\\"}}, \\\\\\\\\\\\\\\"typeProperty\\\\\\\\\\\\\\\": 0}, {\\\\\\\\\\\\\\\"column\\\\\\\\\\\\\\\": {\\\\\\\\\\\\\\\"type\\\\\\\\\\\\\\\": 2, \\\\\\\\\\\\\\\"details\\\\\\\\\\\\\\\": {\\\\\\\\\\\\\\\"selectedColumn\\\\\\\\\\\\\\\": \\\\\\\\\\\\\\\"app.cre_Veteran\\\\\\\\\\\\\\\"}}, \\\\\\\\\\\\\\\"typeProperty\\\\\\\\\\\\\\\": 2}, {\\\\\\\\\\\\\\\"column\\\\\\\\\\\\\\\": {\\\\\\\\\\\\\\\"type\\\\\\\\\\\\\\\": 2, \\\\\\\\\\\\\\\"details\\\\\\\\\\\\\\\": {\\\\\\\\\\\\\\\"selectedColumn\\\\\\\\\\\\\\\": \\\\\\\\\\\\\\\"app.cre_WantTeamDriver\\\\\\\\\\\\\\\"}}, \\\\\\\\\\\\\\\"typeProperty\\\\\\\\\\\\\\\": 2}, {\\\\\\\\\\\\\\\"column\\\\\\\\\\\\\\\": {\\\\\\\\\\\\\\\"type\\\\\\\\\\\\\\\": 2, \\\\\\\\\\\\\\\"details\\\\\\\\\\\\\\\": {\\\\\\\\\\\\\\\"selectedColumn\\\\\\\\\\\\\\\": \\\\\\\\\\\\\\\"app.cre_DriverApplicationSource\\\\\\\\\\\\\\\"}}, \\\\\\\\\\\\\\\"typeProperty\\\\\\\\\\\\\\\": 0}, {\\\\\\\\\\\\\\\"column\\\\\\\\\\\\\\\": {\\\\\\\\\\\\\\\"type\\\\\\\\\\\\\\\": 2, \\\\\\\\\\\\\\\"details\\\\\\\\\\\\\\\": {\\\\\\\\\\\\\\\"selectedColumn\\\\\\\\\\\\\\\": \\\\\\\\\\\\\\\"app.cre_RecordSource\\\\\\\\\\\\\\\"}}, \\\\\\\\\\\\\\\"typeProperty\\\\\\\\\\\\\\\": 0}, {\\\\\\\\\\\\\\\"column\\\\\\\\\\\\\\\": {\\\\\\\\\\\\\\\"type\\\\\\\\\\\\\\\": 2, \\\\\\\\\\\\\\\"details\\\\\\\\\\\\\\\": {\\\\\\\\\\\\\\\"selectedColumn\\\\\\\\\\\\\\\": \\\\\\\\\\\\\\\"app.cre_CDLType\\\\\\\\\\\\\\\"}}, \\\\\\\\\\\\\\\"typeProperty\\\\\\\\\\\\\\\": 2}, {\\\\\\\\\\\\\\\"column\\\\\\\\\\\\\\\": {\\\\\\\\\\\\\\\"type\\\\\\\\\\\\\\\": 2, \\\\\\\\\\\\\\\"details\\\\\\\\\\\\\\\": {\\\\\\\\\\\\\\\"selectedColumn\\\\\\\\\\\\\\\": \\\\\\\\\\\\\\\"app.cre_AccidentInformationProvided\\\\\\\\\\\\\\\"}}, \\\\\\\\\\\\\\\"typeProperty\\\\\\\\\\\\\\\": 1}, {\\\\\\\\\\\\\\\"column\\\\\\\\\\\\\\\": {\\\\\\\\\\\\\\\"type\\\\\\\\\\\\\\\": 2, \\\\\\\\\\\\\\\"details\\\\\\\\\\\\\\\": {\\\\\\\\\\\\\\\"selectedColumn\\\\\\\\\\\\\\\": \\\\\\\\\\\\\\\"app.cre_ContactInformationProvided\\\\\\\\\\\\\\\"}}, \\\\\\\\\\\\\\\"typeProperty\\\\\\\\\\\\\\\": 1}, {\\\\\\\\\\\\\\\"column\\\\\\\\\\\\\\\": {\\\\\\\\\\\\\\\"type\\\\\\\\\\\\\\\": 2, \\\\\\\\\\\\\\\"details\\\\\\\\\\\\\\\": {\\\\\\\\\\\\\\\"selectedColumn\\\\\\\\\\\\\\\": \\\\\\\\\\\\\\\"app.cre_CriminalInformationProvided\\\\\\\\\\\\\\\"}}, \\\\\\\\\\\\\\\"typeProperty\\\\\\\\\\\\\\\": 1}, {\\\\\\\\\\\\\\\"column\\\\\\\\\\\\\\\": {\\\\\\\\\\\\\\\"type\\\\\\\\\\\\\\\": 2, \\\\\\\\\\\\\\\"details\\\\\\\\\\\\\\\": {\\\\\\\\\\\\\\\"selectedColumn\\\\\\\\\\\\\\\": \\\\\\\\\\\\\\\"app.cre_TicketInformationProvided\\\\\\\\\\\\\\\"}}, \\\\\\\\\\\\\\\"typeProperty\\\\\\\\\\\\\\\": 1}, {\\\\\\\\\\\\\\\"column\\\\\\\\\\\\\\\": {\\\\\\\\\\\\\\\"type\\\\\\\\\\\\\\\": 2, \\\\\\\\\\\\\\\"details\\\\\\\\\\\\\\\": {\\\\\\\\\\\\\\\"selectedColumn\\\\\\\\\\\\\\\": \\\\\\\\\\\\\\\"app.cre_ScoreCurrent\\\\\\\\\\\\\\\"}}, \\\\\\\\\\\\\\\"typeProperty\\\\\\\\\\\\\\\": 3}, {\\\\\\\\\\\\\\\"column\\\\\\\\\\\\\\\": {\\\\\\\\\\\\\\\"type\\\\\\\\\\\\\\\": 2, \\\\\\\\\\\\\\\"details\\\\\\\\\\\\\\\": {\\\\\\\\\\\\\\\"selectedColumn\\\\\\\\\\\\\\\": \\\\\\\\\\\\\\\"app.cre_ScoreInitial\\\\\\\\\\\\\\\"}}, \\\\\\\\\\\\\\\"typeProperty\\\\\\\\\\\\\\\": 2}, {\\\\\\\\\\\\\\\"column\\\\\\\\\\\\\\\": {\\\\\\\\\\\\\\\"type\\\\\\\\\\\\\\\": 2, \\\\\\\\\\\\\\\"details\\\\\\\\\\\\\\\": {\\\\\\\\\\\\\\\"selectedColumn\\\\\\\\\\\\\\\": \\\\\\\\\\\\\\\"app.cre_VettingStatus\\\\\\\\\\\\\\\"}}, \\\\\\\\\\\\\\\"typeProperty\\\\\\\\\\\\\\\": 2}, {\\\\\\\\\\\\\\\"column\\\\\\\\\\\\\\\": {\\\\\\\\\\\\\\\"type\\\\\\\\\\\\\\\": 2, \\\\\\\\\\\\\\\"details\\\\\\\\\\\\\\\": {\\\\\\\\\\\\\\\"selectedColumn\\\\\\\\\\\\\\\": \\\\\\\\\\\\\\\"app.cre_AccidentCount\\\\\\\\\\\\\\\"}}, \\\\\\\\\\\\\\\"typeProperty\\\\\\\\\\\\\\\": 2}, {\\\\\\\\\\\\\\\"column\\\\\\\\\\\\\\\": {\\\\\\\\\\\\\\\"type\\\\\\\\\\\\\\\": 2, \\\\\\\\\\\\\\\"details\\\\\\\\\\\\\\\": {\\\\\\\\\\\\\\\"selectedColumn\\\\\\\\\\\\\\\": \\\\\\\\\\\\\\\"app.cre_DUICount\\\\\\\\\\\\\\\"}}, \\\\\\\\\\\\\\\"typeProperty\\\\\\\\\\\\\\\": 2}, {\\\\\\\\\\\\\\\"column\\\\\\\\\\\\\\\": {\\\\\\\\\\\\\\\"type\\\\\\\\\\\\\\\": 2, \\\\\\\\\\\\\\\"details\\\\\\\\\\\\\\\": {\\\\\\\\\\\\\\\"selectedColumn\\\\\\\\\\\\\\\": \\\\\\\\\\\\\\\"app.cre_MovingViolationCount\\\\\\\\\\\\\\\"}}, \\\\\\\\\\\\\\\"typeProperty\\\\\\\\\\\\\\\": 2}, {\\\\\\\\\\\\\\\"column\\\\\\\\\\\\\\\": {\\\\\\\\\\\\\\\"type\\\\\\\\\\\\\\\": 2, \\\\\\\\\\\\\\\"details\\\\\\\\\\\\\\\": {\\\\\\\\\\\\\\\"selectedColumn\\\\\\\\\\\\\\\": \\\\\\\\\\\\\\\"app.cre_SoftFicoScore\\\\\\\\\\\\\\\"}}, \\\\\\\\\\\\\\\"typeProperty\\\\\\\\\\\\\\\": 2}, {\\\\\\\\\\\\\\\"column\\\\\\\\\\\\\\\": {\\\\\\\\\\\\\\\"type\\\\\\\\\\\\\\\": 2, \\\\\\\\\\\\\\\"details\\\\\\\\\\\\\\\": {\\\\\\\\\\\\\\\"selectedColumn\\\\\\\\\\\\\\\": \\\\\\\\\\\\\\\"app.cre_CDLCLPExp\\\\\\\\\\\\\\\"}}, \\\\\\\\\\\\\\\"typeArguments\\\\\\\\\\\\\\\": {\\\\\\\\\\\\\\\"dateTimeFormats\\\\\\\\\\\\\\\": [\\\\\\\\\\\\\\\"%Y-%m-%d %H:%M:%S\\\\\\\\\\\\\\\"]}, \\\\\\\\\\\\\\\"typeProperty\\\\\\\\\\\\\\\": 0}, {\\\\\\\\\\\\\\\"column\\\\\\\\\\\\\\\": {\\\\\\\\\\\\\\\"type\\\\\\\\\\\\\\\": 2, \\\\\\\\\\\\\\\"details\\\\\\\\\\\\\\\": {\\\\\\\\\\\\\\\"selectedColumn\\\\\\\\\\\\\\\": \\\\\\\\\\\\\\\"app.cre_FelonyCount\\\\\\\\\\\\\\\"}}, \\\\\\\\\\\\\\\"typeProperty\\\\\\\\\\\\\\\": 2}, {\\\\\\\\\\\\\\\"column\\\\\\\\\\\\\\\": {\\\\\\\\\\\\\\\"type\\\\\\\\\\\\\\\": 2, \\\\\\\\\\\\\\\"details\\\\\\\\\\\\\\\": {\\\\\\\\\\\\\\\"selectedColumn\\\\\\\\\\\\\\\": \\\\\\\\\\\\\\\"address1_postalcode\\\\\\\\\\\\\\\"}}, \\\\\\\\\\\\\\\"typeProperty\\\\\\\\\\\\\\\": 2}, {\\\\\\\\\\\\\\\"column\\\\\\\\\\\\\\\": {\\\\\\\\\\\\\\\"type\\\\\\\\\\\\\\\": 2, \\\\\\\\\\\\\\\"details\\\\\\\\\\\\\\\": {\\\\\\\\\\\\\\\"selectedColumn\\\\\\\\\\\\\\\": \\\\\\\\\\\\\\\"cre_referralcode\\\\\\\\\\\\\\\"}}, \\\\\\\\\\\\\\\"typeProperty\\\\\\\\\\\\\\\": 0}, {\\\\\\\\\\\\\\\"column\\\\\\\\\\\\\\\": {\\\\\\\\\\\\\\\"type\\\\\\\\\\\\\\\": 2, \\\\\\\\\\\\\\\"details\\\\\\\\\\\\\\\": {\\\\\\\\\\\\\\\"selectedColumn\\\\\\\\\\\\\\\": \\\\\\\\\\\\\\\"cre_referralestimatedexperience\\\\\\\\\\\\\\\"}}, \\\\\\\\\\\\\\\"typeProperty\\\\\\\\\\\\\\\": 2}, {\\\\\\\\\\\\\\\"column\\\\\\\\\\\\\\\": {\\\\\\\\\\\\\\\"type\\\\\\\\\\\\\\\": 2, \\\\\\\\\\\\\\\"details\\\\\\\\\\\\\\\": {\\\\\\\\\\\\\\\"selectedColumn\\\\\\\\\\\\\\\": \\\\\\\\\\\\\\\"cre_referralsourceid\\\\\\\\\\\\\\\"}}, \\\\\\\\\\\\\\\"typeProperty\\\\\\\\\\\\\\\": 0}, {\\\\\\\\\\\\\\\"column\\\\\\\\\\\\\\\": {\\\\\\\\\\\\\\\"type\\\\\\\\\\\\\\\": 2, \\\\\\\\\\\\\\\"details\\\\\\\\\\\\\\\": {\\\\\\\\\\\\\\\"selectedColumn\\\\\\\\\\\\\\\": \\\\\\\\\\\\\\\"cre_accidentcount\\\\\\\\\\\\\\\"}}, \\\\\\\\\\\\\\\"typeProperty\\\\\\\\\\\\\\\": 2}, {\\\\\\\\\\\\\\\"column\\\\\\\\\\\\\\\": {\\\\\\\\\\\\\\\"type\\\\\\\\\\\\\\\": 2, \\\\\\\\\\\\\\\"details\\\\\\\\\\\\\\\": {\\\\\\\\\\\\\\\"selectedColumn\\\\\\\\\\\\\\\": \\\\\\\\\\\\\\\"cre_canpassdrugtest\\\\\\\\\\\\\\\"}}, \\\\\\\\\\\\\\\"typeProperty\\\\\\\\\\\\\\\": 1}, {\\\\\\\\\\\\\\\"column\\\\\\\\\\\\\\\": {\\\\\\\\\\\\\\\"type\\\\\\\\\\\\\\\": 2, \\\\\\\\\\\\\\\"details\\\\\\\\\\\\\\\": {\\\\\\\\\\\\\\\"selectedColumn\\\\\\\\\\\\\\\": \\\\\\\\\\\\\\\"cre_cdlclass\\\\\\\\\\\\\\\"}}, \\\\\\\\\\\\\\\"typeProperty\\\\\\\\\\\\\\\": 0}, {\\\\\\\\\\\\\\\"column\\\\\\\\\\\\\\\": {\\\\\\\\\\\\\\\"type\\\\\\\\\\\\\\\": 2, \\\\\\\\\\\\\\\"details\\\\\\\\\\\\\\\": {\\\\\\\\\\\\\\\"selectedColumn\\\\\\\\\\\\\\\": \\\\\\\\\\\\\\\"cre_cdlexp\\\\\\\\\\\\\\\"}}, \\\\\\\\\\\\\\\"typeProperty\\\\\\\\\\\\\\\": 2}, {\\\\\\\\\\\\\\\"column\\\\\\\\\\\\\\\": {\\\\\\\\\\\\\\\"type\\\\\\\\\\\\\\\": 2, \\\\\\\\\\\\\\\"details\\\\\\\\\\\\\\\": {\\\\\\\\\\\\\\\"selectedColumn\\\\\\\\\\\\\\\": \\\\\\\\\\\\\\\"cre_duicount\\\\\\\\\\\\\\\"}}, \\\\\\\\\\\\\\\"typeProperty\\\\\\\\\\\\\\\": 0}, {\\\\\\\\\\\\\\\"column\\\\\\\\\\\\\\\": {\\\\\\\\\\\\\\\"type\\\\\\\\\\\\\\\": 2, \\\\\\\\\\\\\\\"details\\\\\\\\\\\\\\\": {\\\\\\\\\\\\\\\"selectedColumn\\\\\\\\\\\\\\\": \\\\\\\\\\\\\\\"cre_hascdl\\\\\\\\\\\\\\\"}}, \\\\\\\\\\\\\\\"typeProperty\\\\\\\\\\\\\\\": 1}, {\\\\\\\\\\\\\\\"column\\\\\\\\\\\\\\\": {\\\\\\\\\\\\\\\"type\\\\\\\\\\\\\\\": 2, \\\\\\\\\\\\\\\"details\\\\\\\\\\\\\\\": {\\\\\\\\\\\\\\\"selectedColumn\\\\\\\\\\\\\\\": \\\\\\\\\\\\\\\"cre_honorablydischarged\\\\\\\\\\\\\\\"}}, \\\\\\\\\\\\\\\"typeProperty\\\\\\\\\\\\\\\": 1}, {\\\\\\\\\\\\\\\"column\\\\\\\\\\\\\\\": {\\\\\\\\\\\\\\\"type\\\\\\\\\\\\\\\": 2, \\\\\\\\\\\\\\\"details\\\\\\\\\\\\\\\": {\\\\\\\\\\\\\\\"selectedColumn\\\\\\\\\\\\\\\": \\\\\\\\\\\\\\\"cre_movingviolationcount\\\\\\\\\\\\\\\"}}, \\\\\\\\\\\\\\\"typeProperty\\\\\\\\\\\\\\\": 2}, {\\\\\\\\\\\\\\\"column\\\\\\\\\\\\\\\": {\\\\\\\\\\\\\\\"type\\\\\\\\\\\\\\\": 2, \\\\\\\\\\\\\\\"details\\\\\\\\\\\\\\\": {\\\\\\\\\\\\\\\"selectedColumn\\\\\\\\\\\\\\\": \\\\\\\\\\\\\\\"cre_recordsource\\\\\\\\\\\\\\\"}}, \\\\\\\\\\\\\\\"typeProperty\\\\\\\\\\\\\\\": 2}, {\\\\\\\\\\\\\\\"column\\\\\\\\\\\\\\\": {\\\\\\\\\\\\\\\"type\\\\\\\\\\\\\\\": 2, \\\\\\\\\\\\\\\"details\\\\\\\\\\\\\\\": {\\\\\\\\\\\\\\\"selectedColumn\\\\\\\\\\\\\\\": \\\\\\\\\\\\\\\"cre_veteran\\\\\\\\\\\\\\\"}}, \\\\\\\\\\\\\\\"typeProperty\\\\\\\\\\\\\\\": 1}, {\\\\\\\\\\\\\\\"column\\\\\\\\\\\\\\\": {\\\\\\\\\\\\\\\"type\\\\\\\\\\\\\\\": 2, \\\\\\\\\\\\\\\"details\\\\\\\\\\\\\\\": {\\\\\\\\\\\\\\\"selectedColumn\\\\\\\\\\\\\\\": \\\\\\\\\\\\\\\"cre_washonorablydischarged\\\\\\\\\\\\\\\"}}, \\\\\\\\\\\\\\\"typeProperty\\\\\\\\\\\\\\\": 2}, {\\\\\\\\\\\\\\\"column\\\\\\\\\\\\\\\": {\\\\\\\\\\\\\\\"type\\\\\\\\\\\\\\\": 2, \\\\\\\\\\\\\\\"details\\\\\\\\\\\\\\\": {\\\\\\\\\\\\\\\"selectedColumn\\\\\\\\\\\\\\\": \\\\\\\\\\\\\\\"cre_minsoftficoscore\\\\\\\\\\\\\\\"}}, \\\\\\\\\\\\\\\"typeProperty\\\\\\\\\\\\\\\": 0}, {\\\\\\\\\\\\\\\"column\\\\\\\\\\\\\\\": {\\\\\\\\\\\\\\\"type\\\\\\\\\\\\\\\": 2, \\\\\\\\\\\\\\\"details\\\\\\\\\\\\\\\": {\\\\\\\\\\\\\\\"selectedColumn\\\\\\\\\\\\\\\": \\\\\\\\\\\\\\\"cre_softficoscore\\\\\\\\\\\\\\\"}}, \\\\\\\\\\\\\\\"typeProperty\\\\\\\\\\\\\\\": 0}, {\\\\\\\\\\\\\\\"column\\\\\\\\\\\\\\\": {\\\\\\\\\\\\\\\"type\\\\\\\\\\\\\\\": 2, \\\\\\\\\\\\\\\"details\\\\\\\\\\\\\\\": {\\\\\\\\\\\\\\\"selectedColumn\\\\\\\\\\\\\\\": \\\\\\\\\\\\\\\"cre_militarydischargedon\\\\\\\\\\\\\\\"}}, \\\\\\\\\\\\\\\"typeArguments\\\\\\\\\\\\\\\": {\\\\\\\\\\\\\\\"dateTimeFormats\\\\\\\\\\\\\\\": [\\\\\\\\\\\\\\\"%m/%d/%Y %H:%M\\\\\\\\\\\\\\\"]}, \\\\\\\\\\\\\\\"typeProperty\\\\\\\\\\\\\\\": 4}, {\\\\\\\\\\\\\\\"column\\\\\\\\\\\\\\\": {\\\\\\\\\\\\\\\"type\\\\\\\\\\\\\\\": 2, \\\\\\\\\\\\\\\"details\\\\\\\\\\\\\\\": {\\\\\\\\\\\\\\\"selectedColumn\\\\\\\\\\\\\\\": \\\\\\\\\\\\\\\"cre_recklessdrivingcount\\\\\\\\\\\\\\\"}}, \\\\\\\\\\\\\\\"typeProperty\\\\\\\\\\\\\\\": 2}, {\\\\\\\\\\\\\\\"column\\\\\\\\\\\\\\\": {\\\\\\\\\\\\\\\"type\\\\\\\\\\\\\\\": 2, \\\\\\\\\\\\\\\"details\\\\\\\\\\\\\\\": {\\\\\\\\\\\\\\\"selectedColumn\\\\\\\\\\\\\\\": \\\\\\\\\\\\\\\"cre_driverchewtobacco\\\\\\\\\\\\\\\"}}, \\\\\\\\\\\\\\\"typeProperty\\\\\\\\\\\\\\\": 2}, {\\\\\\\\\\\\\\\"column\\\\\\\\\\\\\\\": {\\\\\\\\\\\\\\\"type\\\\\\\\\\\\\\\": 2, \\\\\\\\\\\\\\\"details\\\\\\\\\\\\\\\": {\\\\\\\\\\\\\\\"selectedColumn\\\\\\\\\\\\\\\": \\\\\\\\\\\\\\\"cre_driversmoker\\\\\\\\\\\\\\\"}}, \\\\\\\\\\\\\\\"typeProperty\\\\\\\\\\\\\\\": 2}, {\\\\\\\\\\\\\\\"column\\\\\\\\\\\\\\\": {\\\\\\\\\\\\\\\"type\\\\\\\\\\\\\\\": 2, \\\\\\\\\\\\\\\"details\\\\\\\\\\\\\\\": {\\\\\\\\\\\\\\\"selectedColumn\\\\\\\\\\\\\\\": \\\\\\\\\\\\\\\"cre_drivervapeuser\\\\\\\\\\\\\\\"}}, \\\\\\\\\\\\\\\"typeProperty\\\\\\\\\\\\\\\": 2}, {\\\\\\\\\\\\\\\"column\\\\\\\\\\\\\\\": {\\\\\\\\\\\\\\\"type\\\\\\\\\\\\\\\": 2, \\\\\\\\\\\\\\\"details\\\\\\\\\\\\\\\": {\\\\\\\\\\\\\\\"selectedColumn\\\\\\\\\\\\\\\": \\\\\\\\\\\\\\\"cre_teamchewtobaccousers\\\\\\\\\\\\\\\"}}, \\\\\\\\\\\\\\\"typeProperty\\\\\\\\\\\\\\\": 2}, {\\\\\\\\\\\\\\\"column\\\\\\\\\\\\\\\": {\\\\\\\\\\\\\\\"type\\\\\\\\\\\\\\\": 2, \\\\\\\\\\\\\\\"details\\\\\\\\\\\\\\\": {\\\\\\\\\\\\\\\"selectedColumn\\\\\\\\\\\\\\\": \\\\\\\\\\\\\\\"cre_teamoppositegender\\\\\\\\\\\\\\\"}}, \\\\\\\\\\\\\\\"typeProperty\\\\\\\\\\\\\\\": 0}, {\\\\\\\\\\\\\\\"column\\\\\\\\\\\\\\\": {\\\\\\\\\\\\\\\"type\\\\\\\\\\\\\\\": 2, \\\\\\\\\\\\\\\"details\\\\\\\\\\\\\\\": {\\\\\\\\\\\\\\\"selectedColumn\\\\\\\\\\\\\\\": \\\\\\\\\\\\\\\"cre_teamsmokers\\\\\\\\\\\\\\\"}}, \\\\\\\\\\\\\\\"typeProperty\\\\\\\\\\\\\\\": 2}, {\\\\\\\\\\\\\\\"column\\\\\\\\\\\\\\\": {\\\\\\\\\\\\\\\"type\\\\\\\\\\\\\\\": 2, \\\\\\\\\\\\\\\"details\\\\\\\\\\\\\\\": {\\\\\\\\\\\\\\\"selectedColumn\\\\\\\\\\\\\\\": \\\\\\\\\\\\\\\"cre_teamvapeusers\\\\\\\\\\\\\\\"}}, \\\\\\\\\\\\\\\"typeProperty\\\\\\\\\\\\\\\": 2}, {\\\\\\\\\\\\\\\"column\\\\\\\\\\\\\\\": {\\\\\\\\\\\\\\\"type\\\\\\\\\\\\\\\": 2, \\\\\\\\\\\\\\\"details\\\\\\\\\\\\\\\": {\\\\\\\\\\\\\\\"selectedColumn\\\\\\\\\\\\\\\": \\\\\\\\\\\\\\\"cre_teamgender\\\\\\\\\\\\\\\"}}, \\\\\\\\\\\\\\\"typeProperty\\\\\\\\\\\\\\\": 2}, {\\\\\\\\\\\\\\\"column\\\\\\\\\\\\\\\": {\\\\\\\\\\\\\\\"type\\\\\\\\\\\\\\\": 2, \\\\\\\\\\\\\\\"details\\\\\\\\\\\\\\\": {\\\\\\\\\\\\\\\"selectedColumn\\\\\\\\\\\\\\\": \\\\\\\\\\\\\\\"cre_donottext\\\\\\\\\\\\\\\"}}, \\\\\\\\\\\\\\\"typeProperty\\\\\\\\\\\\\\\": 1}, {\\\\\\\\\\\\\\\"column\\\\\\\\\\\\\\\": {\\\\\\\\\\\\\\\"type\\\\\\\\\\\\\\\": 2, \\\\\\\\\\\\\\\"details\\\\\\\\\\\\\\\": {\\\\\\\\\\\\\\\"selectedColumn\\\\\\\\\\\\\\\": \\\\\\\\\\\\\\\"workmonths\\\\\\\\\\\\\\\"}}, \\\\\\\\\\\\\\\"typeProperty\\\\\\\\\\\\\\\": 2}]}, \\\\\\\\\\\\\\\"localData\\\\\\\\\\\\\\\": {}, \\\\\\\\\\\\\\\"isEnabled\\\\\\\\\\\\\\\": true, \\\\\\\\\\\\\\\"name\\\\\\\\\\\\\\\": null, \\\\\\\\\\\\\\\"annotation\\\\\\\\\\\\\\\": null}], \\\\\\\\\\\\\\\"inspectors\\\\\\\\\\\\\\\": [], \\\\\\\\\\\\\\\"meta\\\\\\\\\\\\\\\": {\\\\\\\\\\\\\\\"savedDatasetId\\\\\\\\\\\\\\\": \\\\\\\\\\\\\\\"f7f0d3c9-7fb9-4782-a501-ba5dc67cac17\\\\\\\\\\\\\\\", \\\\\\\\\\\\\\\"datasetType\\\\\\\\\\\\\\\": \\\\\\\\\\\\\\\"tabular\\\\\\\\\\\\\\\", \\\\\\\\\\\\\\\"subscriptionId\\\\\\\\\\\\\\\": \\\\\\\\\\\\\\\"473e7e3b-e0e5-4760-92a4-0b9e3c06f260\\\\\\\\\\\\\\\", \\\\\\\\\\\\\\\"workspaceId\\\\\\\\\\\\\\\": \\\\\\\\\\\\\\\"2a667b8e-18ba-4c67-a630-a0b4578b51d6\\\\\\\\\\\\\\\", \\\\\\\\\\\\\\\"workspaceLocation\\\\\\\\\\\\\\\": \\\\\\\\\\\\\\\"westus\\\\\\\\\\\\\\\"}}\\\\\\\", \\\\\\\"activities\\\\\\\": 0}\", \"EnableSubsampling\": null, \"runTemplate\": \"AutoML\", \"azureml.runsource\": \"automl\", \"display_task_type\": \"classification\", \"dependencies_versions\": \"{\\\"azureml-widgets\\\": \\\"1.18.0\\\", \\\"azureml-train\\\": \\\"1.18.0\\\", \\\"azureml-train-restclients-hyperdrive\\\": \\\"1.18.0\\\", \\\"azureml-train-core\\\": \\\"1.18.0\\\", \\\"azureml-train-automl\\\": \\\"1.18.0\\\", \\\"azureml-train-automl-runtime\\\": \\\"1.18.0\\\", \\\"azureml-train-automl-client\\\": \\\"1.18.0\\\", \\\"azureml-tensorboard\\\": \\\"1.18.0\\\", \\\"azureml-telemetry\\\": \\\"1.18.0\\\", \\\"azureml-sdk\\\": \\\"1.18.0\\\", \\\"azureml-samples\\\": \\\"0+unknown\\\", \\\"azureml-pipeline\\\": \\\"1.18.0\\\", \\\"azureml-pipeline-steps\\\": \\\"1.18.0\\\", \\\"azureml-pipeline-core\\\": \\\"1.18.0\\\", \\\"azureml-opendatasets\\\": \\\"1.18.0\\\", \\\"azureml-model-management-sdk\\\": \\\"1.0.1b6.post1\\\", \\\"azureml-mlflow\\\": \\\"1.18.0\\\", \\\"azureml-interpret\\\": \\\"1.18.0\\\", \\\"azureml-explain-model\\\": \\\"1.18.0\\\", \\\"azureml-defaults\\\": \\\"1.18.0\\\", \\\"azureml-dataset-runtime\\\": \\\"1.18.0\\\", \\\"azureml-dataprep\\\": \\\"2.4.2\\\", \\\"azureml-dataprep-rslex\\\": \\\"1.2.2\\\", \\\"azureml-dataprep-native\\\": \\\"24.0.0\\\", \\\"azureml-datadrift\\\": \\\"1.18.0\\\", \\\"azureml-core\\\": \\\"1.18.0\\\", \\\"azureml-contrib-services\\\": \\\"1.18.0\\\", \\\"azureml-contrib-server\\\": \\\"1.18.0\\\", \\\"azureml-contrib-reinforcementlearning\\\": \\\"1.18.0\\\", \\\"azureml-contrib-pipeline-steps\\\": \\\"1.18.0\\\", \\\"azureml-contrib-notebook\\\": \\\"1.18.0\\\", \\\"azureml-contrib-interpret\\\": \\\"1.18.0\\\", \\\"azureml-contrib-gbdt\\\": \\\"1.18.0\\\", \\\"azureml-contrib-fairness\\\": \\\"1.18.0\\\", \\\"azureml-contrib-dataset\\\": \\\"1.18.0\\\", \\\"azureml-cli-common\\\": \\\"1.18.0\\\", \\\"azureml-automl-runtime\\\": \\\"1.18.0\\\", \\\"azureml-automl-core\\\": \\\"1.18.0\\\", \\\"azureml-accel-models\\\": \\\"1.18.0\\\"}\", \"_aml_system_scenario_identification\": \"Remote.Parent\", \"ClientType\": \"SDK\", \"environment_cpu_name\": \"AzureML-AutoML\", \"environment_cpu_label\": \"prod\", \"environment_gpu_name\": \"AzureML-AutoML-GPU\", \"environment_gpu_label\": \"prod\", \"root_attribution\": \"automl\", \"attribution\": \"AutoML\", \"Orchestrator\": \"AutoML\", \"CancelUri\": \"https://westus.experiments.azureml.net/jasmine/v1.0/subscriptions/473e7e3b-e0e5-4760-92a4-0b9e3c06f260/resourceGroups/MachineLearning/providers/Microsoft.MachineLearningServices/workspaces/MLTraining/experimentids/990ced1f-0b8f-4532-bac9-23d003435f62/cancel/AutoML_6d003079-c9d5-47b8-a7a1-b0de97860854\", \"ClientSdkVersion\": \"1.20.0.post1\", \"snapshotId\": \"00000000-0000-0000-0000-000000000000\", \"SetupRunId\": \"AutoML_6d003079-c9d5-47b8-a7a1-b0de97860854_setup\", \"SetupRunContainerId\": \"dcid.AutoML_6d003079-c9d5-47b8-a7a1-b0de97860854_setup\", \"FeaturizationRunJsonPath\": \"featurizer_container.json\", \"FeaturizationRunId\": \"AutoML_6d003079-c9d5-47b8-a7a1-b0de97860854_featurize\", \"ProblemInfoJsonString\": \"{\\\"dataset_num_categorical\\\": 0, \\\"is_sparse\\\": true, \\\"subsampling\\\": false, \\\"dataset_classes\\\": 82, \\\"dataset_features\\\": 669, \\\"dataset_samples\\\": 256873, \\\"single_frequency_class_detected\\\": true}\", \"ModelExplainRunId\": \"AutoML_6d003079-c9d5-47b8-a7a1-b0de97860854_ModelExplain\"}, \"tags\": {\"model_explain_run\": \"best_run\", \"_aml_system_azureml.automlComponent\": \"AutoML\", \"pipeline_id\": \"\", \"score\": \"\", \"predicted_cost\": \"\", \"fit_time\": \"\", \"training_percent\": \"\", \"iteration\": \"\", \"run_preprocessor\": \"\", \"run_algorithm\": \"\", \"dynamic_whitelisting_iterations\": \"<25>;<30>;\", \"automl_best_child_run_id\": \"AutoML_6d003079-c9d5-47b8-a7a1-b0de97860854_35\"}, \"end_time_utc\": \"2021-01-31T07:41:35.546727Z\", \"status\": \"Completed\", \"log_files\": {}, \"log_groups\": [], \"run_duration\": \"4:28:01\"}, \"child_runs\": [{\"run_id\": \"AutoML_6d003079-c9d5-47b8-a7a1-b0de97860854_1\", \"run_number\": 273, \"metric\": null, \"status\": \"Completed\", \"run_type\": \"azureml.scriptrun\", \"training_percent\": \"100\", \"start_time\": \"2021-01-31T03:24:11.254642Z\", \"end_time\": \"2021-01-31T04:28:45.33608Z\", \"created_time\": \"2021-01-31T03:20:34.814925Z\", \"created_time_dt\": \"2021-01-31T03:20:34.814925Z\", \"duration\": \"1:08:10\", \"iteration\": \"1\", \"goal\": \"AUC_weighted_max\", \"run_name\": \"MaxAbsScaler, XGBoostClassifier\", \"run_properties\": \"copy=True\", \"primary_metric\": 0.98028164, \"best_metric\": 0.98028164}, {\"run_id\": \"AutoML_6d003079-c9d5-47b8-a7a1-b0de97860854_0\", \"run_number\": 274, \"metric\": null, \"status\": \"Completed\", \"run_type\": \"azureml.scriptrun\", \"training_percent\": \"100\", \"start_time\": \"2021-01-31T03:20:48.64475Z\", \"end_time\": \"2021-01-31T03:30:47.898969Z\", \"created_time\": \"2021-01-31T03:20:34.821188Z\", \"created_time_dt\": \"2021-01-31T03:20:34.821188Z\", \"duration\": \"0:10:13\", \"iteration\": \"0\", \"goal\": \"AUC_weighted_max\", \"run_name\": \"MaxAbsScaler, LightGBM\", \"run_properties\": \"copy=True\", \"primary_metric\": 0.52567951, \"best_metric\": 0.52567951}, {\"run_id\": \"AutoML_6d003079-c9d5-47b8-a7a1-b0de97860854_2\", \"run_number\": 275, \"metric\": null, \"status\": \"Completed\", \"run_type\": \"azureml.scriptrun\", \"training_percent\": \"100\", \"start_time\": \"2021-01-31T03:24:07.387934Z\", \"end_time\": \"2021-01-31T03:26:31.808068Z\", \"created_time\": \"2021-01-31T03:20:34.843209Z\", \"created_time_dt\": \"2021-01-31T03:20:34.843209Z\", \"duration\": \"0:05:56\", \"iteration\": \"2\", \"goal\": \"AUC_weighted_max\", \"run_name\": \"MaxAbsScaler, RandomForest\", \"run_properties\": \"copy=True\", \"primary_metric\": 0.95370723, \"best_metric\": 0.98028164}, {\"run_id\": \"AutoML_6d003079-c9d5-47b8-a7a1-b0de97860854_3\", \"run_number\": 276, \"metric\": null, \"status\": \"Completed\", \"run_type\": \"azureml.scriptrun\", \"training_percent\": \"100\", \"start_time\": \"2021-01-31T03:24:11.056066Z\", \"end_time\": \"2021-01-31T03:26:55.124017Z\", \"created_time\": \"2021-01-31T03:20:34.882903Z\", \"created_time_dt\": \"2021-01-31T03:20:34.882903Z\", \"duration\": \"0:06:20\", \"iteration\": \"3\", \"goal\": \"AUC_weighted_max\", \"run_name\": \"MaxAbsScaler, RandomForest\", \"run_properties\": \"copy=True\", \"primary_metric\": 0.89360943, \"best_metric\": 0.98028164}, {\"run_id\": \"AutoML_6d003079-c9d5-47b8-a7a1-b0de97860854_4\", \"run_number\": 277, \"metric\": null, \"status\": \"Completed\", \"run_type\": \"azureml.scriptrun\", \"training_percent\": \"100\", \"start_time\": \"2021-01-31T03:26:49.921797Z\", \"end_time\": \"2021-01-31T03:28:19.460403Z\", \"created_time\": \"2021-01-31T03:26:36.176793Z\", \"created_time_dt\": \"2021-01-31T03:26:36.176793Z\", \"duration\": \"0:01:43\", \"iteration\": \"4\", \"goal\": \"AUC_weighted_max\", \"run_name\": \"MaxAbsScaler, RandomForest\", \"run_properties\": \"copy=True\", \"primary_metric\": 0.65442767, \"best_metric\": 0.98028164}, {\"run_id\": \"AutoML_6d003079-c9d5-47b8-a7a1-b0de97860854_5\", \"run_number\": 278, \"metric\": null, \"status\": \"Completed\", \"run_type\": \"azureml.scriptrun\", \"training_percent\": \"100\", \"start_time\": \"2021-01-31T03:27:11.208568Z\", \"end_time\": \"2021-01-31T03:28:33.435113Z\", \"created_time\": \"2021-01-31T03:26:59.421084Z\", \"created_time_dt\": \"2021-01-31T03:26:59.421084Z\", \"duration\": \"0:01:34\", \"iteration\": \"5\", \"goal\": \"AUC_weighted_max\", \"run_name\": \"MaxAbsScaler, ExtremeRandomTrees\", \"run_properties\": \"copy=True\", \"primary_metric\": 0.96069211, \"best_metric\": 0.98028164}, {\"run_id\": \"AutoML_6d003079-c9d5-47b8-a7a1-b0de97860854_6\", \"run_number\": 279, \"metric\": null, \"status\": \"Completed\", \"run_type\": \"azureml.scriptrun\", \"training_percent\": \"100\", \"start_time\": \"2021-01-31T03:28:38.186962Z\", \"end_time\": \"2021-01-31T03:30:45.563987Z\", \"created_time\": \"2021-01-31T03:28:23.721109Z\", \"created_time_dt\": \"2021-01-31T03:28:23.721109Z\", \"duration\": \"0:02:21\", \"iteration\": \"6\", \"goal\": \"AUC_weighted_max\", \"run_name\": \"MaxAbsScaler, ExtremeRandomTrees\", \"run_properties\": \"copy=True\", \"primary_metric\": 0.96890902, \"best_metric\": 0.98028164}, {\"run_id\": \"AutoML_6d003079-c9d5-47b8-a7a1-b0de97860854_7\", \"run_number\": 280, \"metric\": null, \"status\": \"Completed\", \"run_type\": \"azureml.scriptrun\", \"training_percent\": \"100\", \"start_time\": \"2021-01-31T03:28:55.495935Z\", \"end_time\": \"2021-01-31T03:30:58.796841Z\", \"created_time\": \"2021-01-31T03:28:37.158537Z\", \"created_time_dt\": \"2021-01-31T03:28:37.158537Z\", \"duration\": \"0:02:21\", \"iteration\": \"7\", \"goal\": \"AUC_weighted_max\", \"run_name\": \"MaxAbsScaler, ExtremeRandomTrees\", \"run_properties\": \"copy=True\", \"primary_metric\": 0.96590993, \"best_metric\": 0.98028164}, {\"run_id\": \"AutoML_6d003079-c9d5-47b8-a7a1-b0de97860854_8\", \"run_number\": 281, \"metric\": null, \"status\": \"Completed\", \"run_type\": \"azureml.scriptrun\", \"training_percent\": \"100\", \"start_time\": \"2021-01-31T03:31:07.054837Z\", \"end_time\": \"2021-01-31T03:32:44.209706Z\", \"created_time\": \"2021-01-31T03:30:48.188901Z\", \"created_time_dt\": \"2021-01-31T03:30:48.188901Z\", \"duration\": \"0:01:56\", \"iteration\": \"8\", \"goal\": \"AUC_weighted_max\", \"run_name\": \"MaxAbsScaler, RandomForest\", \"run_properties\": \"copy=True\", \"primary_metric\": 0.95948612, \"best_metric\": 0.98028164}, {\"run_id\": \"AutoML_6d003079-c9d5-47b8-a7a1-b0de97860854_9\", \"run_number\": 282, \"metric\": null, \"status\": \"Completed\", \"run_type\": \"azureml.scriptrun\", \"training_percent\": \"100\", \"start_time\": \"2021-01-31T03:31:12.157396Z\", \"end_time\": \"2021-01-31T03:32:36.780354Z\", \"created_time\": \"2021-01-31T03:30:54.73255Z\", \"created_time_dt\": \"2021-01-31T03:30:54.73255Z\", \"duration\": \"0:01:42\", \"iteration\": \"9\", \"goal\": \"AUC_weighted_max\", \"run_name\": \"MaxAbsScaler, ExtremeRandomTrees\", \"run_properties\": \"copy=True\", \"primary_metric\": 0.95763768, \"best_metric\": 0.98028164}, {\"run_id\": \"AutoML_6d003079-c9d5-47b8-a7a1-b0de97860854_10\", \"run_number\": 283, \"metric\": null, \"status\": \"Completed\", \"run_type\": \"azureml.scriptrun\", \"training_percent\": \"100\", \"start_time\": \"2021-01-31T03:31:17.747906Z\", \"end_time\": \"2021-01-31T03:33:19.757838Z\", \"created_time\": \"2021-01-31T03:31:02.519343Z\", \"created_time_dt\": \"2021-01-31T03:31:02.519343Z\", \"duration\": \"0:02:17\", \"iteration\": \"10\", \"goal\": \"AUC_weighted_max\", \"run_name\": \"MaxAbsScaler, RandomForest\", \"run_properties\": \"copy=True\", \"primary_metric\": 0.94418751, \"best_metric\": 0.98028164}, {\"run_id\": \"AutoML_6d003079-c9d5-47b8-a7a1-b0de97860854_11\", \"run_number\": 284, \"metric\": null, \"status\": \"Completed\", \"run_type\": \"azureml.scriptrun\", \"training_percent\": \"100\", \"start_time\": \"2021-01-31T03:32:54.44875Z\", \"end_time\": \"2021-01-31T03:34:13.850625Z\", \"created_time\": \"2021-01-31T03:32:40.069451Z\", \"created_time_dt\": \"2021-01-31T03:32:40.069451Z\", \"duration\": \"0:01:33\", \"iteration\": \"11\", \"goal\": \"AUC_weighted_max\", \"run_name\": \"MaxAbsScaler, RandomForest\", \"run_properties\": \"copy=True\", \"primary_metric\": 0.80320518, \"best_metric\": 0.98028164}, {\"run_id\": \"AutoML_6d003079-c9d5-47b8-a7a1-b0de97860854_12\", \"run_number\": 285, \"metric\": null, \"status\": \"Completed\", \"run_type\": \"azureml.scriptrun\", \"training_percent\": \"100\", \"start_time\": \"2021-01-31T03:33:03.518718Z\", \"end_time\": \"2021-01-31T03:35:08.322785Z\", \"created_time\": \"2021-01-31T03:32:49.445152Z\", \"created_time_dt\": \"2021-01-31T03:32:49.445152Z\", \"duration\": \"0:02:18\", \"iteration\": \"12\", \"goal\": \"AUC_weighted_max\", \"run_name\": \"MaxAbsScaler, RandomForest\", \"run_properties\": \"copy=True\", \"primary_metric\": 0.79017325, \"best_metric\": 0.98028164}, {\"run_id\": \"AutoML_6d003079-c9d5-47b8-a7a1-b0de97860854_13\", \"run_number\": 286, \"metric\": null, \"status\": \"Completed\", \"run_type\": \"azureml.scriptrun\", \"training_percent\": \"100\", \"start_time\": \"2021-01-31T03:33:43.24056Z\", \"end_time\": \"2021-01-31T03:41:47.365763Z\", \"created_time\": \"2021-01-31T03:33:22.590263Z\", \"created_time_dt\": \"2021-01-31T03:33:22.590263Z\", \"duration\": \"0:08:24\", \"iteration\": \"13\", \"goal\": \"AUC_weighted_max\", \"run_name\": \"StandardScalerWrapper, XGBoostClassifier\", \"run_properties\": \"<azureml.automl.runtime.shared.model_wrappers.StandardScalerWrapper object at 0x7fa7906c3748\", \"primary_metric\": 0.97477664, \"best_metric\": 0.98028164}, {\"run_id\": \"AutoML_6d003079-c9d5-47b8-a7a1-b0de97860854_14\", \"run_number\": 287, \"metric\": null, \"status\": \"Completed\", \"run_type\": \"azureml.scriptrun\", \"training_percent\": \"100\", \"start_time\": \"2021-01-31T03:34:29.197918Z\", \"end_time\": \"2021-01-31T03:35:26.294878Z\", \"created_time\": \"2021-01-31T03:34:16.54408Z\", \"created_time_dt\": \"2021-01-31T03:34:16.54408Z\", \"duration\": \"0:01:09\", \"iteration\": \"14\", \"goal\": \"AUC_weighted_max\", \"run_name\": \"MaxAbsScaler, RandomForest\", \"run_properties\": \"copy=True\", \"primary_metric\": 0.92510684, \"best_metric\": 0.98028164}, {\"run_id\": \"AutoML_6d003079-c9d5-47b8-a7a1-b0de97860854_15\", \"run_number\": 288, \"metric\": null, \"status\": \"Completed\", \"run_type\": \"azureml.scriptrun\", \"training_percent\": \"100\", \"start_time\": \"2021-01-31T03:35:28.577737Z\", \"end_time\": \"2021-01-31T03:37:12.138869Z\", \"created_time\": \"2021-01-31T03:35:11.065338Z\", \"created_time_dt\": \"2021-01-31T03:35:11.065338Z\", \"duration\": \"0:02:01\", \"iteration\": \"15\", \"goal\": \"AUC_weighted_max\", \"run_name\": \"StandardScalerWrapper, ExtremeRandomTrees\", \"run_properties\": \"<azureml.automl.runtime.shared.model_wrappers.StandardScalerWrapper object at 0x7fe39f3fcf60\", \"primary_metric\": 0.85280628, \"best_metric\": 0.98028164}, {\"run_id\": \"AutoML_6d003079-c9d5-47b8-a7a1-b0de97860854_16\", \"run_number\": 289, \"metric\": null, \"status\": \"Completed\", \"run_type\": \"azureml.scriptrun\", \"training_percent\": \"100\", \"start_time\": \"2021-01-31T03:35:49.921853Z\", \"end_time\": \"2021-01-31T03:37:05.987593Z\", \"created_time\": \"2021-01-31T03:35:29.461034Z\", \"created_time_dt\": \"2021-01-31T03:35:29.461034Z\", \"duration\": \"0:01:36\", \"iteration\": \"16\", \"goal\": \"AUC_weighted_max\", \"run_name\": \"MaxAbsScaler, ExtremeRandomTrees\", \"run_properties\": \"copy=True\", \"primary_metric\": 0.96358083, \"best_metric\": 0.98028164}, {\"run_id\": \"AutoML_6d003079-c9d5-47b8-a7a1-b0de97860854_17\", \"run_number\": 290, \"metric\": null, \"status\": \"Completed\", \"run_type\": \"azureml.scriptrun\", \"training_percent\": \"100\", \"start_time\": \"2021-01-31T03:37:22.7177Z\", \"end_time\": \"2021-01-31T03:38:46.576168Z\", \"created_time\": \"2021-01-31T03:37:10.758555Z\", \"created_time_dt\": \"2021-01-31T03:37:10.758555Z\", \"duration\": \"0:01:35\", \"iteration\": \"17\", \"goal\": \"AUC_weighted_max\", \"run_name\": \"MaxAbsScaler, ExtremeRandomTrees\", \"run_properties\": \"copy=True\", \"primary_metric\": 0.93041683, \"best_metric\": 0.98028164}, {\"run_id\": \"AutoML_6d003079-c9d5-47b8-a7a1-b0de97860854_18\", \"run_number\": 291, \"metric\": null, \"status\": \"Completed\", \"run_type\": \"azureml.scriptrun\", \"training_percent\": \"100\", \"start_time\": \"2021-01-31T03:37:31.687965Z\", \"end_time\": \"2021-01-31T03:38:46.765079Z\", \"created_time\": \"2021-01-31T03:37:18.874387Z\", \"created_time_dt\": \"2021-01-31T03:37:18.874387Z\", \"duration\": \"0:01:27\", \"iteration\": \"18\", \"goal\": \"AUC_weighted_max\", \"run_name\": \"MaxAbsScaler, RandomForest\", \"run_properties\": \"copy=True\", \"primary_metric\": 0.75238551, \"best_metric\": 0.98028164}, {\"run_id\": \"AutoML_6d003079-c9d5-47b8-a7a1-b0de97860854_20\", \"run_number\": 292, \"metric\": null, \"status\": \"Completed\", \"run_type\": \"azureml.scriptrun\", \"training_percent\": \"100\", \"start_time\": \"2021-01-31T03:39:05.850725Z\", \"end_time\": \"2021-01-31T04:49:48.406729Z\", \"created_time\": \"2021-01-31T03:38:49.223281Z\", \"created_time_dt\": \"2021-01-31T03:38:49.223281Z\", \"duration\": \"1:10:59\", \"iteration\": \"20\", \"goal\": \"AUC_weighted_max\", \"run_name\": \"MaxAbsScaler, LogisticRegression\", \"run_properties\": \"copy=True\", \"primary_metric\": 0.90978526, \"best_metric\": 0.98028164}, {\"run_id\": \"AutoML_6d003079-c9d5-47b8-a7a1-b0de97860854_19\", \"run_number\": 293, \"metric\": null, \"status\": \"Completed\", \"run_type\": \"azureml.scriptrun\", \"training_percent\": \"100\", \"start_time\": \"2021-01-31T03:39:00.800702Z\", \"end_time\": \"2021-01-31T03:59:40.066655Z\", \"created_time\": \"2021-01-31T03:38:49.621887Z\", \"created_time_dt\": \"2021-01-31T03:38:49.621887Z\", \"duration\": \"0:20:50\", \"iteration\": \"19\", \"goal\": \"AUC_weighted_max\", \"run_name\": \"StandardScalerWrapper, LogisticRegression\", \"run_properties\": \"<azureml.automl.runtime.shared.model_wrappers.StandardScalerWrapper object at 0x7fa424621c88\", \"primary_metric\": 0.54041206, \"best_metric\": 0.98028164}, {\"run_id\": \"AutoML_6d003079-c9d5-47b8-a7a1-b0de97860854_21\", \"run_number\": 294, \"metric\": null, \"status\": \"Completed\", \"run_type\": \"azureml.scriptrun\", \"training_percent\": \"100\", \"start_time\": \"2021-01-31T03:42:09.06989Z\", \"end_time\": \"2021-01-31T03:58:21.472818Z\", \"created_time\": \"2021-01-31T03:41:53.204786Z\", \"created_time_dt\": \"2021-01-31T03:41:53.204786Z\", \"duration\": \"0:16:28\", \"iteration\": \"21\", \"goal\": \"AUC_weighted_max\", \"run_name\": \"StandardScalerWrapper, LogisticRegression\", \"run_properties\": \"<azureml.automl.runtime.shared.model_wrappers.StandardScalerWrapper object at 0x7fe1891aada0\", \"primary_metric\": 0.54018092, \"best_metric\": 0.98028164}, {\"run_id\": \"AutoML_6d003079-c9d5-47b8-a7a1-b0de97860854_22\", \"run_number\": 295, \"metric\": null, \"status\": \"Completed\", \"run_type\": \"azureml.scriptrun\", \"training_percent\": \"100\", \"start_time\": \"2021-01-31T03:58:40.415791Z\", \"end_time\": \"2021-01-31T04:00:43.555081Z\", \"created_time\": \"2021-01-31T03:58:23.335191Z\", \"created_time_dt\": \"2021-01-31T03:58:23.335191Z\", \"duration\": \"0:02:20\", \"iteration\": \"22\", \"goal\": \"AUC_weighted_max\", \"run_name\": \"MaxAbsScaler, LightGBM\", \"run_properties\": \"copy=True\", \"primary_metric\": 0.8832987, \"best_metric\": 0.98028164}, {\"run_id\": \"AutoML_6d003079-c9d5-47b8-a7a1-b0de97860854_23\", \"run_number\": 296, \"metric\": null, \"status\": \"Completed\", \"run_type\": \"azureml.scriptrun\", \"training_percent\": \"100\", \"start_time\": \"2021-01-31T03:59:52.126185Z\", \"end_time\": \"2021-01-31T04:01:05.364532Z\", \"created_time\": \"2021-01-31T03:59:41.624422Z\", \"created_time_dt\": \"2021-01-31T03:59:41.624422Z\", \"duration\": \"0:01:23\", \"iteration\": \"23\", \"goal\": \"AUC_weighted_max\", \"run_name\": \"StandardScalerWrapper, ExtremeRandomTrees\", \"run_properties\": \"<azureml.automl.runtime.shared.model_wrappers.StandardScalerWrapper object at 0x7f8fe0d99550\", \"primary_metric\": 0.95470901, \"best_metric\": 0.98028164}, {\"run_id\": \"AutoML_6d003079-c9d5-47b8-a7a1-b0de97860854_24\", \"run_number\": 297, \"metric\": null, \"status\": \"Completed\", \"run_type\": \"azureml.scriptrun\", \"training_percent\": \"100\", \"start_time\": \"2021-01-31T04:00:58.923538Z\", \"end_time\": \"2021-01-31T04:02:30.00827Z\", \"created_time\": \"2021-01-31T04:00:47.409822Z\", \"created_time_dt\": \"2021-01-31T04:00:47.409822Z\", \"duration\": \"0:01:42\", \"iteration\": \"24\", \"goal\": \"AUC_weighted_max\", \"run_name\": \"SparseNormalizer, RandomForest\", \"run_properties\": \"<azureml.automl.runtime.shared.model_wrappers.SparseNormalizer object at 0x7fc5b621df60\", \"primary_metric\": 0.63038231, \"best_metric\": 0.98028164}, {\"run_id\": \"AutoML_6d003079-c9d5-47b8-a7a1-b0de97860854_25\", \"run_number\": 298, \"metric\": null, \"status\": \"Completed\", \"run_type\": \"azureml.scriptrun\", \"training_percent\": \"100\", \"start_time\": \"2021-01-31T04:01:27.381508Z\", \"end_time\": \"2021-01-31T04:11:34.292012Z\", \"created_time\": \"2021-01-31T04:01:09.590393Z\", \"created_time_dt\": \"2021-01-31T04:01:09.590393Z\", \"duration\": \"0:10:24\", \"iteration\": \"25\", \"goal\": \"AUC_weighted_max\", \"run_name\": \"SparseNormalizer, XGBoostClassifier\", \"run_properties\": \"<azureml.automl.runtime.shared.model_wrappers.SparseNormalizer object at 0x7fb394021e10\", \"primary_metric\": 0.97341861, \"best_metric\": 0.98028164}, {\"run_id\": \"AutoML_6d003079-c9d5-47b8-a7a1-b0de97860854_26\", \"run_number\": 299, \"metric\": null, \"status\": \"Completed\", \"run_type\": \"azureml.scriptrun\", \"training_percent\": \"100\", \"start_time\": \"2021-01-31T04:02:47.843275Z\", \"end_time\": \"2021-01-31T04:04:21.704545Z\", \"created_time\": \"2021-01-31T04:02:33.192998Z\", \"created_time_dt\": \"2021-01-31T04:02:33.192998Z\", \"duration\": \"0:01:48\", \"iteration\": \"26\", \"goal\": \"AUC_weighted_max\", \"run_name\": \"StandardScalerWrapper, LightGBM\", \"run_properties\": \"<azureml.automl.runtime.shared.model_wrappers.StandardScalerWrapper object at 0x7f39a8affd30\", \"primary_metric\": 0.97748829, \"best_metric\": 0.98028164}, {\"run_id\": \"AutoML_6d003079-c9d5-47b8-a7a1-b0de97860854_27\", \"run_number\": 300, \"metric\": null, \"status\": \"Completed\", \"run_type\": \"azureml.scriptrun\", \"training_percent\": \"100\", \"start_time\": \"2021-01-31T04:04:39.328092Z\", \"end_time\": \"2021-01-31T04:06:51.348008Z\", \"created_time\": \"2021-01-31T04:04:24.242551Z\", \"created_time_dt\": \"2021-01-31T04:04:24.242551Z\", \"duration\": \"0:02:27\", \"iteration\": \"27\", \"goal\": \"AUC_weighted_max\", \"run_name\": \"MaxAbsScaler, ExtremeRandomTrees\", \"run_properties\": \"copy=True\", \"primary_metric\": 0.80703418, \"best_metric\": 0.98028164}, {\"run_id\": \"AutoML_6d003079-c9d5-47b8-a7a1-b0de97860854_28\", \"run_number\": 301, \"metric\": null, \"status\": \"Canceled\", \"run_type\": \"azureml.scriptrun\", \"training_percent\": \"100\", \"start_time\": \"2021-01-31T04:07:13.657188Z\", \"end_time\": \"2021-01-31T06:24:43.290803Z\", \"created_time\": \"2021-01-31T04:06:54.352599Z\", \"created_time_dt\": \"2021-01-31T04:06:54.352599Z\", \"duration\": \"2:17:48\", \"iteration\": \"28\", \"goal\": null, \"run_name\": \"TruncatedSVDWrapper, XGBoostClassifier\", \"run_properties\": null}, {\"run_id\": \"AutoML_6d003079-c9d5-47b8-a7a1-b0de97860854_29\", \"run_number\": 302, \"metric\": null, \"status\": \"Completed\", \"run_type\": \"azureml.scriptrun\", \"training_percent\": \"100\", \"start_time\": \"2021-01-31T04:11:50.251837Z\", \"end_time\": \"2021-01-31T04:21:37.346846Z\", \"created_time\": \"2021-01-31T04:11:36.151157Z\", \"created_time_dt\": \"2021-01-31T04:11:36.151157Z\", \"duration\": \"0:10:01\", \"iteration\": \"29\", \"goal\": \"AUC_weighted_max\", \"run_name\": \"StandardScalerWrapper, XGBoostClassifier\", \"run_properties\": \"<azureml.automl.runtime.shared.model_wrappers.StandardScalerWrapper object at 0x7fa6953146a0\", \"primary_metric\": 0.97846831, \"best_metric\": 0.98028164}, {\"run_id\": \"AutoML_6d003079-c9d5-47b8-a7a1-b0de97860854_30\", \"run_number\": 303, \"metric\": null, \"status\": \"Canceled\", \"run_type\": \"azureml.scriptrun\", \"training_percent\": \"100\", \"start_time\": \"2021-01-31T04:21:56.997068Z\", \"end_time\": \"2021-01-31T06:24:41.997656Z\", \"created_time\": \"2021-01-31T04:21:39.958233Z\", \"created_time_dt\": \"2021-01-31T04:21:39.958233Z\", \"duration\": \"2:03:02\", \"iteration\": \"30\", \"goal\": null, \"run_name\": \"TruncatedSVDWrapper, XGBoostClassifier\", \"run_properties\": null}, {\"run_id\": \"AutoML_6d003079-c9d5-47b8-a7a1-b0de97860854_31\", \"run_number\": 304, \"metric\": null, \"status\": \"Completed\", \"run_type\": \"azureml.scriptrun\", \"training_percent\": \"100\", \"start_time\": \"2021-01-31T04:29:03.452287Z\", \"end_time\": \"2021-01-31T04:32:10.599141Z\", \"created_time\": \"2021-01-31T04:28:47.124551Z\", \"created_time_dt\": \"2021-01-31T04:28:47.124551Z\", \"duration\": \"0:03:23\", \"iteration\": \"31\", \"goal\": \"AUC_weighted_max\", \"run_name\": \"SparseNormalizer, XGBoostClassifier\", \"run_properties\": \"<azureml.automl.runtime.shared.model_wrappers.SparseNormalizer object at 0x7febb1e50438\", \"primary_metric\": 0.97112735, \"best_metric\": 0.98028164}, {\"run_id\": \"AutoML_6d003079-c9d5-47b8-a7a1-b0de97860854_32\", \"run_number\": 305, \"metric\": null, \"status\": \"Canceled\", \"run_type\": \"azureml.scriptrun\", \"training_percent\": \"100\", \"start_time\": \"2021-01-31T04:32:36.058374Z\", \"end_time\": \"2021-01-31T06:24:37.069339Z\", \"created_time\": \"2021-01-31T04:32:16.199925Z\", \"created_time_dt\": \"2021-01-31T04:32:16.199925Z\", \"duration\": \"1:52:20\", \"iteration\": \"32\", \"goal\": null, \"run_name\": \"TruncatedSVDWrapper, XGBoostClassifier\", \"run_properties\": null}, {\"run_id\": \"AutoML_6d003079-c9d5-47b8-a7a1-b0de97860854_33\", \"run_number\": 306, \"metric\": null, \"status\": \"Completed\", \"run_type\": \"azureml.scriptrun\", \"training_percent\": \"100\", \"start_time\": \"2021-01-31T04:50:12.233541Z\", \"end_time\": \"2021-01-31T05:03:44.835124Z\", \"created_time\": \"2021-01-31T04:49:53.308646Z\", \"created_time_dt\": \"2021-01-31T04:49:53.308646Z\", \"duration\": \"0:13:51\", \"iteration\": \"33\", \"goal\": \"AUC_weighted_max\", \"run_name\": \"StandardScalerWrapper, XGBoostClassifier\", \"run_properties\": \"<azureml.automl.runtime.shared.model_wrappers.StandardScalerWrapper object at 0x7f2304c43e10\", \"primary_metric\": 0.97370631, \"best_metric\": 0.98028164}, {\"run_id\": \"AutoML_6d003079-c9d5-47b8-a7a1-b0de97860854_34\", \"run_number\": 307, \"metric\": null, \"status\": \"Canceled\", \"run_type\": \"azureml.scriptrun\", \"training_percent\": \"100\", \"start_time\": \"2021-01-31T05:04:02.161894Z\", \"end_time\": \"2021-01-31T06:24:51.856591Z\", \"created_time\": \"2021-01-31T05:03:48.197811Z\", \"created_time_dt\": \"2021-01-31T05:03:48.197811Z\", \"duration\": \"1:21:03\", \"iteration\": \"34\", \"goal\": null, \"run_name\": \"TruncatedSVDWrapper, XGBoostClassifier\", \"run_properties\": null}, {\"run_id\": \"AutoML_6d003079-c9d5-47b8-a7a1-b0de97860854_36\", \"run_number\": 308, \"metric\": null, \"status\": \"Completed\", \"run_type\": \"azureml.scriptrun\", \"training_percent\": \"100\", \"start_time\": \"2021-01-31T06:25:12.000153Z\", \"end_time\": \"2021-01-31T07:41:24.872904Z\", \"created_time\": \"2021-01-31T06:24:56.398157Z\", \"created_time_dt\": \"2021-01-31T06:24:56.398157Z\", \"duration\": \"1:16:28\", \"iteration\": \"36\", \"goal\": \"AUC_weighted_max\", \"run_name\": \"StackEnsemble\", \"run_properties\": \"base_learners=[('1',\\n                                        Pipeline(memory=None,\\n                                                 steps=[('maxabsscaler',\\n                                                         MaxAbsScaler(copy=True\", \"primary_metric\": 0.97844585, \"best_metric\": 0.9816505}, {\"run_id\": \"AutoML_6d003079-c9d5-47b8-a7a1-b0de97860854_35\", \"run_number\": 309, \"metric\": null, \"status\": \"Completed\", \"run_type\": \"azureml.scriptrun\", \"training_percent\": \"100\", \"start_time\": \"2021-01-31T06:25:11.928671Z\", \"end_time\": \"2021-01-31T06:37:12.274072Z\", \"created_time\": \"2021-01-31T06:24:56.390709Z\", \"created_time_dt\": \"2021-01-31T06:24:56.390709Z\", \"duration\": \"0:12:15\", \"iteration\": \"35\", \"goal\": \"AUC_weighted_max\", \"run_name\": \"VotingEnsemble\", \"run_properties\": \"classification_labels=None,\\n                              estimators=[('1',\\n                                           Pipeline(memory=None,\\n                                                    steps=[('maxabsscaler',\\n                                                            MaxAbsScaler(copy=True\", \"primary_metric\": 0.9816505, \"best_metric\": 0.9816505}], \"children_metrics\": {\"categories\": [0], \"series\": {\"norm_macro_recall\": [{\"categories\": [\"0\", \"1\", \"2\", \"3\", \"4\", \"5\", \"6\", \"7\", \"8\", \"9\", \"10\", \"11\", \"12\", \"13\", \"14\", \"15\", \"16\", \"17\", \"18\", \"19\", \"20\", \"21\", \"22\", \"23\", \"24\", \"25\", \"26\", \"27\", \"29\", \"31\", \"33\", \"35\", \"36\"], \"mode\": \"markers\", \"name\": \"norm_macro_recall\", \"stepped\": false, \"type\": \"scatter\", \"data\": [0.003544394717784837, 0.061213832267477, 0.0, 0.027936053308774078, 0.0, 0.0, 0.0, 0.0, 0.0, 0.05990832081966634, 0.030674944721215736, 0.02442554949068586, 0.03442843709559587, 0.04671910878263215, 0.0, 0.0, 0.03741776350187781, 0.04496198668099635, 0.027446509947440908, 0.0, 0.0827333693699793, 0.0, 0.0, 0.0, 0.020070422535211265, 0.043617927942219324, 0.0, 0.04459758399557154, 0.054671494287036736, 0.04111768825163415, 0.06095392408705283, 0.00025608194622279116, 0.05313048920687064]}, {\"categories\": [\"0\", \"1\", \"2\", \"3\", \"4\", \"5\", \"6\", \"7\", \"8\", \"9\", \"10\", \"11\", \"12\", \"13\", \"14\", \"15\", \"16\", \"17\", \"18\", \"19\", \"20\", \"21\", \"22\", \"23\", \"24\", \"25\", \"26\", \"27\", \"29\", \"31\", \"33\", \"35\", \"36\"], \"mode\": \"lines\", \"name\": \"norm_macro_recall_max\", \"stepped\": true, \"type\": \"scatter\", \"data\": [0.003544394717784837, 0.061213832267477, 0.061213832267477, 0.061213832267477, 0.061213832267477, 0.061213832267477, 0.061213832267477, 0.061213832267477, 0.061213832267477, 0.061213832267477, 0.061213832267477, 0.061213832267477, 0.061213832267477, 0.061213832267477, 0.061213832267477, 0.061213832267477, 0.061213832267477, 0.061213832267477, 0.061213832267477, 0.061213832267477, 0.0827333693699793, 0.0827333693699793, 0.0827333693699793, 0.0827333693699793, 0.0827333693699793, 0.0827333693699793, 0.0827333693699793, 0.0827333693699793, 0.0827333693699793, 0.0827333693699793, 0.0827333693699793, 0.0827333693699793, 0.0827333693699793]}], \"f1_score_micro\": [{\"categories\": [\"0\", \"1\", \"2\", \"3\", \"4\", \"5\", \"6\", \"7\", \"8\", \"9\", \"10\", \"11\", \"12\", \"13\", \"14\", \"15\", \"16\", \"17\", \"18\", \"19\", \"20\", \"21\", \"22\", \"23\", \"24\", \"25\", \"26\", \"27\", \"29\", \"31\", \"33\", \"35\", \"36\"], \"mode\": \"markers\", \"name\": \"f1_score_micro\", \"stepped\": false, \"type\": \"scatter\", \"data\": [0.9578515871347488, 0.9745638007147361, 0.9700091093826642, 0.018008548805269427, 0.9700091093826642, 0.9700091093826642, 0.9700091093826642, 0.9700091093826642, 0.9700091093826642, 0.6919977576904212, 0.0011211547894331162, 0.41584331861817675, 0.5514329759652442, 0.9743886202788873, 0.9700091093826642, 0.9700091093826642, 0.6458552308878145, 0.48878845210566885, 0.5515380842267535, 0.9700091093826642, 0.5271179314694135, 0.9700091093826642, 0.9700091093826642, 0.9700091093826642, 3.503608716978488e-05, 0.97393315114568, 0.9700091093826642, 0.20846471866022004, 0.974423656366057, 0.973617826361152, 0.9747740172377549, 0.970044145469834, 0.9748791254992643]}, {\"categories\": [\"0\", \"1\", \"2\", \"3\", \"4\", \"5\", \"6\", \"7\", \"8\", \"9\", \"10\", \"11\", \"12\", \"13\", \"14\", \"15\", \"16\", \"17\", \"18\", \"19\", \"20\", \"21\", \"22\", \"23\", \"24\", \"25\", \"26\", \"27\", \"29\", \"31\", \"33\", \"35\", \"36\"], \"mode\": \"lines\", \"name\": \"f1_score_micro_max\", \"stepped\": true, \"type\": \"scatter\", \"data\": [0.9578515871347488, 0.9745638007147361, 0.9745638007147361, 0.9745638007147361, 0.9745638007147361, 0.9745638007147361, 0.9745638007147361, 0.9745638007147361, 0.9745638007147361, 0.9745638007147361, 0.9745638007147361, 0.9745638007147361, 0.9745638007147361, 0.9745638007147361, 0.9745638007147361, 0.9745638007147361, 0.9745638007147361, 0.9745638007147361, 0.9745638007147361, 0.9745638007147361, 0.9745638007147361, 0.9745638007147361, 0.9745638007147361, 0.9745638007147361, 0.9745638007147361, 0.9745638007147361, 0.9745638007147361, 0.9745638007147361, 0.9745638007147361, 0.9745638007147361, 0.9747740172377549, 0.9747740172377549, 0.9748791254992643]}], \"recall_score_micro\": [{\"categories\": [\"0\", \"1\", \"2\", \"3\", \"4\", \"5\", \"6\", \"7\", \"8\", \"9\", \"10\", \"11\", \"12\", \"13\", \"14\", \"15\", \"16\", \"17\", \"18\", \"19\", \"20\", \"21\", \"22\", \"23\", \"24\", \"25\", \"26\", \"27\", \"29\", \"31\", \"33\", \"35\", \"36\"], \"mode\": \"markers\", \"name\": \"recall_score_micro\", \"stepped\": false, \"type\": \"scatter\", \"data\": [0.9578515871347488, 0.9745638007147361, 0.9700091093826642, 0.018008548805269427, 0.9700091093826642, 0.9700091093826642, 0.9700091093826642, 0.9700091093826642, 0.9700091093826642, 0.6919977576904212, 0.0011211547894331162, 0.41584331861817675, 0.5514329759652442, 0.9743886202788873, 0.9700091093826642, 0.9700091093826642, 0.6458552308878145, 0.48878845210566885, 0.5515380842267535, 0.9700091093826642, 0.5271179314694135, 0.9700091093826642, 0.9700091093826642, 0.9700091093826642, 3.503608716978488e-05, 0.97393315114568, 0.9700091093826642, 0.20846471866022004, 0.974423656366057, 0.973617826361152, 0.9747740172377549, 0.970044145469834, 0.9748791254992643]}, {\"categories\": [\"0\", \"1\", \"2\", \"3\", \"4\", \"5\", \"6\", \"7\", \"8\", \"9\", \"10\", \"11\", \"12\", \"13\", \"14\", \"15\", \"16\", \"17\", \"18\", \"19\", \"20\", \"21\", \"22\", \"23\", \"24\", \"25\", \"26\", \"27\", \"29\", \"31\", \"33\", \"35\", \"36\"], \"mode\": \"lines\", \"name\": \"recall_score_micro_max\", \"stepped\": true, \"type\": \"scatter\", \"data\": [0.9578515871347488, 0.9745638007147361, 0.9745638007147361, 0.9745638007147361, 0.9745638007147361, 0.9745638007147361, 0.9745638007147361, 0.9745638007147361, 0.9745638007147361, 0.9745638007147361, 0.9745638007147361, 0.9745638007147361, 0.9745638007147361, 0.9745638007147361, 0.9745638007147361, 0.9745638007147361, 0.9745638007147361, 0.9745638007147361, 0.9745638007147361, 0.9745638007147361, 0.9745638007147361, 0.9745638007147361, 0.9745638007147361, 0.9745638007147361, 0.9745638007147361, 0.9745638007147361, 0.9745638007147361, 0.9745638007147361, 0.9745638007147361, 0.9745638007147361, 0.9747740172377549, 0.9747740172377549, 0.9748791254992643]}], \"recall_score_macro\": [{\"categories\": [\"0\", \"1\", \"2\", \"3\", \"4\", \"5\", \"6\", \"7\", \"8\", \"9\", \"10\", \"11\", \"12\", \"13\", \"14\", \"15\", \"16\", \"17\", \"18\", \"19\", \"20\", \"21\", \"22\", \"23\", \"24\", \"25\", \"26\", \"27\", \"29\", \"31\", \"33\", \"35\", \"36\"], \"mode\": \"markers\", \"name\": \"recall_score_macro\", \"stepped\": false, \"type\": \"scatter\", \"data\": [0.017384055902260047, 0.07425252904153982, 0.013888888888888888, 0.015738220189035156, 0.013888888888888888, 0.013888888888888888, 0.013888888888888888, 0.013888888888888888, 0.013888888888888888, 0.04281229627402535, 0.018755042196600638, 0.017115216335608936, 0.015741512796116207, 0.05995912116065115, 0.013888888888888888, 0.013888888888888888, 0.02551081431276787, 0.030233601828422083, 0.02801029661872824, 0.013888888888888888, 0.08536559186468165, 0.013888888888888888, 0.013888888888888888, 0.013888888888888888, 0.01282051282051282, 0.05690101227635517, 0.013888888888888888, 0.032325108623113025, 0.06780105686638345, 0.054435498137028124, 0.07399623069695488, 0.01414141414141414, 0.066281454634553]}, {\"categories\": [\"0\", \"1\", \"2\", \"3\", \"4\", \"5\", \"6\", \"7\", \"8\", \"9\", \"10\", \"11\", \"12\", \"13\", \"14\", \"15\", \"16\", \"17\", \"18\", \"19\", \"20\", \"21\", \"22\", \"23\", \"24\", \"25\", \"26\", \"27\", \"29\", \"31\", \"33\", \"35\", \"36\"], \"mode\": \"lines\", \"name\": \"recall_score_macro_max\", \"stepped\": true, \"type\": \"scatter\", \"data\": [0.017384055902260047, 0.07425252904153982, 0.07425252904153982, 0.07425252904153982, 0.07425252904153982, 0.07425252904153982, 0.07425252904153982, 0.07425252904153982, 0.07425252904153982, 0.07425252904153982, 0.07425252904153982, 0.07425252904153982, 0.07425252904153982, 0.07425252904153982, 0.07425252904153982, 0.07425252904153982, 0.07425252904153982, 0.07425252904153982, 0.07425252904153982, 0.07425252904153982, 0.08536559186468165, 0.08536559186468165, 0.08536559186468165, 0.08536559186468165, 0.08536559186468165, 0.08536559186468165, 0.08536559186468165, 0.08536559186468165, 0.08536559186468165, 0.08536559186468165, 0.08536559186468165, 0.08536559186468165, 0.08536559186468165]}], \"balanced_accuracy\": [{\"categories\": [\"0\", \"1\", \"2\", \"3\", \"4\", \"5\", \"6\", \"7\", \"8\", \"9\", \"10\", \"11\", \"12\", \"13\", \"14\", \"15\", \"16\", \"17\", \"18\", \"19\", \"20\", \"21\", \"22\", \"23\", \"24\", \"25\", \"26\", \"27\", \"29\", \"31\", \"33\", \"35\", \"36\"], \"mode\": \"markers\", \"name\": \"balanced_accuracy\", \"stepped\": false, \"type\": \"scatter\", \"data\": [0.017384055902260047, 0.07425252904153982, 0.013888888888888888, 0.015738220189035156, 0.013888888888888888, 0.013888888888888888, 0.013888888888888888, 0.013888888888888888, 0.013888888888888888, 0.04281229627402535, 0.018755042196600638, 0.017115216335608936, 0.015741512796116207, 0.05995912116065115, 0.013888888888888888, 0.013888888888888888, 0.02551081431276787, 0.030233601828422083, 0.02801029661872824, 0.013888888888888888, 0.08536559186468165, 0.013888888888888888, 0.013888888888888888, 0.013888888888888888, 0.01282051282051282, 0.05690101227635517, 0.013888888888888888, 0.032325108623113025, 0.06780105686638345, 0.054435498137028124, 0.07399623069695488, 0.01414141414141414, 0.066281454634553]}, {\"categories\": [\"0\", \"1\", \"2\", \"3\", \"4\", \"5\", \"6\", \"7\", \"8\", \"9\", \"10\", \"11\", \"12\", \"13\", \"14\", \"15\", \"16\", \"17\", \"18\", \"19\", \"20\", \"21\", \"22\", \"23\", \"24\", \"25\", \"26\", \"27\", \"29\", \"31\", \"33\", \"35\", \"36\"], \"mode\": \"lines\", \"name\": \"balanced_accuracy_max\", \"stepped\": true, \"type\": \"scatter\", \"data\": [0.017384055902260047, 0.07425252904153982, 0.07425252904153982, 0.07425252904153982, 0.07425252904153982, 0.07425252904153982, 0.07425252904153982, 0.07425252904153982, 0.07425252904153982, 0.07425252904153982, 0.07425252904153982, 0.07425252904153982, 0.07425252904153982, 0.07425252904153982, 0.07425252904153982, 0.07425252904153982, 0.07425252904153982, 0.07425252904153982, 0.07425252904153982, 0.07425252904153982, 0.08536559186468165, 0.08536559186468165, 0.08536559186468165, 0.08536559186468165, 0.08536559186468165, 0.08536559186468165, 0.08536559186468165, 0.08536559186468165, 0.08536559186468165, 0.08536559186468165, 0.08536559186468165, 0.08536559186468165, 0.08536559186468165]}], \"AUC_weighted\": [{\"categories\": [\"0\", \"1\", \"2\", \"3\", \"4\", \"5\", \"6\", \"7\", \"8\", \"9\", \"10\", \"11\", \"12\", \"13\", \"14\", \"15\", \"16\", \"17\", \"18\", \"19\", \"20\", \"21\", \"22\", \"23\", \"24\", \"25\", \"26\", \"27\", \"29\", \"31\", \"33\", \"35\", \"36\"], \"mode\": \"markers\", \"name\": \"AUC_weighted\", \"stepped\": false, \"type\": \"scatter\", \"data\": [0.5256795080093845, 0.9802816408800817, 0.9537072281033747, 0.8936094333168065, 0.6544276748773004, 0.9606921140040725, 0.9689090159893218, 0.9659099324937405, 0.9594861217733628, 0.9576376841971236, 0.9441875102953429, 0.8032051848102627, 0.790173245116508, 0.974776642016384, 0.9251068415859106, 0.8528062763793167, 0.9635808308871368, 0.9304168251211065, 0.7523855060715914, 0.540412062665178, 0.9097852597750246, 0.5401809237039754, 0.883298704287365, 0.9547090121696282, 0.6303823144155984, 0.9734186070947132, 0.9774882932139434, 0.8070341759470565, 0.9784683065891728, 0.9711273475995728, 0.9737063114552372, 0.9816504975828168, 0.9784458460453268]}, {\"categories\": [\"0\", \"1\", \"2\", \"3\", \"4\", \"5\", \"6\", \"7\", \"8\", \"9\", \"10\", \"11\", \"12\", \"13\", \"14\", \"15\", \"16\", \"17\", \"18\", \"19\", \"20\", \"21\", \"22\", \"23\", \"24\", \"25\", \"26\", \"27\", \"29\", \"31\", \"33\", \"35\", \"36\"], \"mode\": \"lines\", \"name\": \"AUC_weighted_max\", \"stepped\": true, \"type\": \"scatter\", \"data\": [0.5256795080093845, 0.9802816408800817, 0.9802816408800817, 0.9802816408800817, 0.9802816408800817, 0.9802816408800817, 0.9802816408800817, 0.9802816408800817, 0.9802816408800817, 0.9802816408800817, 0.9802816408800817, 0.9802816408800817, 0.9802816408800817, 0.9802816408800817, 0.9802816408800817, 0.9802816408800817, 0.9802816408800817, 0.9802816408800817, 0.9802816408800817, 0.9802816408800817, 0.9802816408800817, 0.9802816408800817, 0.9802816408800817, 0.9802816408800817, 0.9802816408800817, 0.9802816408800817, 0.9802816408800817, 0.9802816408800817, 0.9802816408800817, 0.9802816408800817, 0.9802816408800817, 0.9816504975828168, 0.9816504975828168]}], \"average_precision_score_micro\": [{\"categories\": [\"0\", \"1\", \"2\", \"3\", \"4\", \"5\", \"6\", \"7\", \"8\", \"9\", \"10\", \"11\", \"12\", \"13\", \"14\", \"15\", \"16\", \"17\", \"18\", \"19\", \"20\", \"21\", \"22\", \"23\", \"24\", \"25\", \"26\", \"27\", \"29\", \"31\", \"33\", \"35\", \"36\"], \"mode\": \"markers\", \"name\": \"average_precision_score_micro\", \"stepped\": false, \"type\": \"scatter\", \"data\": [0.9184191100193301, 0.9926372388618625, 0.9868491824640566, 0.05265451339070812, 0.9581234845414083, 0.9873046095959463, 0.9885891218857974, 0.9874398974925948, 0.9869306579295427, 0.6990511596222139, 0.05786030286709425, 0.3948496827043686, 0.5670615863123424, 0.9907516821562514, 0.9826057442956119, 0.9762241423370291, 0.6159998647135337, 0.4009753531020172, 0.5542617983709579, 0.9313363413091117, 0.3924206267065571, 0.9322830629620439, 0.9804534128950642, 0.9866092920374321, 0.01865358695239924, 0.9904823803161857, 0.9889675940967354, 0.21587454225399702, 0.9915678502899268, 0.990365825930039, 0.9906890056964595, 0.9912906506703967, 0.9896391887491974]}, {\"categories\": [\"0\", \"1\", \"2\", \"3\", \"4\", \"5\", \"6\", \"7\", \"8\", \"9\", \"10\", \"11\", \"12\", \"13\", \"14\", \"15\", \"16\", \"17\", \"18\", \"19\", \"20\", \"21\", \"22\", \"23\", \"24\", \"25\", \"26\", \"27\", \"29\", \"31\", \"33\", \"35\", \"36\"], \"mode\": \"lines\", \"name\": \"average_precision_score_micro_max\", \"stepped\": true, \"type\": \"scatter\", \"data\": [0.9184191100193301, 0.9926372388618625, 0.9926372388618625, 0.9926372388618625, 0.9926372388618625, 0.9926372388618625, 0.9926372388618625, 0.9926372388618625, 0.9926372388618625, 0.9926372388618625, 0.9926372388618625, 0.9926372388618625, 0.9926372388618625, 0.9926372388618625, 0.9926372388618625, 0.9926372388618625, 0.9926372388618625, 0.9926372388618625, 0.9926372388618625, 0.9926372388618625, 0.9926372388618625, 0.9926372388618625, 0.9926372388618625, 0.9926372388618625, 0.9926372388618625, 0.9926372388618625, 0.9926372388618625, 0.9926372388618625, 0.9926372388618625, 0.9926372388618625, 0.9926372388618625, 0.9926372388618625, 0.9926372388618625]}], \"f1_score_macro\": [{\"categories\": [\"0\", \"1\", \"2\", \"3\", \"4\", \"5\", \"6\", \"7\", \"8\", \"9\", \"10\", \"11\", \"12\", \"13\", \"14\", \"15\", \"16\", \"17\", \"18\", \"19\", \"20\", \"21\", \"22\", \"23\", \"24\", \"25\", \"26\", \"27\", \"29\", \"31\", \"33\", \"35\", \"36\"], \"mode\": \"markers\", \"name\": \"f1_score_macro\", \"stepped\": false, \"type\": \"scatter\", \"data\": [0.017394402666854086, 0.08374067771413612, 0.01367744816738201, 0.0022958834352512134, 0.01367744816738201, 0.01367744816738201, 0.01367744816738201, 0.01367744816738201, 0.01367744816738201, 0.02407873217155036, 0.008083369561842186, 0.010551518822562441, 0.01052161649968633, 0.0701924072989115, 0.01367744816738201, 0.01367744816738201, 0.010663080481831934, 0.02321372874774231, 0.011071500381021619, 0.01367744816738201, 0.03393809913323301, 0.01367744816738201, 0.01367744816738201, 0.01367744816738201, 0.00010683760683760684, 0.06515736325145813, 0.01367744816738201, 0.006147647650558404, 0.07321032787845899, 0.0626207590244014, 0.08380353893538642, 0.01417396643026245, 0.07352139078780796]}, {\"categories\": [\"0\", \"1\", \"2\", \"3\", \"4\", \"5\", \"6\", \"7\", \"8\", \"9\", \"10\", \"11\", \"12\", \"13\", \"14\", \"15\", \"16\", \"17\", \"18\", \"19\", \"20\", \"21\", \"22\", \"23\", \"24\", \"25\", \"26\", \"27\", \"29\", \"31\", \"33\", \"35\", \"36\"], \"mode\": \"lines\", \"name\": \"f1_score_macro_max\", \"stepped\": true, \"type\": \"scatter\", \"data\": [0.017394402666854086, 0.08374067771413612, 0.08374067771413612, 0.08374067771413612, 0.08374067771413612, 0.08374067771413612, 0.08374067771413612, 0.08374067771413612, 0.08374067771413612, 0.08374067771413612, 0.08374067771413612, 0.08374067771413612, 0.08374067771413612, 0.08374067771413612, 0.08374067771413612, 0.08374067771413612, 0.08374067771413612, 0.08374067771413612, 0.08374067771413612, 0.08374067771413612, 0.08374067771413612, 0.08374067771413612, 0.08374067771413612, 0.08374067771413612, 0.08374067771413612, 0.08374067771413612, 0.08374067771413612, 0.08374067771413612, 0.08374067771413612, 0.08374067771413612, 0.08380353893538642, 0.08380353893538642, 0.08380353893538642]}], \"average_precision_score_weighted\": [{\"categories\": [\"0\", \"1\", \"2\", \"3\", \"4\", \"5\", \"6\", \"7\", \"8\", \"9\", \"10\", \"11\", \"12\", \"13\", \"14\", \"15\", \"16\", \"17\", \"18\", \"19\", \"20\", \"21\", \"22\", \"23\", \"24\", \"25\", \"26\", \"27\", \"29\", \"31\", \"33\", \"35\", \"36\"], \"mode\": \"markers\", \"name\": \"average_precision_score_weighted\", \"stepped\": false, \"type\": \"scatter\", \"data\": [0.9424967662387099, 0.9785232427421731, 0.9699808846921, 0.9664667025579424, 0.951424932909067, 0.9689880666437567, 0.969940390468665, 0.9705523931623706, 0.9699067919076653, 0.9707082335460601, 0.9699013983053058, 0.9631828581304623, 0.962666357353506, 0.9777035510588931, 0.9681930682648076, 0.9650419388940898, 0.969699347285818, 0.9692474994400136, 0.9606045536116234, 0.9262352546753431, 0.969516085247028, 0.9271822839988068, 0.967570200020367, 0.9685223544778127, 0.9507244139100509, 0.9768126323327894, 0.973072036742296, 0.9639762182655482, 0.978300973058305, 0.9772411410182408, 0.9775473264668533, 0.9788042356698312, 0.9780618553300937]}, {\"categories\": [\"0\", \"1\", \"2\", \"3\", \"4\", \"5\", \"6\", \"7\", \"8\", \"9\", \"10\", \"11\", \"12\", \"13\", \"14\", \"15\", \"16\", \"17\", \"18\", \"19\", \"20\", \"21\", \"22\", \"23\", \"24\", \"25\", \"26\", \"27\", \"29\", \"31\", \"33\", \"35\", \"36\"], \"mode\": \"lines\", \"name\": \"average_precision_score_weighted_max\", \"stepped\": true, \"type\": \"scatter\", \"data\": [0.9424967662387099, 0.9785232427421731, 0.9785232427421731, 0.9785232427421731, 0.9785232427421731, 0.9785232427421731, 0.9785232427421731, 0.9785232427421731, 0.9785232427421731, 0.9785232427421731, 0.9785232427421731, 0.9785232427421731, 0.9785232427421731, 0.9785232427421731, 0.9785232427421731, 0.9785232427421731, 0.9785232427421731, 0.9785232427421731, 0.9785232427421731, 0.9785232427421731, 0.9785232427421731, 0.9785232427421731, 0.9785232427421731, 0.9785232427421731, 0.9785232427421731, 0.9785232427421731, 0.9785232427421731, 0.9785232427421731, 0.9785232427421731, 0.9785232427421731, 0.9785232427421731, 0.9788042356698312, 0.9788042356698312]}], \"weighted_accuracy\": [{\"categories\": [\"0\", \"1\", \"2\", \"3\", \"4\", \"5\", \"6\", \"7\", \"8\", \"9\", \"10\", \"11\", \"12\", \"13\", \"14\", \"15\", \"16\", \"17\", \"18\", \"19\", \"20\", \"21\", \"22\", \"23\", \"24\", \"25\", \"26\", \"27\", \"29\", \"31\", \"33\", \"35\", \"36\"], \"mode\": \"markers\", \"name\": \"weighted_accuracy\", \"stepped\": false, \"type\": \"scatter\", \"data\": [0.9868492295284365, 0.9974086286919567, 0.9999586848160317, 0.01831213016436506, 0.9999586848160317, 0.9999586848160317, 0.9999586848160317, 0.9999586848160317, 0.9999586848160317, 0.7104790019288932, 1.5850315289383982e-06, 0.42749282533195454, 0.5675571655579625, 0.9981299771930529, 0.9999586848160317, 0.9999586848160317, 0.6653270175866983, 0.5011402729864709, 0.5675213255816707, 0.9999586848160317, 0.5400396301715205, 0.9999586848160317, 0.9999586848160317, 0.9999586848160317, 1.304552698714731e-09, 0.9980209505058105, 0.9999586848160317, 0.21255796580972453, 0.9974088087202292, 0.9981283086701513, 0.9975172927135489, 0.9999587565664301, 0.9977345594427564]}, {\"categories\": [\"0\", \"1\", \"2\", \"3\", \"4\", \"5\", \"6\", \"7\", \"8\", \"9\", \"10\", \"11\", \"12\", \"13\", \"14\", \"15\", \"16\", \"17\", \"18\", \"19\", \"20\", \"21\", \"22\", \"23\", \"24\", \"25\", \"26\", \"27\", \"29\", \"31\", \"33\", \"35\", \"36\"], \"mode\": \"lines\", \"name\": \"weighted_accuracy_max\", \"stepped\": true, \"type\": \"scatter\", \"data\": [0.9868492295284365, 0.9974086286919567, 0.9999586848160317, 0.9999586848160317, 0.9999586848160317, 0.9999586848160317, 0.9999586848160317, 0.9999586848160317, 0.9999586848160317, 0.9999586848160317, 0.9999586848160317, 0.9999586848160317, 0.9999586848160317, 0.9999586848160317, 0.9999586848160317, 0.9999586848160317, 0.9999586848160317, 0.9999586848160317, 0.9999586848160317, 0.9999586848160317, 0.9999586848160317, 0.9999586848160317, 0.9999586848160317, 0.9999586848160317, 0.9999586848160317, 0.9999586848160317, 0.9999586848160317, 0.9999586848160317, 0.9999586848160317, 0.9999586848160317, 0.9999586848160317, 0.9999587565664301, 0.9999587565664301]}], \"precision_score_weighted\": [{\"categories\": [\"0\", \"1\", \"2\", \"3\", \"4\", \"5\", \"6\", \"7\", \"8\", \"9\", \"10\", \"11\", \"12\", \"13\", \"14\", \"15\", \"16\", \"17\", \"18\", \"19\", \"20\", \"21\", \"22\", \"23\", \"24\", \"25\", \"26\", \"27\", \"29\", \"31\", \"33\", \"35\", \"36\"], \"mode\": \"markers\", \"name\": \"precision_score_weighted\", \"stepped\": false, \"type\": \"scatter\", \"data\": [0.9435420566138664, 0.9628310981610138, 0.9409176722853494, 0.9708122941740481, 0.9409176722853494, 0.9409176722853494, 0.9409176722853494, 0.9409176722853494, 0.9409176722853494, 0.9712455270744289, 0.003317357940418044, 0.9688045989849373, 0.968179931880319, 0.960473175714738, 0.9409176722853494, 0.9409176722853494, 0.9698068822346297, 0.9730650921679026, 0.9682249071176646, 0.9409176722853494, 0.9733193072944587, 0.9409176722853494, 0.9409176722853494, 0.9409176722853494, 1.465945069865476e-07, 0.9597372801984904, 0.9409176722853494, 0.9688187652380006, 0.9620785425950727, 0.9594663909397163, 0.96253752780456, 0.9429105938471918, 0.9621553808972907]}, {\"categories\": [\"0\", \"1\", \"2\", \"3\", \"4\", \"5\", \"6\", \"7\", \"8\", \"9\", \"10\", \"11\", \"12\", \"13\", \"14\", \"15\", \"16\", \"17\", \"18\", \"19\", \"20\", \"21\", \"22\", \"23\", \"24\", \"25\", \"26\", \"27\", \"29\", \"31\", \"33\", \"35\", \"36\"], \"mode\": \"lines\", \"name\": \"precision_score_weighted_max\", \"stepped\": true, \"type\": \"scatter\", \"data\": [0.9435420566138664, 0.9628310981610138, 0.9628310981610138, 0.9708122941740481, 0.9708122941740481, 0.9708122941740481, 0.9708122941740481, 0.9708122941740481, 0.9708122941740481, 0.9712455270744289, 0.9712455270744289, 0.9712455270744289, 0.9712455270744289, 0.9712455270744289, 0.9712455270744289, 0.9712455270744289, 0.9712455270744289, 0.9730650921679026, 0.9730650921679026, 0.9730650921679026, 0.9733193072944587, 0.9733193072944587, 0.9733193072944587, 0.9733193072944587, 0.9733193072944587, 0.9733193072944587, 0.9733193072944587, 0.9733193072944587, 0.9733193072944587, 0.9733193072944587, 0.9733193072944587, 0.9733193072944587, 0.9733193072944587]}], \"average_precision_score_macro\": [{\"categories\": [\"0\", \"1\", \"2\", \"3\", \"4\", \"5\", \"6\", \"7\", \"8\", \"9\", \"10\", \"11\", \"12\", \"13\", \"14\", \"15\", \"16\", \"17\", \"18\", \"19\", \"20\", \"21\", \"22\", \"23\", \"24\", \"25\", \"26\", \"27\", \"29\", \"31\", \"33\", \"35\", \"36\"], \"mode\": \"markers\", \"name\": \"average_precision_score_macro\", \"stepped\": false, \"type\": \"scatter\", \"data\": [0.014335871092833383, 0.13011306020371888, 0.028390268420178937, 0.024108853600460497, 0.014903523767229905, 0.022866244991096334, 0.026094289875130936, 0.03286331235878377, 0.03401528271244381, 0.03442622804476969, 0.031004924428874345, 0.01743214544087475, 0.018927320023306902, 0.09669785139430484, 0.025501313686480162, 0.017309112277137415, 0.023002089765572307, 0.02987769054738755, 0.016278355898024302, 0.0213308186177995, 0.04813370754838597, 0.02134696134278759, 0.029203790366918028, 0.02235559915615864, 0.015104819421620801, 0.08460058139746968, 0.051753702601564186, 0.02118810585158957, 0.10685368729719068, 0.09430014422594592, 0.09715967517310213, 0.13015300182908726, 0.09123158245974529]}, {\"categories\": [\"0\", \"1\", \"2\", \"3\", \"4\", \"5\", \"6\", \"7\", \"8\", \"9\", \"10\", \"11\", \"12\", \"13\", \"14\", \"15\", \"16\", \"17\", \"18\", \"19\", \"20\", \"21\", \"22\", \"23\", \"24\", \"25\", \"26\", \"27\", \"29\", \"31\", \"33\", \"35\", \"36\"], \"mode\": \"lines\", \"name\": \"average_precision_score_macro_max\", \"stepped\": true, \"type\": \"scatter\", \"data\": [0.014335871092833383, 0.13011306020371888, 0.13011306020371888, 0.13011306020371888, 0.13011306020371888, 0.13011306020371888, 0.13011306020371888, 0.13011306020371888, 0.13011306020371888, 0.13011306020371888, 0.13011306020371888, 0.13011306020371888, 0.13011306020371888, 0.13011306020371888, 0.13011306020371888, 0.13011306020371888, 0.13011306020371888, 0.13011306020371888, 0.13011306020371888, 0.13011306020371888, 0.13011306020371888, 0.13011306020371888, 0.13011306020371888, 0.13011306020371888, 0.13011306020371888, 0.13011306020371888, 0.13011306020371888, 0.13011306020371888, 0.13011306020371888, 0.13011306020371888, 0.13011306020371888, 0.13015300182908726, 0.13015300182908726]}], \"accuracy\": [{\"categories\": [\"0\", \"1\", \"2\", \"3\", \"4\", \"5\", \"6\", \"7\", \"8\", \"9\", \"10\", \"11\", \"12\", \"13\", \"14\", \"15\", \"16\", \"17\", \"18\", \"19\", \"20\", \"21\", \"22\", \"23\", \"24\", \"25\", \"26\", \"27\", \"29\", \"31\", \"33\", \"35\", \"36\"], \"mode\": \"markers\", \"name\": \"accuracy\", \"stepped\": false, \"type\": \"scatter\", \"data\": [0.9578515871347488, 0.9745638007147361, 0.9700091093826642, 0.018008548805269427, 0.9700091093826642, 0.9700091093826642, 0.9700091093826642, 0.9700091093826642, 0.9700091093826642, 0.6919977576904212, 0.0011211547894331162, 0.41584331861817675, 0.5514329759652442, 0.9743886202788873, 0.9700091093826642, 0.9700091093826642, 0.6458552308878145, 0.48878845210566885, 0.5515380842267535, 0.9700091093826642, 0.5271179314694135, 0.9700091093826642, 0.9700091093826642, 0.9700091093826642, 3.503608716978488e-05, 0.97393315114568, 0.9700091093826642, 0.20846471866022004, 0.974423656366057, 0.973617826361152, 0.9747740172377549, 0.970044145469834, 0.9748791254992643]}, {\"categories\": [\"0\", \"1\", \"2\", \"3\", \"4\", \"5\", \"6\", \"7\", \"8\", \"9\", \"10\", \"11\", \"12\", \"13\", \"14\", \"15\", \"16\", \"17\", \"18\", \"19\", \"20\", \"21\", \"22\", \"23\", \"24\", \"25\", \"26\", \"27\", \"29\", \"31\", \"33\", \"35\", \"36\"], \"mode\": \"lines\", \"name\": \"accuracy_max\", \"stepped\": true, \"type\": \"scatter\", \"data\": [0.9578515871347488, 0.9745638007147361, 0.9745638007147361, 0.9745638007147361, 0.9745638007147361, 0.9745638007147361, 0.9745638007147361, 0.9745638007147361, 0.9745638007147361, 0.9745638007147361, 0.9745638007147361, 0.9745638007147361, 0.9745638007147361, 0.9745638007147361, 0.9745638007147361, 0.9745638007147361, 0.9745638007147361, 0.9745638007147361, 0.9745638007147361, 0.9745638007147361, 0.9745638007147361, 0.9745638007147361, 0.9745638007147361, 0.9745638007147361, 0.9745638007147361, 0.9745638007147361, 0.9745638007147361, 0.9745638007147361, 0.9745638007147361, 0.9745638007147361, 0.9747740172377549, 0.9747740172377549, 0.9748791254992643]}], \"log_loss\": [{\"categories\": [\"0\", \"1\", \"2\", \"3\", \"4\", \"5\", \"6\", \"7\", \"8\", \"9\", \"10\", \"11\", \"12\", \"13\", \"14\", \"15\", \"16\", \"17\", \"18\", \"19\", \"20\", \"21\", \"22\", \"23\", \"24\", \"25\", \"26\", \"27\", \"29\", \"31\", \"33\", \"35\", \"36\"], \"mode\": \"markers\", \"name\": \"log_loss\", \"stepped\": false, \"type\": \"scatter\", \"data\": [1.4557546073533711, 0.11703256526578837, 0.17526333100134225, 4.287308137868566, 0.2406499218617916, 0.1570054722499136, 0.15361526620386773, 0.17342684555130666, 0.17293964249915242, 2.636853825493258, 4.1112652947921395, 3.2387699979615396, 3.666711057759093, 0.4370709666345188, 0.21682541678553435, 0.2127056670907218, 2.2028701464259015, 4.160341439796423, 4.073106210859632, 0.24302343029273452, 15.334911141913663, 0.2430226369740719, 0.20091109883406527, 0.1585723669722917, 4.326410253684143, 0.4390423171428346, 0.16229906242960473, 3.165753521726599, 0.12954203611040987, 0.4379309690617883, 0.4347027947888606, 0.23556484145540318, 0.14676362519778133]}, {\"categories\": [\"0\", \"1\", \"2\", \"3\", \"4\", \"5\", \"6\", \"7\", \"8\", \"9\", \"10\", \"11\", \"12\", \"13\", \"14\", \"15\", \"16\", \"17\", \"18\", \"19\", \"20\", \"21\", \"22\", \"23\", \"24\", \"25\", \"26\", \"27\", \"29\", \"31\", \"33\", \"35\", \"36\"], \"mode\": \"lines\", \"name\": \"log_loss_min\", \"stepped\": true, \"type\": \"scatter\", \"data\": [1.4557546073533711, 0.11703256526578837, 0.11703256526578837, 0.11703256526578837, 0.11703256526578837, 0.11703256526578837, 0.11703256526578837, 0.11703256526578837, 0.11703256526578837, 0.11703256526578837, 0.11703256526578837, 0.11703256526578837, 0.11703256526578837, 0.11703256526578837, 0.11703256526578837, 0.11703256526578837, 0.11703256526578837, 0.11703256526578837, 0.11703256526578837, 0.11703256526578837, 0.11703256526578837, 0.11703256526578837, 0.11703256526578837, 0.11703256526578837, 0.11703256526578837, 0.11703256526578837, 0.11703256526578837, 0.11703256526578837, 0.11703256526578837, 0.11703256526578837, 0.11703256526578837, 0.11703256526578837, 0.11703256526578837]}], \"AUC_macro\": [{\"categories\": [\"0\", \"1\", \"2\", \"3\", \"4\", \"5\", \"6\", \"7\", \"8\", \"9\", \"10\", \"11\", \"12\", \"13\", \"14\", \"15\", \"16\", \"17\", \"18\", \"19\", \"20\", \"21\", \"22\", \"23\", \"24\", \"25\", \"26\", \"27\", \"29\", \"31\", \"33\", \"35\", \"36\"], \"mode\": \"markers\", \"name\": \"AUC_macro\", \"stepped\": false, \"type\": \"scatter\", \"data\": [0.502262864727254, 0.9532229444550848, 0.9019464235590853, 0.6942512090962166, 0.6317514013985616, 0.9128241999415292, 0.9341343291520455, 0.9200053270497394, 0.9286631765677471, 0.8437985645317347, 0.7353200495846746, 0.7570134098352879, 0.7709886742968183, 0.921985975202722, 0.8484433966979364, 0.8773931744415077, 0.8539423827600504, 0.7935363158783735, 0.6917297135748637, 0.4623623503800436, 0.8145599798718635, 0.4628236557538821, 0.9101055548831426, 0.8907017812097879, 0.6223084413982656, 0.9114116130229556, 0.9402014712745034, 0.7513613894267621, 0.9355343158787345, 0.8688357241694019, 0.9197076786453297, 0.9467556500780206, 0.9158932235666608]}, {\"categories\": [\"0\", \"1\", \"2\", \"3\", \"4\", \"5\", \"6\", \"7\", \"8\", \"9\", \"10\", \"11\", \"12\", \"13\", \"14\", \"15\", \"16\", \"17\", \"18\", \"19\", \"20\", \"21\", \"22\", \"23\", \"24\", \"25\", \"26\", \"27\", \"29\", \"31\", \"33\", \"35\", \"36\"], \"mode\": \"lines\", \"name\": \"AUC_macro_max\", \"stepped\": true, \"type\": \"scatter\", \"data\": [0.502262864727254, 0.9532229444550848, 0.9532229444550848, 0.9532229444550848, 0.9532229444550848, 0.9532229444550848, 0.9532229444550848, 0.9532229444550848, 0.9532229444550848, 0.9532229444550848, 0.9532229444550848, 0.9532229444550848, 0.9532229444550848, 0.9532229444550848, 0.9532229444550848, 0.9532229444550848, 0.9532229444550848, 0.9532229444550848, 0.9532229444550848, 0.9532229444550848, 0.9532229444550848, 0.9532229444550848, 0.9532229444550848, 0.9532229444550848, 0.9532229444550848, 0.9532229444550848, 0.9532229444550848, 0.9532229444550848, 0.9532229444550848, 0.9532229444550848, 0.9532229444550848, 0.9532229444550848, 0.9532229444550848]}], \"matthews_correlation\": [{\"categories\": [\"0\", \"1\", \"2\", \"3\", \"4\", \"5\", \"6\", \"7\", \"8\", \"9\", \"10\", \"11\", \"12\", \"13\", \"14\", \"15\", \"16\", \"17\", \"18\", \"19\", \"20\", \"21\", \"22\", \"23\", \"24\", \"25\", \"26\", \"27\", \"29\", \"31\", \"33\", \"35\", \"36\"], \"mode\": \"markers\", \"name\": \"matthews_correlation\", \"stepped\": false, \"type\": \"scatter\", \"data\": [0.049651206014514886, 0.455972296063419, 0.0, 0.00650600253454408, 0.0, 0.0, 0.0, 0.0, 0.0, 0.13176935893972463, 0.0058802375248095395, 0.05890669300288341, 0.08151279310252282, 0.428217928103764, 0.0, 0.0, 0.1071037941736521, 0.08411029845274336, 0.08254954234748763, 0.0, 0.0972879426052104, 0.0, 0.0, 0.0, 0.00013995470587303615, 0.41619681014036636, 0.0, 0.0335518285596378, 0.45634361734528256, 0.402830630182412, 0.45902654052814684, 0.03577364799338233, 0.45361955270061394]}, {\"categories\": [\"0\", \"1\", \"2\", \"3\", \"4\", \"5\", \"6\", \"7\", \"8\", \"9\", \"10\", \"11\", \"12\", \"13\", \"14\", \"15\", \"16\", \"17\", \"18\", \"19\", \"20\", \"21\", \"22\", \"23\", \"24\", \"25\", \"26\", \"27\", \"29\", \"31\", \"33\", \"35\", \"36\"], \"mode\": \"lines\", \"name\": \"matthews_correlation_max\", \"stepped\": true, \"type\": \"scatter\", \"data\": [0.049651206014514886, 0.455972296063419, 0.455972296063419, 0.455972296063419, 0.455972296063419, 0.455972296063419, 0.455972296063419, 0.455972296063419, 0.455972296063419, 0.455972296063419, 0.455972296063419, 0.455972296063419, 0.455972296063419, 0.455972296063419, 0.455972296063419, 0.455972296063419, 0.455972296063419, 0.455972296063419, 0.455972296063419, 0.455972296063419, 0.455972296063419, 0.455972296063419, 0.455972296063419, 0.455972296063419, 0.455972296063419, 0.455972296063419, 0.455972296063419, 0.455972296063419, 0.45634361734528256, 0.45634361734528256, 0.45902654052814684, 0.45902654052814684, 0.45902654052814684]}], \"precision_score_micro\": [{\"categories\": [\"0\", \"1\", \"2\", \"3\", \"4\", \"5\", \"6\", \"7\", \"8\", \"9\", \"10\", \"11\", \"12\", \"13\", \"14\", \"15\", \"16\", \"17\", \"18\", \"19\", \"20\", \"21\", \"22\", \"23\", \"24\", \"25\", \"26\", \"27\", \"29\", \"31\", \"33\", \"35\", \"36\"], \"mode\": \"markers\", \"name\": \"precision_score_micro\", \"stepped\": false, \"type\": \"scatter\", \"data\": [0.9578515871347488, 0.9745638007147361, 0.9700091093826642, 0.018008548805269427, 0.9700091093826642, 0.9700091093826642, 0.9700091093826642, 0.9700091093826642, 0.9700091093826642, 0.6919977576904212, 0.0011211547894331162, 0.41584331861817675, 0.5514329759652442, 0.9743886202788873, 0.9700091093826642, 0.9700091093826642, 0.6458552308878145, 0.48878845210566885, 0.5515380842267535, 0.9700091093826642, 0.5271179314694135, 0.9700091093826642, 0.9700091093826642, 0.9700091093826642, 3.503608716978488e-05, 0.97393315114568, 0.9700091093826642, 0.20846471866022004, 0.974423656366057, 0.973617826361152, 0.9747740172377549, 0.970044145469834, 0.9748791254992643]}, {\"categories\": [\"0\", \"1\", \"2\", \"3\", \"4\", \"5\", \"6\", \"7\", \"8\", \"9\", \"10\", \"11\", \"12\", \"13\", \"14\", \"15\", \"16\", \"17\", \"18\", \"19\", \"20\", \"21\", \"22\", \"23\", \"24\", \"25\", \"26\", \"27\", \"29\", \"31\", \"33\", \"35\", \"36\"], \"mode\": \"lines\", \"name\": \"precision_score_micro_max\", \"stepped\": true, \"type\": \"scatter\", \"data\": [0.9578515871347488, 0.9745638007147361, 0.9745638007147361, 0.9745638007147361, 0.9745638007147361, 0.9745638007147361, 0.9745638007147361, 0.9745638007147361, 0.9745638007147361, 0.9745638007147361, 0.9745638007147361, 0.9745638007147361, 0.9745638007147361, 0.9745638007147361, 0.9745638007147361, 0.9745638007147361, 0.9745638007147361, 0.9745638007147361, 0.9745638007147361, 0.9745638007147361, 0.9745638007147361, 0.9745638007147361, 0.9745638007147361, 0.9745638007147361, 0.9745638007147361, 0.9745638007147361, 0.9745638007147361, 0.9745638007147361, 0.9745638007147361, 0.9745638007147361, 0.9747740172377549, 0.9747740172377549, 0.9748791254992643]}], \"precision_score_macro\": [{\"categories\": [\"0\", \"1\", \"2\", \"3\", \"4\", \"5\", \"6\", \"7\", \"8\", \"9\", \"10\", \"11\", \"12\", \"13\", \"14\", \"15\", \"16\", \"17\", \"18\", \"19\", \"20\", \"21\", \"22\", \"23\", \"24\", \"25\", \"26\", \"27\", \"29\", \"31\", \"33\", \"35\", \"36\"], \"mode\": \"markers\", \"name\": \"precision_score_macro\", \"stepped\": false, \"type\": \"scatter\", \"data\": [0.021921505164492205, 0.1143140363661032, 0.013472348741425891, 0.0183491033650604, 0.013472348741425891, 0.013472348741425891, 0.013472348741425891, 0.013472348741425891, 0.013472348741425891, 0.025986921955865282, 0.02460186790900257, 0.01589799745222938, 0.013293083173952105, 0.08831440366358229, 0.013472348741425891, 0.013472348741425891, 0.01294613324808735, 0.03800883521974314, 0.013801064745420094, 0.013472348741425891, 0.05039440187359147, 0.013472348741425891, 0.013472348741425891, 0.013472348741425891, 5.364231305653899e-05, 0.08260530904350685, 0.013472348741425891, 0.013337059712418626, 0.0859845964294453, 0.08241086593417624, 0.11445972267788505, 0.0273621817332399, 0.09598222221627592]}, {\"categories\": [\"0\", \"1\", \"2\", \"3\", \"4\", \"5\", \"6\", \"7\", \"8\", \"9\", \"10\", \"11\", \"12\", \"13\", \"14\", \"15\", \"16\", \"17\", \"18\", \"19\", \"20\", \"21\", \"22\", \"23\", \"24\", \"25\", \"26\", \"27\", \"29\", \"31\", \"33\", \"35\", \"36\"], \"mode\": \"lines\", \"name\": \"precision_score_macro_max\", \"stepped\": true, \"type\": \"scatter\", \"data\": [0.021921505164492205, 0.1143140363661032, 0.1143140363661032, 0.1143140363661032, 0.1143140363661032, 0.1143140363661032, 0.1143140363661032, 0.1143140363661032, 0.1143140363661032, 0.1143140363661032, 0.1143140363661032, 0.1143140363661032, 0.1143140363661032, 0.1143140363661032, 0.1143140363661032, 0.1143140363661032, 0.1143140363661032, 0.1143140363661032, 0.1143140363661032, 0.1143140363661032, 0.1143140363661032, 0.1143140363661032, 0.1143140363661032, 0.1143140363661032, 0.1143140363661032, 0.1143140363661032, 0.1143140363661032, 0.1143140363661032, 0.1143140363661032, 0.1143140363661032, 0.11445972267788505, 0.11445972267788505, 0.11445972267788505]}], \"AUC_micro\": [{\"categories\": [\"0\", \"1\", \"2\", \"3\", \"4\", \"5\", \"6\", \"7\", \"8\", \"9\", \"10\", \"11\", \"12\", \"13\", \"14\", \"15\", \"16\", \"17\", \"18\", \"19\", \"20\", \"21\", \"22\", \"23\", \"24\", \"25\", \"26\", \"27\", \"29\", \"31\", \"33\", \"35\", \"36\"], \"mode\": \"markers\", \"name\": \"AUC_micro\", \"stepped\": false, \"type\": \"scatter\", \"data\": [0.9788058422869684, 0.9995853603907839, 0.9977082599232923, 0.7354920777323859, 0.9948356032775245, 0.9992808190404803, 0.9993757618141532, 0.9978809361805047, 0.9977541173389122, 0.8991114535747081, 0.8545716313254248, 0.8437195032277145, 0.8220723095908427, 0.9992400658883949, 0.9963954265857289, 0.9978861562711001, 0.9204073013249134, 0.9001242864737743, 0.7527174602651309, 0.9943963730513056, 0.934238800329767, 0.9944002175307436, 0.998187088168, 0.9991881756074911, 0.6288312071994637, 0.9991852472575179, 0.9984038639079295, 0.8384705547965063, 0.9993792131059551, 0.9991272965904693, 0.9992375325370391, 0.9990943482243209, 0.9967099996158045]}, {\"categories\": [\"0\", \"1\", \"2\", \"3\", \"4\", \"5\", \"6\", \"7\", \"8\", \"9\", \"10\", \"11\", \"12\", \"13\", \"14\", \"15\", \"16\", \"17\", \"18\", \"19\", \"20\", \"21\", \"22\", \"23\", \"24\", \"25\", \"26\", \"27\", \"29\", \"31\", \"33\", \"35\", \"36\"], \"mode\": \"lines\", \"name\": \"AUC_micro_max\", \"stepped\": true, \"type\": \"scatter\", \"data\": [0.9788058422869684, 0.9995853603907839, 0.9995853603907839, 0.9995853603907839, 0.9995853603907839, 0.9995853603907839, 0.9995853603907839, 0.9995853603907839, 0.9995853603907839, 0.9995853603907839, 0.9995853603907839, 0.9995853603907839, 0.9995853603907839, 0.9995853603907839, 0.9995853603907839, 0.9995853603907839, 0.9995853603907839, 0.9995853603907839, 0.9995853603907839, 0.9995853603907839, 0.9995853603907839, 0.9995853603907839, 0.9995853603907839, 0.9995853603907839, 0.9995853603907839, 0.9995853603907839, 0.9995853603907839, 0.9995853603907839, 0.9995853603907839, 0.9995853603907839, 0.9995853603907839, 0.9995853603907839, 0.9995853603907839]}], \"recall_score_weighted\": [{\"categories\": [\"0\", \"1\", \"2\", \"3\", \"4\", \"5\", \"6\", \"7\", \"8\", \"9\", \"10\", \"11\", \"12\", \"13\", \"14\", \"15\", \"16\", \"17\", \"18\", \"19\", \"20\", \"21\", \"22\", \"23\", \"24\", \"25\", \"26\", \"27\", \"29\", \"31\", \"33\", \"35\", \"36\"], \"mode\": \"markers\", \"name\": \"recall_score_weighted\", \"stepped\": false, \"type\": \"scatter\", \"data\": [0.9578515871347488, 0.9745638007147361, 0.9700091093826642, 0.018008548805269427, 0.9700091093826642, 0.9700091093826642, 0.9700091093826642, 0.9700091093826642, 0.9700091093826642, 0.6919977576904212, 0.0011211547894331162, 0.41584331861817675, 0.5514329759652442, 0.9743886202788873, 0.9700091093826642, 0.9700091093826642, 0.6458552308878145, 0.4887884521056689, 0.5515380842267535, 0.9700091093826642, 0.5271179314694135, 0.9700091093826642, 0.9700091093826642, 0.9700091093826642, 3.503608716978488e-05, 0.97393315114568, 0.9700091093826642, 0.20846471866022004, 0.974423656366057, 0.973617826361152, 0.9747740172377549, 0.970044145469834, 0.9748791254992643]}, {\"categories\": [\"0\", \"1\", \"2\", \"3\", \"4\", \"5\", \"6\", \"7\", \"8\", \"9\", \"10\", \"11\", \"12\", \"13\", \"14\", \"15\", \"16\", \"17\", \"18\", \"19\", \"20\", \"21\", \"22\", \"23\", \"24\", \"25\", \"26\", \"27\", \"29\", \"31\", \"33\", \"35\", \"36\"], \"mode\": \"lines\", \"name\": \"recall_score_weighted_max\", \"stepped\": true, \"type\": \"scatter\", \"data\": [0.9578515871347488, 0.9745638007147361, 0.9745638007147361, 0.9745638007147361, 0.9745638007147361, 0.9745638007147361, 0.9745638007147361, 0.9745638007147361, 0.9745638007147361, 0.9745638007147361, 0.9745638007147361, 0.9745638007147361, 0.9745638007147361, 0.9745638007147361, 0.9745638007147361, 0.9745638007147361, 0.9745638007147361, 0.9745638007147361, 0.9745638007147361, 0.9745638007147361, 0.9745638007147361, 0.9745638007147361, 0.9745638007147361, 0.9745638007147361, 0.9745638007147361, 0.9745638007147361, 0.9745638007147361, 0.9745638007147361, 0.9745638007147361, 0.9745638007147361, 0.9747740172377549, 0.9747740172377549, 0.9748791254992643]}], \"f1_score_weighted\": [{\"categories\": [\"0\", \"1\", \"2\", \"3\", \"4\", \"5\", \"6\", \"7\", \"8\", \"9\", \"10\", \"11\", \"12\", \"13\", \"14\", \"15\", \"16\", \"17\", \"18\", \"19\", \"20\", \"21\", \"22\", \"23\", \"24\", \"25\", \"26\", \"27\", \"29\", \"31\", \"33\", \"35\", \"36\"], \"mode\": \"markers\", \"name\": \"f1_score_weighted\", \"stepped\": false, \"type\": \"scatter\", \"data\": [0.9503366635277836, 0.9681270513948116, 0.9552419507138238, 0.035125390710054334, 0.9552419507138238, 0.9552419507138238, 0.9552419507138238, 0.9552419507138238, 0.9552419507138238, 0.8074036194308833, 0.0008550249405583316, 0.5810492669734264, 0.7020744082683554, 0.9668928491940313, 0.9552419507138238, 0.9552419507138238, 0.7750386076047266, 0.6494750651883959, 0.7021072663985637, 0.9552419507138238, 0.6821679947257804, 0.9552419507138238, 0.9552419507138238, 0.9552419507138238, 2.9196739308154064e-07, 0.9662458502420541, 0.9552419507138238, 0.3402362158074575, 0.9679436568716975, 0.9656814240699608, 0.9681525089220946, 0.9553447502551431, 0.9677889811109147]}, {\"categories\": [\"0\", \"1\", \"2\", \"3\", \"4\", \"5\", \"6\", \"7\", \"8\", \"9\", \"10\", \"11\", \"12\", \"13\", \"14\", \"15\", \"16\", \"17\", \"18\", \"19\", \"20\", \"21\", \"22\", \"23\", \"24\", \"25\", \"26\", \"27\", \"29\", \"31\", \"33\", \"35\", \"36\"], \"mode\": \"lines\", \"name\": \"f1_score_weighted_max\", \"stepped\": true, \"type\": \"scatter\", \"data\": [0.9503366635277836, 0.9681270513948116, 0.9681270513948116, 0.9681270513948116, 0.9681270513948116, 0.9681270513948116, 0.9681270513948116, 0.9681270513948116, 0.9681270513948116, 0.9681270513948116, 0.9681270513948116, 0.9681270513948116, 0.9681270513948116, 0.9681270513948116, 0.9681270513948116, 0.9681270513948116, 0.9681270513948116, 0.9681270513948116, 0.9681270513948116, 0.9681270513948116, 0.9681270513948116, 0.9681270513948116, 0.9681270513948116, 0.9681270513948116, 0.9681270513948116, 0.9681270513948116, 0.9681270513948116, 0.9681270513948116, 0.9681270513948116, 0.9681270513948116, 0.9681525089220946, 0.9681525089220946, 0.9681525089220946]}]}, \"metricName\": null, \"primaryMetricName\": \"AUC_weighted\", \"showLegend\": false}, \"run_metrics\": [{\"name\": \"experiment_status\", \"run_id\": \"AutoML_6d003079-c9d5-47b8-a7a1-b0de97860854\", \"categories\": [0, 1, 2, 3, 4, 5, 6, 7, 8, 9], \"series\": [{\"data\": [\"DatasetEvaluation\", \"FeaturesGeneration\", \"DatasetFeaturization\", \"DatasetFeaturizationCompleted\", \"DatasetBalancing\", \"ModelSelection\", \"BestRunExplainModel\", \"ModelExplanationDataSetSetup\", \"PickSurrogateModel\", \"EngineeredFeatureExplanations\"]}]}, {\"name\": \"experiment_status_description\", \"run_id\": \"AutoML_6d003079-c9d5-47b8-a7a1-b0de97860854\", \"categories\": [0, 1, 2, 3, 4, 5, 6, 7, 8, 9], \"series\": [{\"data\": [\"Gathering dataset statistics.\", \"Generating features for the dataset.\", \"Beginning to fit featurizers and featurize the dataset.\", \"Completed fit featurizers and featurizing the dataset.\", \"Performing class balancing sweeping\", \"Beginning model selection.\", \"Best run model explanations started\", \"Model explanations data setup completed\", \"Choosing LightGBM as the surrogate model for explanations\", \"Computation of engineered features started\"]}]}], \"run_logs\": \"\\nRun is completed.\", \"graph\": {}, \"widget_settings\": {\"childWidgetDisplay\": \"popup\", \"send_telemetry\": false, \"log_level\": \"INFO\", \"sdk_version\": \"1.18.0\"}, \"loading\": false}"
          },
          "metadata": {}
        }
      ],
      "execution_count": 10,
      "metadata": {
        "gather": {
          "logged": 1612074461184
        },
        "jupyter": {
          "outputs_hidden": false,
          "source_hidden": false
        },
        "nteract": {
          "transient": {
            "deleting": false
          }
        }
      }
    },
    {
      "cell_type": "markdown",
      "source": [
        "## Best Model\n",
        "The best model found was an Ensemble, which allows multiple different models to be run to find the best option for a variety of data.\n"
      ],
      "metadata": {}
    },
    {
      "cell_type": "code",
      "source": [
        "remote_run = azureml.train.automl.run.AutoMLRun(experiment, \"AutoML_6d003079-c9d5-47b8-a7a1-b0de97860854\")\n",
        "best_run, model = remote_run.get_output()\n",
        "model\n",
        "metrics_output = best_run.get_metrics()\n",
        "metrics_output"
      ],
      "outputs": [
        {
          "output_type": "execute_result",
          "execution_count": 4,
          "data": {
            "text/plain": "{'f1_score_micro': 0.970044145469834,\n 'precision_score_macro': 0.0273621817332399,\n 'recall_score_micro': 0.970044145469834,\n 'AUC_macro': 0.9467556500780206,\n 'balanced_accuracy': 0.01414141414141414,\n 'norm_macro_recall': 0.00025608194622279116,\n 'precision_score_micro': 0.970044145469834,\n 'average_precision_score_macro': 0.13015300182908726,\n 'recall_score_macro': 0.01414141414141414,\n 'matthews_correlation': 0.03577364799338233,\n 'log_loss': 0.23556484145540318,\n 'accuracy': 0.970044145469834,\n 'weighted_accuracy': 0.9999587565664301,\n 'f1_score_weighted': 0.9553447502551431,\n 'recall_score_weighted': 0.970044145469834,\n 'AUC_weighted': 0.9816504975828168,\n 'average_precision_score_weighted': 0.9788042356698312,\n 'precision_score_weighted': 0.9429105938471918,\n 'average_precision_score_micro': 0.9912906506703967,\n 'f1_score_macro': 0.01417396643026245,\n 'AUC_micro': 0.9990943482243209,\n 'accuracy_table': 'aml://artifactId/ExperimentRun/dcid.AutoML_6d003079-c9d5-47b8-a7a1-b0de97860854_35/accuracy_table',\n 'confusion_matrix': 'aml://artifactId/ExperimentRun/dcid.AutoML_6d003079-c9d5-47b8-a7a1-b0de97860854_35/confusion_matrix'}"
          },
          "metadata": {}
        }
      ],
      "execution_count": 4,
      "metadata": {
        "gather": {
          "logged": 1612247641469
        },
        "jupyter": {
          "outputs_hidden": false,
          "source_hidden": false
        },
        "nteract": {
          "transient": {
            "deleting": false
          }
        }
      }
    },
    {
      "cell_type": "code",
      "source": [
        "import joblib\n",
        "\n",
        "joblib.dump(model, 'automl_model.joblib')"
      ],
      "outputs": [
        {
          "output_type": "execute_result",
          "execution_count": 7,
          "data": {
            "text/plain": "['automl_model.joblib']"
          },
          "metadata": {}
        }
      ],
      "execution_count": 7,
      "metadata": {
        "gather": {
          "logged": 1612157099126
        },
        "jupyter": {
          "outputs_hidden": false,
          "source_hidden": false
        },
        "nteract": {
          "transient": {
            "deleting": false
          }
        }
      }
    },
    {
      "cell_type": "markdown",
      "source": [
        "## Model Deployment\n",
        "\n",
        "I deployed this model as it does have a better score than the hyper parameter models.  I am able to see the AUC and optimize for that, where it was difficult to find a model that would run in the required time using manual scripts.\n"
      ],
      "metadata": {}
    },
    {
      "cell_type": "code",
      "source": [
        "description = 'Trucking Application Scoring'\n",
        "model = remote_run.register_model(description = description,\n",
        "                               tags={'area': 'mnist'}, model_name='trucking-app-model')\n",
        "\n",
        "print(model.name, model.id, model.version, sep='\\t')\n",
        "\n"
      ],
      "outputs": [
        {
          "output_type": "stream",
          "name": "stdout",
          "text": [
            "trucking-app-model\ttrucking-app-model:2\t2\n"
          ]
        }
      ],
      "execution_count": 5,
      "metadata": {
        "gather": {
          "logged": 1612247662514
        },
        "jupyter": {
          "outputs_hidden": false,
          "source_hidden": false
        },
        "nteract": {
          "transient": {
            "deleting": false
          }
        }
      }
    },
    {
      "cell_type": "code",
      "source": [
        "%%writefile score.py\r\n",
        "# ---------------------------------------------------------\r\n",
        "# Copyright (c) Microsoft Corporation. All rights reserved.\r\n",
        "# ---------------------------------------------------------\r\n",
        "import json\r\n",
        "import logging\r\n",
        "import os\r\n",
        "import pickle\r\n",
        "import numpy as np\r\n",
        "import pandas as pd\r\n",
        "import joblib\r\n",
        "\r\n",
        "import azureml.automl.core\r\n",
        "from azureml.automl.core.shared import logging_utilities, log_server\r\n",
        "from azureml.telemetry import INSTRUMENTATION_KEY\r\n",
        "\r\n",
        "from inference_schema.schema_decorators import input_schema, output_schema\r\n",
        "from inference_schema.parameter_types.numpy_parameter_type import NumpyParameterType\r\n",
        "from inference_schema.parameter_types.pandas_parameter_type import PandasParameterType\r\n",
        "\r\n",
        "\r\n",
        "input_sample = pd.DataFrame({\"app.cre_AppId\": pd.Series([0], dtype=\"int64\"), \"app.cre_Experience\": pd.Series([0.0], dtype=\"float64\"), \"app.cre_MonthsExperienceinPast36\": pd.Series([0.0], dtype=\"float64\"), \"app.cre_PardotScore\": pd.Series([\"example_value\"], dtype=\"object\"), \"app.cre_Veteran\": pd.Series([0.0], dtype=\"float64\"), \"app.cre_WantTeamDriver\": pd.Series([0.0], dtype=\"float64\"), \"app.cre_DriverApplicationSource\": pd.Series([\"example_value\"], dtype=\"object\"), \"app.cre_RecordSource\": pd.Series([\"example_value\"], dtype=\"object\"), \"app.cre_CDLType\": pd.Series([0.0], dtype=\"float64\"), \"app.cre_AccidentInformationProvided\": pd.Series([False], dtype=\"bool\"), \"app.cre_ContactInformationProvided\": pd.Series([False], dtype=\"bool\"), \"app.cre_CriminalInformationProvided\": pd.Series([False], dtype=\"bool\"), \"app.cre_TicketInformationProvided\": pd.Series([False], dtype=\"bool\"), \"app.cre_ScoreCurrent\": pd.Series([0.0], dtype=\"float64\"), \"app.cre_ScoreInitial\": pd.Series([0.0], dtype=\"float64\"), \"app.cre_VettingStatus\": pd.Series([0.0], dtype=\"float64\"), \"app.cre_AccidentCount\": pd.Series([0.0], dtype=\"float64\"), \"app.cre_DUICount\": pd.Series([0.0], dtype=\"float64\"), \"app.cre_MovingViolationCount\": pd.Series([0.0], dtype=\"float64\"), \"app.cre_SoftFicoScore\": pd.Series([0.0], dtype=\"float64\"), \"app.cre_CDLCLPExp\": pd.Series([\"example_value\"], dtype=\"object\"), \"app.cre_FelonyCount\": pd.Series([0.0], dtype=\"float64\"), \"address1_postalcode\": pd.Series([0.0], dtype=\"float64\"), \"cre_referralcode\": pd.Series([\"example_value\"], dtype=\"object\"), \"cre_referralestimatedexperience\": pd.Series([0.0], dtype=\"float64\"), \"cre_referralsourceid\": pd.Series([\"example_value\"], dtype=\"object\"), \"cre_accidentcount\": pd.Series([0.0], dtype=\"float64\"), \"cre_canpassdrugtest\": pd.Series([\"example_value\"], dtype=\"object\"), \"cre_cdlclass\": pd.Series([\"example_value\"], dtype=\"object\"), \"cre_cdlexp\": pd.Series([0.0], dtype=\"float64\"), \"cre_duicount\": pd.Series([\"example_value\"], dtype=\"object\"), \"cre_hascdl\": pd.Series([\"example_value\"], dtype=\"object\"), \"cre_honorablydischarged\": pd.Series([\"example_value\"], dtype=\"object\"), \"cre_movingviolationcount\": pd.Series([0.0], dtype=\"float64\"), \"cre_recordsource\": pd.Series([0.0], dtype=\"float64\"), \"cre_veteran\": pd.Series([\"example_value\"], dtype=\"object\"), \"cre_washonorablydischarged\": pd.Series([0.0], dtype=\"float64\"), \"cre_minsoftficoscore\": pd.Series([\"example_value\"], dtype=\"object\"), \"cre_softficoscore\": pd.Series([\"example_value\"], dtype=\"object\"), \"cre_militarydischargedon\": pd.Series([\"2000-1-1\"], dtype=\"datetime64[ns]\"), \"cre_recklessdrivingcount\": pd.Series([0.0], dtype=\"float64\"), \"cre_driverchewtobacco\": pd.Series([0.0], dtype=\"float64\"), \"cre_driversmoker\": pd.Series([0.0], dtype=\"float64\"), \"cre_drivervapeuser\": pd.Series([0.0], dtype=\"float64\"), \"cre_teamchewtobaccousers\": pd.Series([0.0], dtype=\"float64\"), \"cre_teamoppositegender\": pd.Series([\"example_value\"], dtype=\"object\"), \"cre_teamsmokers\": pd.Series([0.0], dtype=\"float64\"), \"cre_teamvapeusers\": pd.Series([0.0], dtype=\"float64\"), \"cre_teamgender\": pd.Series([0.0], dtype=\"float64\"), \"cre_donottext\": pd.Series([False], dtype=\"bool\")})\r\n",
        "output_sample = np.array([0])\r\n",
        "try:\r\n",
        "    log_server.enable_telemetry(INSTRUMENTATION_KEY)\r\n",
        "    log_server.set_verbosity('INFO')\r\n",
        "    logger = logging.getLogger('azureml.automl.core.scoring_script')\r\n",
        "except:\r\n",
        "    pass\r\n",
        "\r\n",
        "\r\n",
        "def init():\r\n",
        "    global model\r\n",
        "    # This name is model.id of model that we want to deploy deserialize the model file back\r\n",
        "    # into a sklearn model\r\n",
        "    model_path = os.path.join(os.getenv('AZUREML_MODEL_DIR'), 'model.pkl')\r\n",
        "    path = os.path.normpath(model_path)\r\n",
        "    path_split = path.split(os.sep)\r\n",
        "    log_server.update_custom_dimensions({'model_name': path_split[1], 'model_version': path_split[2]})\r\n",
        "    try:\r\n",
        "        logger.info(\"Loading model from path.\")\r\n",
        "        model = joblib.load(model_path)\r\n",
        "        logger.info(\"Loading successful.\")\r\n",
        "    except Exception as e:\r\n",
        "        logging_utilities.log_traceback(e, logger)\r\n",
        "        raise\r\n",
        "\r\n",
        "\r\n",
        "@input_schema('data', PandasParameterType(input_sample))\r\n",
        "@output_schema(NumpyParameterType(output_sample))\r\n",
        "def run(data):\r\n",
        "    try:\r\n",
        "        result = model.predict(data)\r\n",
        "        return json.dumps({\"result\": result.tolist()})\r\n",
        "    except Exception as e:\r\n",
        "        result = str(e)\r\n",
        "        return json.dumps({\"error\": result})\r\n"
      ],
      "outputs": [
        {
          "output_type": "stream",
          "name": "stdout",
          "text": [
            "Overwriting score.py\n"
          ]
        }
      ],
      "execution_count": 6,
      "metadata": {
        "collapsed": true,
        "jupyter": {
          "source_hidden": false,
          "outputs_hidden": false
        },
        "nteract": {
          "transient": {
            "deleting": false
          }
        }
      }
    },
    {
      "cell_type": "code",
      "source": [
        "from azureml.core.model import InferenceConfig\r\n",
        "from azureml.core.environment import Environment\r\n",
        "\r\n",
        "env = Environment.get(ws, \"AzureML-AutoML\").clone('Custom-AutoML')\r\n",
        "\r\n",
        "\r\n",
        "inf_config = InferenceConfig(entry_script='score.py', environment=env)"
      ],
      "outputs": [],
      "execution_count": 7,
      "metadata": {
        "collapsed": true,
        "jupyter": {
          "source_hidden": false,
          "outputs_hidden": false
        },
        "nteract": {
          "transient": {
            "deleting": false
          }
        },
        "gather": {
          "logged": 1612247683327
        }
      }
    },
    {
      "cell_type": "code",
      "source": [
        "from azureml.core.webservice import AciWebservice\r\n",
        "from azureml.core import Model\r\n",
        "service_name = 'trucking-app-scoring'\r\n",
        "deployment_config = AciWebservice.deploy_configuration(cpu_cores = 1, memory_gb = 1)\r\n",
        "\r\n",
        "service = model.deploy(ws, service_name, [model], overwrite=True, deployment_config=deployment_config, inference_config=inf_config)\r\n",
        "service.wait_for_deployment(show_output=True)"
      ],
      "outputs": [
        {
          "output_type": "stream",
          "name": "stdout",
          "text": [
            "Tips: You can try get_logs(): https://aka.ms/debugimage#dockerlog or local deployment: https://aka.ms/debugimage#debug-locally to debug if deployment takes longer than 10 minutes.\n",
            "Running.............................................................\n",
            "Succeeded\n",
            "ACI service creation operation finished, operation \"Succeeded\"\n"
          ]
        }
      ],
      "execution_count": 9,
      "metadata": {
        "collapsed": true,
        "jupyter": {
          "source_hidden": false,
          "outputs_hidden": false
        },
        "nteract": {
          "transient": {
            "deleting": false
          }
        },
        "gather": {
          "logged": 1612248149554
        }
      }
    },
    {
      "cell_type": "markdown",
      "source": [
        "Request sent, based on a record from the dataset, which returns a result of zero."
      ],
      "metadata": {
        "collapsed": true,
        "gather": {
          "logged": 1598431657736
        },
        "jupyter": {
          "outputs_hidden": false,
          "source_hidden": false
        },
        "nteract": {
          "transient": {
            "deleting": false
          }
        }
      }
    },
    {
      "cell_type": "code",
      "source": [
        "import json\r\n",
        "from collections import namedtuple\r\n",
        "import pandas as pd\r\n",
        "#dataString = dataset.take(1).to_pandas_dataframe().to_json()\r\n",
        "#service = azureml.core.Webservice(ws,'best-model-service-309')\r\n",
        "\r\n",
        "data = [\r\n",
        "        {\"app.cre_AppId\":4054803,\r\n",
        "        \"app.cre_Experience\":0.0,\r\n",
        "        \"app.cre_MonthsExperienceinPast36\":0.0,\r\n",
        "        \"app.cre_PardotScore\":\"object\",\r\n",
        "        \"app.cre_Veteran\":171140000,\r\n",
        "        \"app.cre_WantTeamDriver\":0,\r\n",
        "        \"app.cre_DriverApplicationSource\":\"object\",\r\n",
        "        \"app.cre_RecordSource\":\"{F13D1BBF-06FE-E611-80DA-0050569526E6}\",\r\n",
        "        \"app.cre_CDLType\":171140000,\r\n",
        "        \"app.cre_AccidentInformationProvided\":False,\r\n",
        "        \"app.cre_ContactInformationProvided\":False,\r\n",
        "        \"app.cre_CriminalInformationProvided\":False,\r\n",
        "        \"app.cre_TicketInformationProvided\":False,\r\n",
        "        \"app.cre_ScoreCurrent\":2.0,\r\n",
        "        \"app.cre_ScoreInitial\":4,\r\n",
        "        \"app.cre_VettingStatus\":171140002,\r\n",
        "        \"app.cre_AccidentCount\":0,\r\n",
        "        \"app.cre_DUICount\":0,\r\n",
        "        \"app.cre_MovingViolationCount\":0,\r\n",
        "        \"app.cre_SoftFicoScore\":0,\r\n",
        "        \"app.cre_CDLCLPExp\":\"object\",\r\n",
        "        \"app.cre_FelonyCount\":0,\r\n",
        "        \"address1_postalcode\":45011,\r\n",
        "        \"cre_referralcode\":\"object\",\r\n",
        "        \"cre_referralestimatedexperience\":0,\r\n",
        "        \"cre_referralsourceid\":\"object\",\r\n",
        "        \"cre_accidentcount\":0,\r\n",
        "        \"cre_canpassdrugtest\":\"true\",\r\n",
        "        \"cre_cdlclass\":\"object\",\r\n",
        "        \"cre_cdlexp\":0,\r\n",
        "        \"cre_duicount\":\"example_value\",\r\n",
        "        \"cre_hascdl\":\"false\",\r\n",
        "        \"cre_honorablydischarged\":\"object\",\r\n",
        "        \"cre_movingviolationcount\":0,\r\n",
        "        \"cre_recordsource\":7088,\r\n",
        "        \"cre_veteran\":\"false\",\r\n",
        "        \"cre_washonorablydischarged\":1,\r\n",
        "        \"cre_minsoftficoscore\":\"example_value\",\r\n",
        "        \"cre_softficoscore\":\"example_value\",\r\n",
        "        \"cre_militarydischargedon\":\"2000-1-1\",\r\n",
        "        \"cre_recklessdrivingcount\":0,\r\n",
        "        \"cre_driverchewtobacco\":0,\r\n",
        "        \"cre_driversmoker\":0,\r\n",
        "        \"cre_drivervapeuser\":0,\r\n",
        "        \"cre_teamchewtobaccousers\":0,\r\n",
        "        \"cre_teamoppositegender\":\"example_value\",\r\n",
        "        \"cre_teamsmokers\":0,\r\n",
        "        \"cre_teamvapeusers\":0,\r\n",
        "        \"cre_teamgender\":0,\r\n",
        "        \"cre_donottext\":True}\r\n",
        "    ]\r\n",
        "input_payload = json.dumps({\r\n",
        "    'data': data\r\n",
        "})\r\n",
        "print(input_payload)\r\n",
        "output = service.run(input_payload)\r\n",
        "\r\n",
        "print(output)"
      ],
      "outputs": [
        {
          "output_type": "stream",
          "name": "stdout",
          "text": [
            "{\"data\": [{\"app.cre_AppId\": 4054803, \"app.cre_Experience\": 0.0, \"app.cre_MonthsExperienceinPast36\": 0.0, \"app.cre_PardotScore\": \"object\", \"app.cre_Veteran\": 171140000, \"app.cre_WantTeamDriver\": 0, \"app.cre_DriverApplicationSource\": \"object\", \"app.cre_RecordSource\": \"{F13D1BBF-06FE-E611-80DA-0050569526E6}\", \"app.cre_CDLType\": 171140000, \"app.cre_AccidentInformationProvided\": false, \"app.cre_ContactInformationProvided\": false, \"app.cre_CriminalInformationProvided\": false, \"app.cre_TicketInformationProvided\": false, \"app.cre_ScoreCurrent\": 2.0, \"app.cre_ScoreInitial\": 4, \"app.cre_VettingStatus\": 171140002, \"app.cre_AccidentCount\": 0, \"app.cre_DUICount\": 0, \"app.cre_MovingViolationCount\": 0, \"app.cre_SoftFicoScore\": 0, \"app.cre_CDLCLPExp\": \"object\", \"app.cre_FelonyCount\": 0, \"address1_postalcode\": 45011, \"cre_referralcode\": \"object\", \"cre_referralestimatedexperience\": 0, \"cre_referralsourceid\": \"object\", \"cre_accidentcount\": 0, \"cre_canpassdrugtest\": \"true\", \"cre_cdlclass\": \"object\", \"cre_cdlexp\": 0, \"cre_duicount\": \"example_value\", \"cre_hascdl\": \"false\", \"cre_honorablydischarged\": \"object\", \"cre_movingviolationcount\": 0, \"cre_recordsource\": 7088, \"cre_veteran\": \"false\", \"cre_washonorablydischarged\": 1, \"cre_minsoftficoscore\": \"example_value\", \"cre_softficoscore\": \"example_value\", \"cre_militarydischargedon\": \"2000-1-1\", \"cre_recklessdrivingcount\": 0, \"cre_driverchewtobacco\": 0, \"cre_driversmoker\": 0, \"cre_drivervapeuser\": 0, \"cre_teamchewtobaccousers\": 0, \"cre_teamoppositegender\": \"example_value\", \"cre_teamsmokers\": 0, \"cre_teamvapeusers\": 0, \"cre_teamgender\": 0, \"cre_donottext\": true}]}\n",
            "{\"result\": [0]}\n"
          ]
        }
      ],
      "execution_count": 13,
      "metadata": {
        "gather": {
          "logged": 1612323432448
        },
        "jupyter": {
          "outputs_hidden": false,
          "source_hidden": false
        },
        "nteract": {
          "transient": {
            "deleting": false
          }
        }
      }
    },
    {
      "cell_type": "markdown",
      "source": [
        "Logs from the service, and delete the service to save money"
      ],
      "metadata": {
        "collapsed": true,
        "gather": {
          "logged": 1598432765711
        },
        "jupyter": {
          "outputs_hidden": false,
          "source_hidden": false
        },
        "nteract": {
          "transient": {
            "deleting": false
          }
        }
      }
    },
    {
      "cell_type": "code",
      "source": [
        "#from azureml.core.webservice import Webservice\n",
        "#service = Webservice(name=best_run.model_id, workspace=ws)\n",
        "logs = service.get_logs()\n",
        "\n",
        "for line in logs.split('\\n'):\n",
        "    print(line)\n",
        "\n",
        "service.delete()"
      ],
      "outputs": [
        {
          "output_type": "stream",
          "name": "stdout",
          "text": [
            "2021-02-03T03:01:25,162370467+00:00 - iot-server/run \n",
            "2021-02-03T03:01:25,163954167+00:00 - nginx/run \n",
            "/usr/sbin/nginx: /azureml-envs/azureml_265db83b0c6014ce472c5de2f0b97e04/lib/libcrypto.so.1.0.0: no version information available (required by /usr/sbin/nginx)\n",
            "/usr/sbin/nginx: /azureml-envs/azureml_265db83b0c6014ce472c5de2f0b97e04/lib/libcrypto.so.1.0.0: no version information available (required by /usr/sbin/nginx)\n",
            "/usr/sbin/nginx: /azureml-envs/azureml_265db83b0c6014ce472c5de2f0b97e04/lib/libssl.so.1.0.0: no version information available (required by /usr/sbin/nginx)\n",
            "/usr/sbin/nginx: /azureml-envs/azureml_265db83b0c6014ce472c5de2f0b97e04/lib/libssl.so.1.0.0: no version information available (required by /usr/sbin/nginx)\n",
            "/usr/sbin/nginx: /azureml-envs/azureml_265db83b0c6014ce472c5de2f0b97e04/lib/libssl.so.1.0.0: no version information available (required by /usr/sbin/nginx)\n",
            "2021-02-03T03:01:25,164727367+00:00 - gunicorn/run \n",
            "2021-02-03T03:01:25,163217067+00:00 - rsyslog/run \n",
            "rsyslogd: /azureml-envs/azureml_265db83b0c6014ce472c5de2f0b97e04/lib/libuuid.so.1: no version information available (required by rsyslogd)\n",
            "EdgeHubConnectionString and IOTEDGE_IOTHUBHOSTNAME are not set. Exiting...\n",
            "2021-02-03T03:01:25,276845157+00:00 - iot-server/finish 1 0\n",
            "2021-02-03T03:01:25,278408657+00:00 - Exit code 1 is normal. Not restarting iot-server.\n",
            "Starting gunicorn 19.9.0\n",
            "Listening at: http://127.0.0.1:31311 (13)\n",
            "Using worker: sync\n",
            "worker timeout is set to 300\n",
            "Booting worker with pid: 42\n",
            "SPARK_HOME not set. Skipping PySpark Initialization.\n",
            "Generating new fontManager, this may take some time...\n",
            "Initializing logger\n",
            "2021-02-03 03:01:26,447 | root | INFO | Starting up app insights client\n",
            "2021-02-03 03:01:26,447 | root | INFO | Starting up request id generator\n",
            "2021-02-03 03:01:26,447 | root | INFO | Starting up app insight hooks\n",
            "2021-02-03 03:01:26,447 | root | INFO | Invoking user's init function\n",
            "2021-02-03 03:01:28,583 | azureml.core | WARNING | Failure while loading azureml_run_type_providers. Failed to load entrypoint automl = azureml.train.automl.run:AutoMLRun._from_run_dto with exception cannot import name 'RunType'.\n",
            "Failure while loading azureml_run_type_providers. Failed to load entrypoint automl = azureml.train.automl.run:AutoMLRun._from_run_dto with exception cannot import name 'RunType'.\n",
            "2021-02-03 03:01:29,068 | root | INFO | Users's init has completed successfully\n",
            "2021-02-03 03:01:29,070 | root | INFO | Skipping middleware: dbg_model_info as it's not enabled.\n",
            "2021-02-03 03:01:29,070 | root | INFO | Skipping middleware: dbg_resource_usage as it's not enabled.\n",
            "2021-02-03 03:01:29,071 | root | INFO | Scoring timeout is found from os.environ: 60000 ms\n",
            "2021-02-03 03:01:40,370 | root | INFO | 200\n",
            "127.0.0.1 - - [03/Feb/2021:03:01:40 +0000] \"GET /swagger.json HTTP/1.0\" 200 6493 \"-\" \"Go-http-client/1.1\"\n",
            "2021-02-03 03:04:37,789 | root | INFO | 200\n",
            "127.0.0.1 - - [03/Feb/2021:03:04:37 +0000] \"GET /swagger.json HTTP/1.0\" 200 6493 \"-\" \"Go-http-client/1.1\"\n",
            "2021-02-03 03:04:38,914 | root | INFO | Validation Request Content-Type\n",
            "2021-02-03 03:04:38,915 | root | INFO | Scoring Timer is set to 60.0 seconds\n",
            "2021-02-03 03:04:38,917 | root | ERROR | Encountered Exception: Traceback (most recent call last):\n",
            "  File \"/var/azureml-server/synchronous/routes.py\", line 64, in run_scoring\n",
            "    response = invoke_user_with_timer(service_input, request_headers)\n",
            "  File \"/var/azureml-server/synchronous/routes.py\", line 97, in invoke_user_with_timer\n",
            "    result = user_main.run(**params)\n",
            "  File \"/azureml-envs/azureml_265db83b0c6014ce472c5de2f0b97e04/lib/python3.6/site-packages/wrapt/wrappers.py\", line 564, in __call__\n",
            "    args, kwargs)\n",
            "  File \"/azureml-envs/azureml_265db83b0c6014ce472c5de2f0b97e04/lib/python3.6/site-packages/inference_schema/schema_decorators.py\", line 55, in decorator_input\n",
            "    args[param_position] = _deserialize_input_argument(args[param_position], param_type, param_name)\n",
            "IndexError: list index out of range\n",
            "\n",
            "During handling of the above exception, another exception occurred:\n",
            "\n",
            "Traceback (most recent call last):\n",
            "  File \"/azureml-envs/azureml_265db83b0c6014ce472c5de2f0b97e04/lib/python3.6/site-packages/flask/app.py\", line 1832, in full_dispatch_request\n",
            "    rv = self.dispatch_request()\n",
            "  File \"/azureml-envs/azureml_265db83b0c6014ce472c5de2f0b97e04/lib/python3.6/site-packages/flask/app.py\", line 1818, in dispatch_request\n",
            "    return self.view_functions[rule.endpoint](**req.view_args)\n",
            "  File \"/var/azureml-server/synchronous/routes.py\", line 43, in score_realtime\n",
            "    return run_scoring(service_input, request.headers, request.environ.get('REQUEST_ID', '00000000-0000-0000-0000-000000000000'))\n",
            "  File \"/var/azureml-server/synchronous/routes.py\", line 77, in run_scoring\n",
            "    raise RunFunctionException(str(exc))\n",
            "run_function_exception.RunFunctionException\n",
            "\n",
            "2021-02-03 03:04:38,923 | root | INFO | 500\n",
            "127.0.0.1 - - [03/Feb/2021:03:04:38 +0000] \"POST /score HTTP/1.0\" 500 23 \"-\" \"python-requests/2.24.0\"\n",
            "2021-02-03 03:04:38,929 | root | INFO | Validation Request Content-Type\n",
            "2021-02-03 03:04:38,929 | root | INFO | Scoring Timer is set to 60.0 seconds\n",
            "2021-02-03 03:04:38,929 | root | ERROR | Encountered Exception: Traceback (most recent call last):\n",
            "  File \"/var/azureml-server/synchronous/routes.py\", line 64, in run_scoring\n",
            "    response = invoke_user_with_timer(service_input, request_headers)\n",
            "  File \"/var/azureml-server/synchronous/routes.py\", line 97, in invoke_user_with_timer\n",
            "    result = user_main.run(**params)\n",
            "  File \"/azureml-envs/azureml_265db83b0c6014ce472c5de2f0b97e04/lib/python3.6/site-packages/wrapt/wrappers.py\", line 564, in __call__\n",
            "    args, kwargs)\n",
            "  File \"/azureml-envs/azureml_265db83b0c6014ce472c5de2f0b97e04/lib/python3.6/site-packages/inference_schema/schema_decorators.py\", line 55, in decorator_input\n",
            "    args[param_position] = _deserialize_input_argument(args[param_position], param_type, param_name)\n",
            "IndexError: list index out of range\n",
            "\n",
            "During handling of the above exception, another exception occurred:\n",
            "\n",
            "Traceback (most recent call last):\n",
            "  File \"/azureml-envs/azureml_265db83b0c6014ce472c5de2f0b97e04/lib/python3.6/site-packages/flask/app.py\", line 1832, in full_dispatch_request\n",
            "    rv = self.dispatch_request()\n",
            "  File \"/azureml-envs/azureml_265db83b0c6014ce472c5de2f0b97e04/lib/python3.6/site-packages/flask/app.py\", line 1818, in dispatch_request\n",
            "    return self.view_functions[rule.endpoint](**req.view_args)\n",
            "  File \"/var/azureml-server/synchronous/routes.py\", line 43, in score_realtime\n",
            "    return run_scoring(service_input, request.headers, request.environ.get('REQUEST_ID', '00000000-0000-0000-0000-000000000000'))\n",
            "  File \"/var/azureml-server/synchronous/routes.py\", line 77, in run_scoring\n",
            "    raise RunFunctionException(str(exc))\n",
            "run_function_exception.RunFunctionException\n",
            "\n",
            "2021-02-03 03:04:38,930 | root | INFO | 500\n",
            "127.0.0.1 - - [03/Feb/2021:03:04:38 +0000] \"POST /score HTTP/1.0\" 500 23 \"-\" \"python-requests/2.24.0\"\n",
            "2021-02-03 03:04:39,940 | root | INFO | Validation Request Content-Type\n",
            "2021-02-03 03:04:39,940 | root | INFO | Scoring Timer is set to 60.0 seconds\n",
            "2021-02-03 03:04:39,941 | root | ERROR | Encountered Exception: Traceback (most recent call last):\n",
            "  File \"/var/azureml-server/synchronous/routes.py\", line 64, in run_scoring\n",
            "    response = invoke_user_with_timer(service_input, request_headers)\n",
            "  File \"/var/azureml-server/synchronous/routes.py\", line 97, in invoke_user_with_timer\n",
            "    result = user_main.run(**params)\n",
            "  File \"/azureml-envs/azureml_265db83b0c6014ce472c5de2f0b97e04/lib/python3.6/site-packages/wrapt/wrappers.py\", line 564, in __call__\n",
            "    args, kwargs)\n",
            "  File \"/azureml-envs/azureml_265db83b0c6014ce472c5de2f0b97e04/lib/python3.6/site-packages/inference_schema/schema_decorators.py\", line 55, in decorator_input\n",
            "    args[param_position] = _deserialize_input_argument(args[param_position], param_type, param_name)\n",
            "IndexError: list index out of range\n",
            "\n",
            "During handling of the above exception, another exception occurred:\n",
            "\n",
            "Traceback (most recent call last):\n",
            "  File \"/azureml-envs/azureml_265db83b0c6014ce472c5de2f0b97e04/lib/python3.6/site-packages/flask/app.py\", line 1832, in full_dispatch_request\n",
            "    rv = self.dispatch_request()\n",
            "  File \"/azureml-envs/azureml_265db83b0c6014ce472c5de2f0b97e04/lib/python3.6/site-packages/flask/app.py\", line 1818, in dispatch_request\n",
            "    return self.view_functions[rule.endpoint](**req.view_args)\n",
            "  File \"/var/azureml-server/synchronous/routes.py\", line 43, in score_realtime\n",
            "    return run_scoring(service_input, request.headers, request.environ.get('REQUEST_ID', '00000000-0000-0000-0000-000000000000'))\n",
            "  File \"/var/azureml-server/synchronous/routes.py\", line 77, in run_scoring\n",
            "    raise RunFunctionException(str(exc))\n",
            "run_function_exception.RunFunctionException\n",
            "\n",
            "2021-02-03 03:04:39,941 | root | INFO | 500\n",
            "127.0.0.1 - - [03/Feb/2021:03:04:39 +0000] \"POST /score HTTP/1.0\" 500 23 \"-\" \"python-requests/2.24.0\"\n",
            "2021-02-03 03:04:41,949 | root | INFO | Validation Request Content-Type\n",
            "2021-02-03 03:04:41,950 | root | INFO | Scoring Timer is set to 60.0 seconds\n",
            "2021-02-03 03:04:41,951 | root | ERROR | Encountered Exception: Traceback (most recent call last):\n",
            "  File \"/var/azureml-server/synchronous/routes.py\", line 64, in run_scoring\n",
            "    response = invoke_user_with_timer(service_input, request_headers)\n",
            "  File \"/var/azureml-server/synchronous/routes.py\", line 97, in invoke_user_with_timer\n",
            "    result = user_main.run(**params)\n",
            "  File \"/azureml-envs/azureml_265db83b0c6014ce472c5de2f0b97e04/lib/python3.6/site-packages/wrapt/wrappers.py\", line 564, in __call__\n",
            "    args, kwargs)\n",
            "  File \"/azureml-envs/azureml_265db83b0c6014ce472c5de2f0b97e04/lib/python3.6/site-packages/inference_schema/schema_decorators.py\", line 55, in decorator_input\n",
            "    args[param_position] = _deserialize_input_argument(args[param_position], param_type, param_name)\n",
            "IndexError: list index out of range\n",
            "\n",
            "During handling of the above exception, another exception occurred:\n",
            "\n",
            "Traceback (most recent call last):\n",
            "  File \"/azureml-envs/azureml_265db83b0c6014ce472c5de2f0b97e04/lib/python3.6/site-packages/flask/app.py\", line 1832, in full_dispatch_request\n",
            "    rv = self.dispatch_request()\n",
            "  File \"/azureml-envs/azureml_265db83b0c6014ce472c5de2f0b97e04/lib/python3.6/site-packages/flask/app.py\", line 1818, in dispatch_request\n",
            "    return self.view_functions[rule.endpoint](**req.view_args)\n",
            "  File \"/var/azureml-server/synchronous/routes.py\", line 43, in score_realtime\n",
            "    return run_scoring(service_input, request.headers, request.environ.get('REQUEST_ID', '00000000-0000-0000-0000-000000000000'))\n",
            "  File \"/var/azureml-server/synchronous/routes.py\", line 77, in run_scoring\n",
            "    raise RunFunctionException(str(exc))\n",
            "run_function_exception.RunFunctionException\n",
            "\n",
            "2021-02-03 03:04:41,951 | root | INFO | 500\n",
            "127.0.0.1 - - [03/Feb/2021:03:04:41 +0000] \"POST /score HTTP/1.0\" 500 23 \"-\" \"python-requests/2.24.0\"\n",
            "2021-02-03 03:04:58,178 | root | INFO | 200\n",
            "127.0.0.1 - - [03/Feb/2021:03:04:58 +0000] \"GET /swagger.json HTTP/1.0\" 200 6493 \"-\" \"Go-http-client/1.1\"\n",
            "2021-02-03 03:04:58,783 | root | INFO | 200\n",
            "127.0.0.1 - - [03/Feb/2021:03:04:58 +0000] \"GET /swagger.json HTTP/1.0\" 200 6493 \"-\" \"Go-http-client/1.1\"\n",
            "2021-02-03 03:05:03,519 | root | INFO | 200\n",
            "127.0.0.1 - - [03/Feb/2021:03:05:03 +0000] \"GET /swagger.json HTTP/1.0\" 200 6493 \"-\" \"Mozilla/5.0 (Windows NT 10.0; Win64; x64) AppleWebKit/537.36 (KHTML, like Gecko) Chrome/88.0.4324.104 Safari/537.36\"\n",
            "127.0.0.1 - - [03/Feb/2021:03:05:07 +0000] \"GET /favicon.ico HTTP/1.0\" 404 232 \"http://e0532d20-c07a-467f-bd94-e35fd992e8e3.westus.azurecontainer.io/swagger.json\" \"Mozilla/5.0 (Windows NT 10.0; Win64; x64) AppleWebKit/537.36 (KHTML, like Gecko) Chrome/88.0.4324.104 Safari/537.36\"\n",
            "Exception in worker process\n",
            "Traceback (most recent call last):\n",
            "  File \"/azureml-envs/azureml_265db83b0c6014ce472c5de2f0b97e04/lib/python3.6/site-packages/gunicorn/arbiter.py\", line 583, in spawn_worker\n",
            "    worker.init_process()\n",
            "  File \"/azureml-envs/azureml_265db83b0c6014ce472c5de2f0b97e04/lib/python3.6/site-packages/gunicorn/workers/base.py\", line 134, in init_process\n",
            "    self.run()\n",
            "  File \"/azureml-envs/azureml_265db83b0c6014ce472c5de2f0b97e04/lib/python3.6/site-packages/gunicorn/workers/sync.py\", line 124, in run\n",
            "    self.run_for_one(timeout)\n",
            "  File \"/azureml-envs/azureml_265db83b0c6014ce472c5de2f0b97e04/lib/python3.6/site-packages/gunicorn/workers/sync.py\", line 83, in run_for_one\n",
            "    self.wait(timeout)\n",
            "  File \"/azureml-envs/azureml_265db83b0c6014ce472c5de2f0b97e04/lib/python3.6/site-packages/gunicorn/workers/sync.py\", line 35, in wait\n",
            "    ret = select.select(self.wait_fds, [], [], timeout)\n",
            "  File \"/var/azureml-server/routes_common.py\", line 162, in alarm_handler\n",
            "    raise TimeoutException(error_message)\n",
            "timeout_exception.TimeoutException\n",
            "Worker exiting (pid: 42)\n",
            "worker timeout is set to 300\n",
            "Booting worker with pid: 70\n",
            "SPARK_HOME not set. Skipping PySpark Initialization.\n",
            "Initializing logger\n",
            "2021-02-03 03:05:43,738 | root | INFO | Starting up app insights client\n",
            "2021-02-03 03:05:43,738 | root | INFO | Starting up request id generator\n",
            "2021-02-03 03:05:43,738 | root | INFO | Starting up app insight hooks\n",
            "2021-02-03 03:05:43,738 | root | INFO | Invoking user's init function\n",
            "2021-02-03 03:05:45,422 | azureml.core | WARNING | Failure while loading azureml_run_type_providers. Failed to load entrypoint automl = azureml.train.automl.run:AutoMLRun._from_run_dto with exception cannot import name 'RunType'.\n",
            "Failure while loading azureml_run_type_providers. Failed to load entrypoint automl = azureml.train.automl.run:AutoMLRun._from_run_dto with exception cannot import name 'RunType'.\n",
            "2021-02-03 03:05:45,784 | root | INFO | Users's init has completed successfully\n",
            "2021-02-03 03:05:45,785 | root | INFO | Skipping middleware: dbg_model_info as it's not enabled.\n",
            "2021-02-03 03:05:45,785 | root | INFO | Skipping middleware: dbg_resource_usage as it's not enabled.\n",
            "2021-02-03 03:05:45,787 | root | INFO | Scoring timeout is found from os.environ: 60000 ms\n",
            "2021-02-03 03:10:02,520 | root | INFO | Validation Request Content-Type\n",
            "2021-02-03 03:10:02,520 | root | INFO | Scoring Timer is set to 60.0 seconds\n",
            "2021-02-03 03:10:02,528 | root | ERROR | Encountered Exception: Traceback (most recent call last):\n",
            "  File \"/var/azureml-server/synchronous/routes.py\", line 64, in run_scoring\n",
            "    response = invoke_user_with_timer(service_input, request_headers)\n",
            "  File \"/var/azureml-server/synchronous/routes.py\", line 97, in invoke_user_with_timer\n",
            "    result = user_main.run(**params)\n",
            "  File \"/azureml-envs/azureml_265db83b0c6014ce472c5de2f0b97e04/lib/python3.6/site-packages/wrapt/wrappers.py\", line 564, in __call__\n",
            "    args, kwargs)\n",
            "  File \"/azureml-envs/azureml_265db83b0c6014ce472c5de2f0b97e04/lib/python3.6/site-packages/inference_schema/schema_decorators.py\", line 55, in decorator_input\n",
            "    args[param_position] = _deserialize_input_argument(args[param_position], param_type, param_name)\n",
            "IndexError: list index out of range\n",
            "\n",
            "During handling of the above exception, another exception occurred:\n",
            "\n",
            "Traceback (most recent call last):\n",
            "  File \"/azureml-envs/azureml_265db83b0c6014ce472c5de2f0b97e04/lib/python3.6/site-packages/flask/app.py\", line 1832, in full_dispatch_request\n",
            "    rv = self.dispatch_request()\n",
            "  File \"/azureml-envs/azureml_265db83b0c6014ce472c5de2f0b97e04/lib/python3.6/site-packages/flask/app.py\", line 1818, in dispatch_request\n",
            "    return self.view_functions[rule.endpoint](**req.view_args)\n",
            "  File \"/var/azureml-server/synchronous/routes.py\", line 43, in score_realtime\n",
            "    return run_scoring(service_input, request.headers, request.environ.get('REQUEST_ID', '00000000-0000-0000-0000-000000000000'))\n",
            "  File \"/var/azureml-server/synchronous/routes.py\", line 77, in run_scoring\n",
            "    raise RunFunctionException(str(exc))\n",
            "run_function_exception.RunFunctionException\n",
            "\n",
            "2021-02-03 03:10:02,528 | root | INFO | 500\n",
            "127.0.0.1 - - [03/Feb/2021:03:10:02 +0000] \"POST /score HTTP/1.0\" 500 23 \"-\" \"python-requests/2.24.0\"\n",
            "2021-02-03 03:10:02,537 | root | INFO | Validation Request Content-Type\n",
            "2021-02-03 03:10:02,537 | root | INFO | Scoring Timer is set to 60.0 seconds\n",
            "2021-02-03 03:10:02,538 | root | ERROR | Encountered Exception: Traceback (most recent call last):\n",
            "  File \"/var/azureml-server/synchronous/routes.py\", line 64, in run_scoring\n",
            "    response = invoke_user_with_timer(service_input, request_headers)\n",
            "  File \"/var/azureml-server/synchronous/routes.py\", line 97, in invoke_user_with_timer\n",
            "    result = user_main.run(**params)\n",
            "  File \"/azureml-envs/azureml_265db83b0c6014ce472c5de2f0b97e04/lib/python3.6/site-packages/wrapt/wrappers.py\", line 564, in __call__\n",
            "    args, kwargs)\n",
            "  File \"/azureml-envs/azureml_265db83b0c6014ce472c5de2f0b97e04/lib/python3.6/site-packages/inference_schema/schema_decorators.py\", line 55, in decorator_input\n",
            "    args[param_position] = _deserialize_input_argument(args[param_position], param_type, param_name)\n",
            "IndexError: list index out of range\n",
            "\n",
            "During handling of the above exception, another exception occurred:\n",
            "\n",
            "Traceback (most recent call last):\n",
            "  File \"/azureml-envs/azureml_265db83b0c6014ce472c5de2f0b97e04/lib/python3.6/site-packages/flask/app.py\", line 1832, in full_dispatch_request\n",
            "    rv = self.dispatch_request()\n",
            "  File \"/azureml-envs/azureml_265db83b0c6014ce472c5de2f0b97e04/lib/python3.6/site-packages/flask/app.py\", line 1818, in dispatch_request\n",
            "    return self.view_functions[rule.endpoint](**req.view_args)\n",
            "  File \"/var/azureml-server/synchronous/routes.py\", line 43, in score_realtime\n",
            "    return run_scoring(service_input, request.headers, request.environ.get('REQUEST_ID', '00000000-0000-0000-0000-000000000000'))\n",
            "  File \"/var/azureml-server/synchronous/routes.py\", line 77, in run_scoring\n",
            "    raise RunFunctionException(str(exc))\n",
            "run_function_exception.RunFunctionException\n",
            "\n",
            "2021-02-03 03:10:02,538 | root | INFO | 500\n",
            "127.0.0.1 - - [03/Feb/2021:03:10:02 +0000] \"POST /score HTTP/1.0\" 500 23 \"-\" \"python-requests/2.24.0\"\n",
            "2021-02-03 03:10:03,544 | root | INFO | Validation Request Content-Type\n",
            "2021-02-03 03:10:03,545 | root | INFO | Scoring Timer is set to 60.0 seconds\n",
            "2021-02-03 03:10:03,546 | root | ERROR | Encountered Exception: Traceback (most recent call last):\n",
            "  File \"/var/azureml-server/synchronous/routes.py\", line 64, in run_scoring\n",
            "    response = invoke_user_with_timer(service_input, request_headers)\n",
            "  File \"/var/azureml-server/synchronous/routes.py\", line 97, in invoke_user_with_timer\n",
            "    result = user_main.run(**params)\n",
            "  File \"/azureml-envs/azureml_265db83b0c6014ce472c5de2f0b97e04/lib/python3.6/site-packages/wrapt/wrappers.py\", line 564, in __call__\n",
            "    args, kwargs)\n",
            "  File \"/azureml-envs/azureml_265db83b0c6014ce472c5de2f0b97e04/lib/python3.6/site-packages/inference_schema/schema_decorators.py\", line 55, in decorator_input\n",
            "    args[param_position] = _deserialize_input_argument(args[param_position], param_type, param_name)\n",
            "IndexError: list index out of range\n",
            "\n",
            "During handling of the above exception, another exception occurred:\n",
            "\n",
            "Traceback (most recent call last):\n",
            "  File \"/azureml-envs/azureml_265db83b0c6014ce472c5de2f0b97e04/lib/python3.6/site-packages/flask/app.py\", line 1832, in full_dispatch_request\n",
            "    rv = self.dispatch_request()\n",
            "  File \"/azureml-envs/azureml_265db83b0c6014ce472c5de2f0b97e04/lib/python3.6/site-packages/flask/app.py\", line 1818, in dispatch_request\n",
            "    return self.view_functions[rule.endpoint](**req.view_args)\n",
            "  File \"/var/azureml-server/synchronous/routes.py\", line 43, in score_realtime\n",
            "    return run_scoring(service_input, request.headers, request.environ.get('REQUEST_ID', '00000000-0000-0000-0000-000000000000'))\n",
            "  File \"/var/azureml-server/synchronous/routes.py\", line 77, in run_scoring\n",
            "    raise RunFunctionException(str(exc))\n",
            "run_function_exception.RunFunctionException\n",
            "\n",
            "2021-02-03 03:10:03,546 | root | INFO | 500\n",
            "127.0.0.1 - - [03/Feb/2021:03:10:03 +0000] \"POST /score HTTP/1.0\" 500 23 \"-\" \"python-requests/2.24.0\"\n",
            "2021-02-03 03:10:05,554 | root | INFO | Validation Request Content-Type\n",
            "2021-02-03 03:10:05,555 | root | INFO | Scoring Timer is set to 60.0 seconds\n",
            "2021-02-03 03:10:05,556 | root | ERROR | Encountered Exception: Traceback (most recent call last):\n",
            "  File \"/var/azureml-server/synchronous/routes.py\", line 64, in run_scoring\n",
            "    response = invoke_user_with_timer(service_input, request_headers)\n",
            "  File \"/var/azureml-server/synchronous/routes.py\", line 97, in invoke_user_with_timer\n",
            "    result = user_main.run(**params)\n",
            "  File \"/azureml-envs/azureml_265db83b0c6014ce472c5de2f0b97e04/lib/python3.6/site-packages/wrapt/wrappers.py\", line 564, in __call__\n",
            "    args, kwargs)\n",
            "  File \"/azureml-envs/azureml_265db83b0c6014ce472c5de2f0b97e04/lib/python3.6/site-packages/inference_schema/schema_decorators.py\", line 55, in decorator_input\n",
            "    args[param_position] = _deserialize_input_argument(args[param_position], param_type, param_name)\n",
            "IndexError: list index out of range\n",
            "\n",
            "During handling of the above exception, another exception occurred:\n",
            "\n",
            "Traceback (most recent call last):\n",
            "  File \"/azureml-envs/azureml_265db83b0c6014ce472c5de2f0b97e04/lib/python3.6/site-packages/flask/app.py\", line 1832, in full_dispatch_request\n",
            "    rv = self.dispatch_request()\n",
            "  File \"/azureml-envs/azureml_265db83b0c6014ce472c5de2f0b97e04/lib/python3.6/site-packages/flask/app.py\", line 1818, in dispatch_request\n",
            "    return self.view_functions[rule.endpoint](**req.view_args)\n",
            "  File \"/var/azureml-server/synchronous/routes.py\", line 43, in score_realtime\n",
            "    return run_scoring(service_input, request.headers, request.environ.get('REQUEST_ID', '00000000-0000-0000-0000-000000000000'))\n",
            "  File \"/var/azureml-server/synchronous/routes.py\", line 77, in run_scoring\n",
            "    raise RunFunctionException(str(exc))\n",
            "run_function_exception.RunFunctionException\n",
            "\n",
            "2021-02-03 03:10:05,556 | root | INFO | 500\n",
            "127.0.0.1 - - [03/Feb/2021:03:10:05 +0000] \"POST /score HTTP/1.0\" 500 23 \"-\" \"python-requests/2.24.0\"\n",
            "2021-02-03 03:10:31,901 | root | INFO | 200\n",
            "127.0.0.1 - - [03/Feb/2021:03:10:31 +0000] \"GET /swagger.json HTTP/1.0\" 200 6493 \"-\" \"Go-http-client/1.1\"\n",
            "2021-02-03 03:10:32,705 | root | INFO | Validation Request Content-Type\n",
            "2021-02-03 03:10:32,705 | root | INFO | Scoring Timer is set to 60.0 seconds\n",
            "2021-02-03 03:10:32,707 | root | ERROR | Encountered Exception: Traceback (most recent call last):\n",
            "  File \"/var/azureml-server/synchronous/routes.py\", line 64, in run_scoring\n",
            "    response = invoke_user_with_timer(service_input, request_headers)\n",
            "  File \"/var/azureml-server/synchronous/routes.py\", line 97, in invoke_user_with_timer\n",
            "    result = user_main.run(**params)\n",
            "  File \"/azureml-envs/azureml_265db83b0c6014ce472c5de2f0b97e04/lib/python3.6/site-packages/wrapt/wrappers.py\", line 564, in __call__\n",
            "    args, kwargs)\n",
            "  File \"/azureml-envs/azureml_265db83b0c6014ce472c5de2f0b97e04/lib/python3.6/site-packages/inference_schema/schema_decorators.py\", line 55, in decorator_input\n",
            "    args[param_position] = _deserialize_input_argument(args[param_position], param_type, param_name)\n",
            "IndexError: list index out of range\n",
            "\n",
            "During handling of the above exception, another exception occurred:\n",
            "\n",
            "Traceback (most recent call last):\n",
            "  File \"/azureml-envs/azureml_265db83b0c6014ce472c5de2f0b97e04/lib/python3.6/site-packages/flask/app.py\", line 1832, in full_dispatch_request\n",
            "    rv = self.dispatch_request()\n",
            "  File \"/azureml-envs/azureml_265db83b0c6014ce472c5de2f0b97e04/lib/python3.6/site-packages/flask/app.py\", line 1818, in dispatch_request\n",
            "    return self.view_functions[rule.endpoint](**req.view_args)\n",
            "  File \"/var/azureml-server/synchronous/routes.py\", line 43, in score_realtime\n",
            "    return run_scoring(service_input, request.headers, request.environ.get('REQUEST_ID', '00000000-0000-0000-0000-000000000000'))\n",
            "  File \"/var/azureml-server/synchronous/routes.py\", line 77, in run_scoring\n",
            "    raise RunFunctionException(str(exc))\n",
            "run_function_exception.RunFunctionException\n",
            "\n",
            "2021-02-03 03:10:32,707 | root | INFO | 500\n",
            "127.0.0.1 - - [03/Feb/2021:03:10:32 +0000] \"POST /score HTTP/1.0\" 500 23 \"-\" \"python-requests/2.24.0\"\n",
            "2021-02-03 03:10:32,720 | root | INFO | Validation Request Content-Type\n",
            "2021-02-03 03:10:32,721 | root | INFO | Scoring Timer is set to 60.0 seconds\n",
            "2021-02-03 03:10:32,721 | root | ERROR | Encountered Exception: Traceback (most recent call last):\n",
            "  File \"/var/azureml-server/synchronous/routes.py\", line 64, in run_scoring\n",
            "    response = invoke_user_with_timer(service_input, request_headers)\n",
            "  File \"/var/azureml-server/synchronous/routes.py\", line 97, in invoke_user_with_timer\n",
            "    result = user_main.run(**params)\n",
            "  File \"/azureml-envs/azureml_265db83b0c6014ce472c5de2f0b97e04/lib/python3.6/site-packages/wrapt/wrappers.py\", line 564, in __call__\n",
            "    args, kwargs)\n",
            "  File \"/azureml-envs/azureml_265db83b0c6014ce472c5de2f0b97e04/lib/python3.6/site-packages/inference_schema/schema_decorators.py\", line 55, in decorator_input\n",
            "    args[param_position] = _deserialize_input_argument(args[param_position], param_type, param_name)\n",
            "IndexError: list index out of range\n",
            "\n",
            "During handling of the above exception, another exception occurred:\n",
            "\n",
            "Traceback (most recent call last):\n",
            "  File \"/azureml-envs/azureml_265db83b0c6014ce472c5de2f0b97e04/lib/python3.6/site-packages/flask/app.py\", line 1832, in full_dispatch_request\n",
            "    rv = self.dispatch_request()\n",
            "  File \"/azureml-envs/azureml_265db83b0c6014ce472c5de2f0b97e04/lib/python3.6/site-packages/flask/app.py\", line 1818, in dispatch_request\n",
            "    return self.view_functions[rule.endpoint](**req.view_args)\n",
            "  File \"/var/azureml-server/synchronous/routes.py\", line 43, in score_realtime\n",
            "    return run_scoring(service_input, request.headers, request.environ.get('REQUEST_ID', '00000000-0000-0000-0000-000000000000'))\n",
            "  File \"/var/azureml-server/synchronous/routes.py\", line 77, in run_scoring\n",
            "    raise RunFunctionException(str(exc))\n",
            "run_function_exception.RunFunctionException\n",
            "\n",
            "2021-02-03 03:10:32,722 | root | INFO | 500\n",
            "127.0.0.1 - - [03/Feb/2021:03:10:32 +0000] \"POST /score HTTP/1.0\" 500 23 \"-\" \"python-requests/2.24.0\"\n",
            "2021-02-03 03:10:33,728 | root | INFO | Validation Request Content-Type\n",
            "2021-02-03 03:10:33,729 | root | INFO | Scoring Timer is set to 60.0 seconds\n",
            "2021-02-03 03:10:33,729 | root | ERROR | Encountered Exception: Traceback (most recent call last):\n",
            "  File \"/var/azureml-server/synchronous/routes.py\", line 64, in run_scoring\n",
            "    response = invoke_user_with_timer(service_input, request_headers)\n",
            "  File \"/var/azureml-server/synchronous/routes.py\", line 97, in invoke_user_with_timer\n",
            "    result = user_main.run(**params)\n",
            "  File \"/azureml-envs/azureml_265db83b0c6014ce472c5de2f0b97e04/lib/python3.6/site-packages/wrapt/wrappers.py\", line 564, in __call__\n",
            "    args, kwargs)\n",
            "  File \"/azureml-envs/azureml_265db83b0c6014ce472c5de2f0b97e04/lib/python3.6/site-packages/inference_schema/schema_decorators.py\", line 55, in decorator_input\n",
            "    args[param_position] = _deserialize_input_argument(args[param_position], param_type, param_name)\n",
            "IndexError: list index out of range\n",
            "\n",
            "During handling of the above exception, another exception occurred:\n",
            "\n",
            "Traceback (most recent call last):\n",
            "  File \"/azureml-envs/azureml_265db83b0c6014ce472c5de2f0b97e04/lib/python3.6/site-packages/flask/app.py\", line 1832, in full_dispatch_request\n",
            "    rv = self.dispatch_request()\n",
            "  File \"/azureml-envs/azureml_265db83b0c6014ce472c5de2f0b97e04/lib/python3.6/site-packages/flask/app.py\", line 1818, in dispatch_request\n",
            "    return self.view_functions[rule.endpoint](**req.view_args)\n",
            "  File \"/var/azureml-server/synchronous/routes.py\", line 43, in score_realtime\n",
            "    return run_scoring(service_input, request.headers, request.environ.get('REQUEST_ID', '00000000-0000-0000-0000-000000000000'))\n",
            "  File \"/var/azureml-server/synchronous/routes.py\", line 77, in run_scoring\n",
            "    raise RunFunctionException(str(exc))\n",
            "run_function_exception.RunFunctionException\n",
            "\n",
            "2021-02-03 03:10:33,729 | root | INFO | 500\n",
            "127.0.0.1 - - [03/Feb/2021:03:10:33 +0000] \"POST /score HTTP/1.0\" 500 23 \"-\" \"python-requests/2.24.0\"\n",
            "2021-02-03 03:10:35,738 | root | INFO | Validation Request Content-Type\n",
            "2021-02-03 03:10:35,739 | root | INFO | Scoring Timer is set to 60.0 seconds\n",
            "2021-02-03 03:10:35,740 | root | ERROR | Encountered Exception: Traceback (most recent call last):\n",
            "  File \"/var/azureml-server/synchronous/routes.py\", line 64, in run_scoring\n",
            "    response = invoke_user_with_timer(service_input, request_headers)\n",
            "  File \"/var/azureml-server/synchronous/routes.py\", line 97, in invoke_user_with_timer\n",
            "    result = user_main.run(**params)\n",
            "  File \"/azureml-envs/azureml_265db83b0c6014ce472c5de2f0b97e04/lib/python3.6/site-packages/wrapt/wrappers.py\", line 564, in __call__\n",
            "    args, kwargs)\n",
            "  File \"/azureml-envs/azureml_265db83b0c6014ce472c5de2f0b97e04/lib/python3.6/site-packages/inference_schema/schema_decorators.py\", line 55, in decorator_input\n",
            "    args[param_position] = _deserialize_input_argument(args[param_position], param_type, param_name)\n",
            "IndexError: list index out of range\n",
            "\n",
            "During handling of the above exception, another exception occurred:\n",
            "\n",
            "Traceback (most recent call last):\n",
            "  File \"/azureml-envs/azureml_265db83b0c6014ce472c5de2f0b97e04/lib/python3.6/site-packages/flask/app.py\", line 1832, in full_dispatch_request\n",
            "    rv = self.dispatch_request()\n",
            "  File \"/azureml-envs/azureml_265db83b0c6014ce472c5de2f0b97e04/lib/python3.6/site-packages/flask/app.py\", line 1818, in dispatch_request\n",
            "    return self.view_functions[rule.endpoint](**req.view_args)\n",
            "  File \"/var/azureml-server/synchronous/routes.py\", line 43, in score_realtime\n",
            "    return run_scoring(service_input, request.headers, request.environ.get('REQUEST_ID', '00000000-0000-0000-0000-000000000000'))\n",
            "  File \"/var/azureml-server/synchronous/routes.py\", line 77, in run_scoring\n",
            "    raise RunFunctionException(str(exc))\n",
            "run_function_exception.RunFunctionException\n",
            "\n",
            "2021-02-03 03:10:35,740 | root | INFO | 500\n",
            "127.0.0.1 - - [03/Feb/2021:03:10:35 +0000] \"POST /score HTTP/1.0\" 500 23 \"-\" \"python-requests/2.24.0\"\n",
            "Exception in worker process\n",
            "Traceback (most recent call last):\n",
            "  File \"/azureml-envs/azureml_265db83b0c6014ce472c5de2f0b97e04/lib/python3.6/site-packages/gunicorn/arbiter.py\", line 583, in spawn_worker\n",
            "    worker.init_process()\n",
            "  File \"/azureml-envs/azureml_265db83b0c6014ce472c5de2f0b97e04/lib/python3.6/site-packages/gunicorn/workers/base.py\", line 134, in init_process\n",
            "    self.run()\n",
            "  File \"/azureml-envs/azureml_265db83b0c6014ce472c5de2f0b97e04/lib/python3.6/site-packages/gunicorn/workers/sync.py\", line 124, in run\n",
            "    self.run_for_one(timeout)\n",
            "  File \"/azureml-envs/azureml_265db83b0c6014ce472c5de2f0b97e04/lib/python3.6/site-packages/gunicorn/workers/sync.py\", line 83, in run_for_one\n",
            "    self.wait(timeout)\n",
            "  File \"/azureml-envs/azureml_265db83b0c6014ce472c5de2f0b97e04/lib/python3.6/site-packages/gunicorn/workers/sync.py\", line 35, in wait\n",
            "    ret = select.select(self.wait_fds, [], [], timeout)\n",
            "  File \"/var/azureml-server/routes_common.py\", line 162, in alarm_handler\n",
            "    raise TimeoutException(error_message)\n",
            "timeout_exception.TimeoutException\n",
            "Worker exiting (pid: 70)\n",
            "worker timeout is set to 300\n",
            "Booting worker with pid: 94\n",
            "SPARK_HOME not set. Skipping PySpark Initialization.\n",
            "Initializing logger\n",
            "2021-02-03 03:11:37,968 | root | INFO | Starting up app insights client\n",
            "2021-02-03 03:11:37,968 | root | INFO | Starting up request id generator\n",
            "2021-02-03 03:11:37,968 | root | INFO | Starting up app insight hooks\n",
            "2021-02-03 03:11:37,968 | root | INFO | Invoking user's init function\n",
            "2021-02-03 03:11:39,660 | azureml.core | WARNING | Failure while loading azureml_run_type_providers. Failed to load entrypoint automl = azureml.train.automl.run:AutoMLRun._from_run_dto with exception cannot import name 'RunType'.\n",
            "Failure while loading azureml_run_type_providers. Failed to load entrypoint automl = azureml.train.automl.run:AutoMLRun._from_run_dto with exception cannot import name 'RunType'.\n",
            "2021-02-03 03:11:40,022 | root | INFO | Users's init has completed successfully\n",
            "2021-02-03 03:11:40,023 | root | INFO | Skipping middleware: dbg_model_info as it's not enabled.\n",
            "2021-02-03 03:11:40,023 | root | INFO | Skipping middleware: dbg_resource_usage as it's not enabled.\n",
            "2021-02-03 03:11:40,025 | root | INFO | Scoring timeout is found from os.environ: 60000 ms\n",
            "2021-02-03 03:18:58,056 | root | INFO | 200\n",
            "127.0.0.1 - - [03/Feb/2021:03:18:58 +0000] \"GET /swagger.json HTTP/1.0\" 200 6493 \"-\" \"Go-http-client/1.1\"\n",
            "2021-02-03 03:21:05,256 | root | INFO | 200\n",
            "127.0.0.1 - - [03/Feb/2021:03:21:05 +0000] \"GET /swagger.json HTTP/1.0\" 200 6493 \"-\" \"Go-http-client/1.1\"\n",
            "2021-02-03 03:21:05,481 | root | INFO | Validation Request Content-Type\n",
            "2021-02-03 03:21:05,482 | root | INFO | Scoring Timer is set to 60.0 seconds\n",
            "2021-02-03 03:21:05,493 | root | ERROR | Encountered Exception: Traceback (most recent call last):\n",
            "  File \"/var/azureml-server/synchronous/routes.py\", line 64, in run_scoring\n",
            "    response = invoke_user_with_timer(service_input, request_headers)\n",
            "  File \"/var/azureml-server/synchronous/routes.py\", line 97, in invoke_user_with_timer\n",
            "    result = user_main.run(**params)\n",
            "  File \"/azureml-envs/azureml_265db83b0c6014ce472c5de2f0b97e04/lib/python3.6/site-packages/wrapt/wrappers.py\", line 564, in __call__\n",
            "    args, kwargs)\n",
            "  File \"/azureml-envs/azureml_265db83b0c6014ce472c5de2f0b97e04/lib/python3.6/site-packages/inference_schema/schema_decorators.py\", line 57, in decorator_input\n",
            "    kwargs[param_name] = _deserialize_input_argument(kwargs[param_name], param_type, param_name)\n",
            "  File \"/azureml-envs/azureml_265db83b0c6014ce472c5de2f0b97e04/lib/python3.6/site-packages/inference_schema/schema_decorators.py\", line 285, in _deserialize_input_argument\n",
            "    input_data = param_type.deserialize_input(input_data)\n",
            "  File \"/azureml-envs/azureml_265db83b0c6014ce472c5de2f0b97e04/lib/python3.6/site-packages/inference_schema/parameter_types/pandas_parameter_type.py\", line 53, in deserialize_input\n",
            "    raise Exception(\"Error, unable to convert input of type {} into Pandas Dataframe\".format(type(input_data)))\n",
            "Exception: Error, unable to convert input of type <class 'str'> into Pandas Dataframe\n",
            "\n",
            "During handling of the above exception, another exception occurred:\n",
            "\n",
            "Traceback (most recent call last):\n",
            "  File \"/azureml-envs/azureml_265db83b0c6014ce472c5de2f0b97e04/lib/python3.6/site-packages/flask/app.py\", line 1832, in full_dispatch_request\n",
            "    rv = self.dispatch_request()\n",
            "  File \"/azureml-envs/azureml_265db83b0c6014ce472c5de2f0b97e04/lib/python3.6/site-packages/flask/app.py\", line 1818, in dispatch_request\n",
            "    return self.view_functions[rule.endpoint](**req.view_args)\n",
            "  File \"/var/azureml-server/synchronous/routes.py\", line 43, in score_realtime\n",
            "    return run_scoring(service_input, request.headers, request.environ.get('REQUEST_ID', '00000000-0000-0000-0000-000000000000'))\n",
            "  File \"/var/azureml-server/synchronous/routes.py\", line 77, in run_scoring\n",
            "    raise RunFunctionException(str(exc))\n",
            "run_function_exception.RunFunctionException\n",
            "\n",
            "2021-02-03 03:21:05,493 | root | INFO | 500\n",
            "127.0.0.1 - - [03/Feb/2021:03:21:05 +0000] \"POST /score HTTP/1.0\" 500 74 \"-\" \"python-requests/2.24.0\"\n",
            "2021-02-03 03:21:05,500 | root | INFO | Validation Request Content-Type\n",
            "2021-02-03 03:21:05,500 | root | INFO | Scoring Timer is set to 60.0 seconds\n",
            "2021-02-03 03:21:05,501 | root | ERROR | Encountered Exception: Traceback (most recent call last):\n",
            "  File \"/var/azureml-server/synchronous/routes.py\", line 64, in run_scoring\n",
            "    response = invoke_user_with_timer(service_input, request_headers)\n",
            "  File \"/var/azureml-server/synchronous/routes.py\", line 97, in invoke_user_with_timer\n",
            "    result = user_main.run(**params)\n",
            "  File \"/azureml-envs/azureml_265db83b0c6014ce472c5de2f0b97e04/lib/python3.6/site-packages/wrapt/wrappers.py\", line 564, in __call__\n",
            "    args, kwargs)\n",
            "  File \"/azureml-envs/azureml_265db83b0c6014ce472c5de2f0b97e04/lib/python3.6/site-packages/inference_schema/schema_decorators.py\", line 57, in decorator_input\n",
            "    kwargs[param_name] = _deserialize_input_argument(kwargs[param_name], param_type, param_name)\n",
            "  File \"/azureml-envs/azureml_265db83b0c6014ce472c5de2f0b97e04/lib/python3.6/site-packages/inference_schema/schema_decorators.py\", line 285, in _deserialize_input_argument\n",
            "    input_data = param_type.deserialize_input(input_data)\n",
            "  File \"/azureml-envs/azureml_265db83b0c6014ce472c5de2f0b97e04/lib/python3.6/site-packages/inference_schema/parameter_types/pandas_parameter_type.py\", line 53, in deserialize_input\n",
            "    raise Exception(\"Error, unable to convert input of type {} into Pandas Dataframe\".format(type(input_data)))\n",
            "Exception: Error, unable to convert input of type <class 'str'> into Pandas Dataframe\n",
            "\n",
            "During handling of the above exception, another exception occurred:\n",
            "\n",
            "Traceback (most recent call last):\n",
            "  File \"/azureml-envs/azureml_265db83b0c6014ce472c5de2f0b97e04/lib/python3.6/site-packages/flask/app.py\", line 1832, in full_dispatch_request\n",
            "    rv = self.dispatch_request()\n",
            "  File \"/azureml-envs/azureml_265db83b0c6014ce472c5de2f0b97e04/lib/python3.6/site-packages/flask/app.py\", line 1818, in dispatch_request\n",
            "    return self.view_functions[rule.endpoint](**req.view_args)\n",
            "  File \"/var/azureml-server/synchronous/routes.py\", line 43, in score_realtime\n",
            "    return run_scoring(service_input, request.headers, request.environ.get('REQUEST_ID', '00000000-0000-0000-0000-000000000000'))\n",
            "  File \"/var/azureml-server/synchronous/routes.py\", line 77, in run_scoring\n",
            "    raise RunFunctionException(str(exc))\n",
            "run_function_exception.RunFunctionException\n",
            "\n",
            "2021-02-03 03:21:05,502 | root | INFO | 500\n",
            "127.0.0.1 - - [03/Feb/2021:03:21:05 +0000] \"POST /score HTTP/1.0\" 500 74 \"-\" \"python-requests/2.24.0\"\n",
            "2021-02-03 03:21:06,509 | root | INFO | Validation Request Content-Type\n",
            "2021-02-03 03:21:06,509 | root | INFO | Scoring Timer is set to 60.0 seconds\n",
            "2021-02-03 03:21:06,510 | root | ERROR | Encountered Exception: Traceback (most recent call last):\n",
            "  File \"/var/azureml-server/synchronous/routes.py\", line 64, in run_scoring\n",
            "    response = invoke_user_with_timer(service_input, request_headers)\n",
            "  File \"/var/azureml-server/synchronous/routes.py\", line 97, in invoke_user_with_timer\n",
            "    result = user_main.run(**params)\n",
            "  File \"/azureml-envs/azureml_265db83b0c6014ce472c5de2f0b97e04/lib/python3.6/site-packages/wrapt/wrappers.py\", line 564, in __call__\n",
            "    args, kwargs)\n",
            "  File \"/azureml-envs/azureml_265db83b0c6014ce472c5de2f0b97e04/lib/python3.6/site-packages/inference_schema/schema_decorators.py\", line 57, in decorator_input\n",
            "    kwargs[param_name] = _deserialize_input_argument(kwargs[param_name], param_type, param_name)\n",
            "  File \"/azureml-envs/azureml_265db83b0c6014ce472c5de2f0b97e04/lib/python3.6/site-packages/inference_schema/schema_decorators.py\", line 285, in _deserialize_input_argument\n",
            "    input_data = param_type.deserialize_input(input_data)\n",
            "  File \"/azureml-envs/azureml_265db83b0c6014ce472c5de2f0b97e04/lib/python3.6/site-packages/inference_schema/parameter_types/pandas_parameter_type.py\", line 53, in deserialize_input\n",
            "    raise Exception(\"Error, unable to convert input of type {} into Pandas Dataframe\".format(type(input_data)))\n",
            "Exception: Error, unable to convert input of type <class 'str'> into Pandas Dataframe\n",
            "\n",
            "During handling of the above exception, another exception occurred:\n",
            "\n",
            "Traceback (most recent call last):\n",
            "  File \"/azureml-envs/azureml_265db83b0c6014ce472c5de2f0b97e04/lib/python3.6/site-packages/flask/app.py\", line 1832, in full_dispatch_request\n",
            "    rv = self.dispatch_request()\n",
            "  File \"/azureml-envs/azureml_265db83b0c6014ce472c5de2f0b97e04/lib/python3.6/site-packages/flask/app.py\", line 1818, in dispatch_request\n",
            "    return self.view_functions[rule.endpoint](**req.view_args)\n",
            "  File \"/var/azureml-server/synchronous/routes.py\", line 43, in score_realtime\n",
            "    return run_scoring(service_input, request.headers, request.environ.get('REQUEST_ID', '00000000-0000-0000-0000-000000000000'))\n",
            "  File \"/var/azureml-server/synchronous/routes.py\", line 77, in run_scoring\n",
            "    raise RunFunctionException(str(exc))\n",
            "run_function_exception.RunFunctionException\n",
            "\n",
            "2021-02-03 03:21:06,510 | root | INFO | 500\n",
            "127.0.0.1 - - [03/Feb/2021:03:21:06 +0000] \"POST /score HTTP/1.0\" 500 74 \"-\" \"python-requests/2.24.0\"\n",
            "2021-02-03 03:21:08,521 | root | INFO | Validation Request Content-Type\n",
            "2021-02-03 03:21:08,522 | root | INFO | Scoring Timer is set to 60.0 seconds\n",
            "2021-02-03 03:21:08,523 | root | ERROR | Encountered Exception: Traceback (most recent call last):\n",
            "  File \"/var/azureml-server/synchronous/routes.py\", line 64, in run_scoring\n",
            "    response = invoke_user_with_timer(service_input, request_headers)\n",
            "  File \"/var/azureml-server/synchronous/routes.py\", line 97, in invoke_user_with_timer\n",
            "    result = user_main.run(**params)\n",
            "  File \"/azureml-envs/azureml_265db83b0c6014ce472c5de2f0b97e04/lib/python3.6/site-packages/wrapt/wrappers.py\", line 564, in __call__\n",
            "    args, kwargs)\n",
            "  File \"/azureml-envs/azureml_265db83b0c6014ce472c5de2f0b97e04/lib/python3.6/site-packages/inference_schema/schema_decorators.py\", line 57, in decorator_input\n",
            "    kwargs[param_name] = _deserialize_input_argument(kwargs[param_name], param_type, param_name)\n",
            "  File \"/azureml-envs/azureml_265db83b0c6014ce472c5de2f0b97e04/lib/python3.6/site-packages/inference_schema/schema_decorators.py\", line 285, in _deserialize_input_argument\n",
            "    input_data = param_type.deserialize_input(input_data)\n",
            "  File \"/azureml-envs/azureml_265db83b0c6014ce472c5de2f0b97e04/lib/python3.6/site-packages/inference_schema/parameter_types/pandas_parameter_type.py\", line 53, in deserialize_input\n",
            "    raise Exception(\"Error, unable to convert input of type {} into Pandas Dataframe\".format(type(input_data)))\n",
            "Exception: Error, unable to convert input of type <class 'str'> into Pandas Dataframe\n",
            "\n",
            "During handling of the above exception, another exception occurred:\n",
            "\n",
            "Traceback (most recent call last):\n",
            "  File \"/azureml-envs/azureml_265db83b0c6014ce472c5de2f0b97e04/lib/python3.6/site-packages/flask/app.py\", line 1832, in full_dispatch_request\n",
            "    rv = self.dispatch_request()\n",
            "  File \"/azureml-envs/azureml_265db83b0c6014ce472c5de2f0b97e04/lib/python3.6/site-packages/flask/app.py\", line 1818, in dispatch_request\n",
            "    return self.view_functions[rule.endpoint](**req.view_args)\n",
            "  File \"/var/azureml-server/synchronous/routes.py\", line 43, in score_realtime\n",
            "    return run_scoring(service_input, request.headers, request.environ.get('REQUEST_ID', '00000000-0000-0000-0000-000000000000'))\n",
            "  File \"/var/azureml-server/synchronous/routes.py\", line 77, in run_scoring\n",
            "    raise RunFunctionException(str(exc))\n",
            "run_function_exception.RunFunctionException\n",
            "\n",
            "2021-02-03 03:21:08,523 | root | INFO | 500\n",
            "127.0.0.1 - - [03/Feb/2021:03:21:08 +0000] \"POST /score HTTP/1.0\" 500 74 \"-\" \"python-requests/2.24.0\"\n",
            "Exception in worker process\n",
            "Traceback (most recent call last):\n",
            "  File \"/azureml-envs/azureml_265db83b0c6014ce472c5de2f0b97e04/lib/python3.6/site-packages/gunicorn/arbiter.py\", line 583, in spawn_worker\n",
            "    worker.init_process()\n",
            "  File \"/azureml-envs/azureml_265db83b0c6014ce472c5de2f0b97e04/lib/python3.6/site-packages/gunicorn/workers/base.py\", line 134, in init_process\n",
            "    self.run()\n",
            "  File \"/azureml-envs/azureml_265db83b0c6014ce472c5de2f0b97e04/lib/python3.6/site-packages/gunicorn/workers/sync.py\", line 124, in run\n",
            "    self.run_for_one(timeout)\n",
            "  File \"/azureml-envs/azureml_265db83b0c6014ce472c5de2f0b97e04/lib/python3.6/site-packages/gunicorn/workers/sync.py\", line 83, in run_for_one\n",
            "    self.wait(timeout)\n",
            "  File \"/azureml-envs/azureml_265db83b0c6014ce472c5de2f0b97e04/lib/python3.6/site-packages/gunicorn/workers/sync.py\", line 35, in wait\n",
            "    ret = select.select(self.wait_fds, [], [], timeout)\n",
            "  File \"/var/azureml-server/routes_common.py\", line 162, in alarm_handler\n",
            "    raise TimeoutException(error_message)\n",
            "timeout_exception.TimeoutException\n",
            "Worker exiting (pid: 94)\n",
            "worker timeout is set to 300\n",
            "Booting worker with pid: 117\n",
            "SPARK_HOME not set. Skipping PySpark Initialization.\n",
            "Initializing logger\n",
            "2021-02-03 03:22:10,219 | root | INFO | Starting up app insights client\n",
            "2021-02-03 03:22:10,219 | root | INFO | Starting up request id generator\n",
            "2021-02-03 03:22:10,219 | root | INFO | Starting up app insight hooks\n",
            "2021-02-03 03:22:10,219 | root | INFO | Invoking user's init function\n",
            "2021-02-03 03:22:11,910 | azureml.core | WARNING | Failure while loading azureml_run_type_providers. Failed to load entrypoint automl = azureml.train.automl.run:AutoMLRun._from_run_dto with exception cannot import name 'RunType'.\n",
            "Failure while loading azureml_run_type_providers. Failed to load entrypoint automl = azureml.train.automl.run:AutoMLRun._from_run_dto with exception cannot import name 'RunType'.\n",
            "2021-02-03 03:22:12,260 | root | INFO | Users's init has completed successfully\n",
            "2021-02-03 03:22:12,261 | root | INFO | Skipping middleware: dbg_model_info as it's not enabled.\n",
            "2021-02-03 03:22:12,261 | root | INFO | Skipping middleware: dbg_resource_usage as it's not enabled.\n",
            "2021-02-03 03:22:12,263 | root | INFO | Scoring timeout is found from os.environ: 60000 ms\n",
            "2021-02-03 03:22:12,271 | root | INFO | 200\n",
            "127.0.0.1 - - [03/Feb/2021:03:22:12 +0000] \"GET /swagger.json HTTP/1.0\" 200 6493 \"-\" \"Go-http-client/1.1\"\n",
            "2021-02-03 03:24:04,692 | root | INFO | 200\n",
            "127.0.0.1 - - [03/Feb/2021:03:24:04 +0000] \"GET /swagger.json HTTP/1.0\" 200 6493 \"-\" \"Go-http-client/1.1\"\n",
            "127.0.0.1 - - [03/Feb/2021:03:30:12 +0000] \"GET /w00tw00t.at.blackhats.romanian.anti-sec:%29 HTTP/1.0\" 404 232 \"-\" \"ZmEu\"\n",
            "127.0.0.1 - - [03/Feb/2021:03:30:12 +0000] \"GET /phpMyAdmin/scripts/setup.php HTTP/1.0\" 404 232 \"-\" \"ZmEu\"\n",
            "2021-02-03 03:34:53,783 | root | INFO | 200\n",
            "127.0.0.1 - - [03/Feb/2021:03:34:53 +0000] \"GET /swagger.json HTTP/1.0\" 200 6493 \"-\" \"Go-http-client/1.1\"\n",
            "2021-02-03 03:34:54,061 | root | INFO | Validation Request Content-Type\n",
            "2021-02-03 03:34:54,062 | root | INFO | Scoring Timer is set to 60.0 seconds\n",
            "2021-02-03 03:34:54,303 | root | INFO | 200\n",
            "127.0.0.1 - - [03/Feb/2021:03:34:54 +0000] \"POST /score HTTP/1.0\" 200 19 \"-\" \"python-requests/2.24.0\"\n",
            "2021-02-03 03:36:39,501 | root | INFO | 200\n",
            "127.0.0.1 - - [03/Feb/2021:03:36:39 +0000] \"GET /swagger.json HTTP/1.0\" 200 6493 \"-\" \"Go-http-client/1.1\"\n",
            "2021-02-03 03:36:39,734 | root | INFO | Validation Request Content-Type\n",
            "2021-02-03 03:36:39,735 | root | INFO | Scoring Timer is set to 60.0 seconds\n",
            "2021-02-03 03:36:39,756 | root | ERROR | Encountered Exception: Traceback (most recent call last):\n",
            "  File \"/var/azureml-server/synchronous/routes.py\", line 64, in run_scoring\n",
            "    response = invoke_user_with_timer(service_input, request_headers)\n",
            "  File \"/var/azureml-server/synchronous/routes.py\", line 97, in invoke_user_with_timer\n",
            "    result = user_main.run(**params)\n",
            "  File \"/azureml-envs/azureml_265db83b0c6014ce472c5de2f0b97e04/lib/python3.6/site-packages/wrapt/wrappers.py\", line 564, in __call__\n",
            "    args, kwargs)\n",
            "  File \"/azureml-envs/azureml_265db83b0c6014ce472c5de2f0b97e04/lib/python3.6/site-packages/inference_schema/schema_decorators.py\", line 61, in decorator_input\n",
            "    return user_run(*args, **kwargs)\n",
            "  File \"/azureml-envs/azureml_265db83b0c6014ce472c5de2f0b97e04/lib/python3.6/site-packages/wrapt/wrappers.py\", line 564, in __call__\n",
            "    args, kwargs)\n",
            "  File \"/azureml-envs/azureml_265db83b0c6014ce472c5de2f0b97e04/lib/python3.6/site-packages/inference_schema/schema_decorators.py\", line 88, in decorator_input\n",
            "    return user_run(*args, **kwargs)\n",
            "TypeError: run() got an unexpected keyword argument 'method'\n",
            "\n",
            "During handling of the above exception, another exception occurred:\n",
            "\n",
            "Traceback (most recent call last):\n",
            "  File \"/azureml-envs/azureml_265db83b0c6014ce472c5de2f0b97e04/lib/python3.6/site-packages/flask/app.py\", line 1832, in full_dispatch_request\n",
            "    rv = self.dispatch_request()\n",
            "  File \"/azureml-envs/azureml_265db83b0c6014ce472c5de2f0b97e04/lib/python3.6/site-packages/flask/app.py\", line 1818, in dispatch_request\n",
            "    return self.view_functions[rule.endpoint](**req.view_args)\n",
            "  File \"/var/azureml-server/synchronous/routes.py\", line 43, in score_realtime\n",
            "    return run_scoring(service_input, request.headers, request.environ.get('REQUEST_ID', '00000000-0000-0000-0000-000000000000'))\n",
            "  File \"/var/azureml-server/synchronous/routes.py\", line 77, in run_scoring\n",
            "    raise RunFunctionException(str(exc))\n",
            "run_function_exception.RunFunctionException\n",
            "\n",
            "2021-02-03 03:36:39,756 | root | INFO | 500\n",
            "127.0.0.1 - - [03/Feb/2021:03:36:39 +0000] \"POST /score HTTP/1.0\" 500 49 \"-\" \"python-requests/2.24.0\"\n",
            "2021-02-03 03:36:39,762 | root | INFO | Validation Request Content-Type\n",
            "2021-02-03 03:36:39,762 | root | INFO | Scoring Timer is set to 60.0 seconds\n",
            "2021-02-03 03:36:39,777 | root | ERROR | Encountered Exception: Traceback (most recent call last):\n",
            "  File \"/var/azureml-server/synchronous/routes.py\", line 64, in run_scoring\n",
            "    response = invoke_user_with_timer(service_input, request_headers)\n",
            "  File \"/var/azureml-server/synchronous/routes.py\", line 97, in invoke_user_with_timer\n",
            "    result = user_main.run(**params)\n",
            "  File \"/azureml-envs/azureml_265db83b0c6014ce472c5de2f0b97e04/lib/python3.6/site-packages/wrapt/wrappers.py\", line 564, in __call__\n",
            "    args, kwargs)\n",
            "  File \"/azureml-envs/azureml_265db83b0c6014ce472c5de2f0b97e04/lib/python3.6/site-packages/inference_schema/schema_decorators.py\", line 61, in decorator_input\n",
            "    return user_run(*args, **kwargs)\n",
            "  File \"/azureml-envs/azureml_265db83b0c6014ce472c5de2f0b97e04/lib/python3.6/site-packages/wrapt/wrappers.py\", line 564, in __call__\n",
            "    args, kwargs)\n",
            "  File \"/azureml-envs/azureml_265db83b0c6014ce472c5de2f0b97e04/lib/python3.6/site-packages/inference_schema/schema_decorators.py\", line 88, in decorator_input\n",
            "    return user_run(*args, **kwargs)\n",
            "TypeError: run() got an unexpected keyword argument 'method'\n",
            "\n",
            "During handling of the above exception, another exception occurred:\n",
            "\n",
            "Traceback (most recent call last):\n",
            "  File \"/azureml-envs/azureml_265db83b0c6014ce472c5de2f0b97e04/lib/python3.6/site-packages/flask/app.py\", line 1832, in full_dispatch_request\n",
            "    rv = self.dispatch_request()\n",
            "  File \"/azureml-envs/azureml_265db83b0c6014ce472c5de2f0b97e04/lib/python3.6/site-packages/flask/app.py\", line 1818, in dispatch_request\n",
            "    return self.view_functions[rule.endpoint](**req.view_args)\n",
            "  File \"/var/azureml-server/synchronous/routes.py\", line 43, in score_realtime\n",
            "    return run_scoring(service_input, request.headers, request.environ.get('REQUEST_ID', '00000000-0000-0000-0000-000000000000'))\n",
            "  File \"/var/azureml-server/synchronous/routes.py\", line 77, in run_scoring\n",
            "    raise RunFunctionException(str(exc))\n",
            "run_function_exception.RunFunctionException\n",
            "\n",
            "2021-02-03 03:36:39,777 | root | INFO | 500\n",
            "127.0.0.1 - - [03/Feb/2021:03:36:39 +0000] \"POST /score HTTP/1.0\" 500 49 \"-\" \"python-requests/2.24.0\"\n",
            "2021-02-03 03:36:40,784 | root | INFO | Validation Request Content-Type\n",
            "2021-02-03 03:36:40,785 | root | INFO | Scoring Timer is set to 60.0 seconds\n",
            "2021-02-03 03:36:40,803 | root | ERROR | Encountered Exception: Traceback (most recent call last):\n",
            "  File \"/var/azureml-server/synchronous/routes.py\", line 64, in run_scoring\n",
            "    response = invoke_user_with_timer(service_input, request_headers)\n",
            "  File \"/var/azureml-server/synchronous/routes.py\", line 97, in invoke_user_with_timer\n",
            "    result = user_main.run(**params)\n",
            "  File \"/azureml-envs/azureml_265db83b0c6014ce472c5de2f0b97e04/lib/python3.6/site-packages/wrapt/wrappers.py\", line 564, in __call__\n",
            "    args, kwargs)\n",
            "  File \"/azureml-envs/azureml_265db83b0c6014ce472c5de2f0b97e04/lib/python3.6/site-packages/inference_schema/schema_decorators.py\", line 61, in decorator_input\n",
            "    return user_run(*args, **kwargs)\n",
            "  File \"/azureml-envs/azureml_265db83b0c6014ce472c5de2f0b97e04/lib/python3.6/site-packages/wrapt/wrappers.py\", line 564, in __call__\n",
            "    args, kwargs)\n",
            "  File \"/azureml-envs/azureml_265db83b0c6014ce472c5de2f0b97e04/lib/python3.6/site-packages/inference_schema/schema_decorators.py\", line 88, in decorator_input\n",
            "    return user_run(*args, **kwargs)\n",
            "TypeError: run() got an unexpected keyword argument 'method'\n",
            "\n",
            "During handling of the above exception, another exception occurred:\n",
            "\n",
            "Traceback (most recent call last):\n",
            "  File \"/azureml-envs/azureml_265db83b0c6014ce472c5de2f0b97e04/lib/python3.6/site-packages/flask/app.py\", line 1832, in full_dispatch_request\n",
            "    rv = self.dispatch_request()\n",
            "  File \"/azureml-envs/azureml_265db83b0c6014ce472c5de2f0b97e04/lib/python3.6/site-packages/flask/app.py\", line 1818, in dispatch_request\n",
            "    return self.view_functions[rule.endpoint](**req.view_args)\n",
            "  File \"/var/azureml-server/synchronous/routes.py\", line 43, in score_realtime\n",
            "    return run_scoring(service_input, request.headers, request.environ.get('REQUEST_ID', '00000000-0000-0000-0000-000000000000'))\n",
            "  File \"/var/azureml-server/synchronous/routes.py\", line 77, in run_scoring\n",
            "    raise RunFunctionException(str(exc))\n",
            "run_function_exception.RunFunctionException\n",
            "\n",
            "2021-02-03 03:36:40,803 | root | INFO | 500\n",
            "127.0.0.1 - - [03/Feb/2021:03:36:40 +0000] \"POST /score HTTP/1.0\" 500 49 \"-\" \"python-requests/2.24.0\"\n",
            "2021-02-03 03:36:42,812 | root | INFO | Validation Request Content-Type\n",
            "2021-02-03 03:36:42,813 | root | INFO | Scoring Timer is set to 60.0 seconds\n",
            "2021-02-03 03:36:42,831 | root | ERROR | Encountered Exception: Traceback (most recent call last):\n",
            "  File \"/var/azureml-server/synchronous/routes.py\", line 64, in run_scoring\n",
            "    response = invoke_user_with_timer(service_input, request_headers)\n",
            "  File \"/var/azureml-server/synchronous/routes.py\", line 97, in invoke_user_with_timer\n",
            "    result = user_main.run(**params)\n",
            "  File \"/azureml-envs/azureml_265db83b0c6014ce472c5de2f0b97e04/lib/python3.6/site-packages/wrapt/wrappers.py\", line 564, in __call__\n",
            "    args, kwargs)\n",
            "  File \"/azureml-envs/azureml_265db83b0c6014ce472c5de2f0b97e04/lib/python3.6/site-packages/inference_schema/schema_decorators.py\", line 61, in decorator_input\n",
            "    return user_run(*args, **kwargs)\n",
            "  File \"/azureml-envs/azureml_265db83b0c6014ce472c5de2f0b97e04/lib/python3.6/site-packages/wrapt/wrappers.py\", line 564, in __call__\n",
            "    args, kwargs)\n",
            "  File \"/azureml-envs/azureml_265db83b0c6014ce472c5de2f0b97e04/lib/python3.6/site-packages/inference_schema/schema_decorators.py\", line 88, in decorator_input\n",
            "    return user_run(*args, **kwargs)\n",
            "TypeError: run() got an unexpected keyword argument 'method'\n",
            "\n",
            "During handling of the above exception, another exception occurred:\n",
            "\n",
            "Traceback (most recent call last):\n",
            "  File \"/azureml-envs/azureml_265db83b0c6014ce472c5de2f0b97e04/lib/python3.6/site-packages/flask/app.py\", line 1832, in full_dispatch_request\n",
            "    rv = self.dispatch_request()\n",
            "  File \"/azureml-envs/azureml_265db83b0c6014ce472c5de2f0b97e04/lib/python3.6/site-packages/flask/app.py\", line 1818, in dispatch_request\n",
            "    return self.view_functions[rule.endpoint](**req.view_args)\n",
            "  File \"/var/azureml-server/synchronous/routes.py\", line 43, in score_realtime\n",
            "    return run_scoring(service_input, request.headers, request.environ.get('REQUEST_ID', '00000000-0000-0000-0000-000000000000'))\n",
            "  File \"/var/azureml-server/synchronous/routes.py\", line 77, in run_scoring\n",
            "    raise RunFunctionException(str(exc))\n",
            "run_function_exception.RunFunctionException\n",
            "\n",
            "2021-02-03 03:36:42,831 | root | INFO | 500\n",
            "127.0.0.1 - - [03/Feb/2021:03:36:42 +0000] \"POST /score HTTP/1.0\" 500 49 \"-\" \"python-requests/2.24.0\"\n",
            "2021-02-03 03:37:10,457 | root | INFO | 200\n",
            "127.0.0.1 - - [03/Feb/2021:03:37:10 +0000] \"GET /swagger.json HTTP/1.0\" 200 6493 \"-\" \"Go-http-client/1.1\"\n",
            "2021-02-03 03:37:10,642 | root | INFO | Validation Request Content-Type\n",
            "2021-02-03 03:37:10,643 | root | INFO | Scoring Timer is set to 60.0 seconds\n",
            "2021-02-03 03:37:10,893 | root | INFO | 200\n",
            "127.0.0.1 - - [03/Feb/2021:03:37:10 +0000] \"POST /score HTTP/1.0\" 200 19 \"-\" \"python-requests/2.24.0\"\n",
            "\n"
          ]
        }
      ],
      "execution_count": 14,
      "metadata": {
        "jupyter": {
          "outputs_hidden": false,
          "source_hidden": false
        },
        "nteract": {
          "transient": {
            "deleting": false
          }
        },
        "gather": {
          "logged": 1612323477475
        }
      }
    }
  ],
  "metadata": {
    "kernel_info": {
      "name": "python3-azureml"
    },
    "kernelspec": {
      "name": "python3-azureml",
      "language": "python",
      "display_name": "Python 3.6 - AzureML"
    },
    "language_info": {
      "name": "python",
      "version": "3.6.9",
      "mimetype": "text/x-python",
      "codemirror_mode": {
        "name": "ipython",
        "version": 3
      },
      "pygments_lexer": "ipython3",
      "nbconvert_exporter": "python",
      "file_extension": ".py"
    },
    "nteract": {
      "version": "nteract-front-end@1.0.0"
    }
  },
  "nbformat": 4,
  "nbformat_minor": 2
}